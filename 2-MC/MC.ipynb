{
 "cells": [
  {
   "cell_type": "markdown",
   "metadata": {},
   "source": [
    "2018 Edition"
   ]
  },
  {
   "cell_type": "markdown",
   "metadata": {},
   "source": [
    "# Estimating Financial Risk through Monte Carlo Simulation\n",
    "Risk analysis is part of every decision we make when faced with uncertainty, ambiguity, and variability. Indeed, even though we have unprecedented access to information, we can't accurately predict the future. In finance, there is a fair amount of uncertainty and risk involved with estimating the future value of financial products, due to the wide variety of potential outcomes. Monte Carlo simulation (also known as the Monte Carlo Method) allows inspecting many possible outcomes of the decision making process, and can be used to assess the impact of risk: this, in turns, allows for better decision-making under uncertainty.\n",
    "\n",
    "## Goals\n",
    "The main objectives we set for this Notebook are as follows:\n",
    "1. Develop fundamental knowledge about Risk analysis\n",
    "2. Understand Monte Carlo Simulation (MCS)\n",
    "3. Apply Monte Carlo Simulation for predicting risk\n",
    "\n",
    "\n",
    "## Steps\n",
    "1. First, in section 1, we introduce the basics of MCS\n",
    "2. In section 2, we work on a simple example to where we apply the MCS method\n",
    "3. In section 3, we briefly summarize the main characteristics of the Monte Carlo Simulation (MCS) technique\n",
    "4. In section 4, we overview the common distributions which are often used in MCS\n",
    "5. In section 5, we work on a real use case, that focuses on estimating financial risk. We will use techniques such as featurization  (that is, generating additional features to improve model accuracy), linear regression, kernel density estimation, sampling distributions and so on ...\n",
    "\n",
    "## Reference\n",
    "This Notebook is inspired by Chapter 9 of the book [Advanced Analytics with Spark](http://shop.oreilly.com/product/0636920035091.do) by Josh Wills, Sandy Ryza, Sean Owen, and Uri Laserson. It is strongly suggested to read this Chapter to get a general idea of the topic of this Notebook.\n",
    "\n",
    "# 1. Introduction\n",
    "\n",
    "## 1.1. Monte Carlo Simulation (MCS)\n",
    "Monte Carlo simulation is a computerized mathematical technique that can be applied such that it is possible to account for risk in quantitative analysis and decision making. This technique is used in many different fields, such as R&D, risk management, portfolio management, pricing derivatives, strategic planning, project planning, cost modeling and many more.\n",
    "\n",
    "In general, MCS is a technique that \"converts\" uncertainty on input variables of a model into **probability distributions**. By combining the distributions and randomly selecting values from them, it recalculates the simulated model many times, to determine the probability of the output.\n",
    "\n",
    "Historically, this technique was first used by scientists working on the atomic bomb: it was named after Monte Carlo, the Monaco resort town renowned for its casinos.  Since its introduction in World War II, Monte Carlo simulation has been used to model a variety of physical and conceptual systems.\n",
    "\n",
    "## 1.2. How does it work?\n",
    "Monte Carlo simulation performs risk analysis by building models of possible results by *substituting a range of possible input values, that constitute uncertainty, into a statistical distribution*. It then computes possible outcomes repeatedly, each time using a different set of random values from the probability functions that \"model\" the input. Depending upon the number of random input variables and their distribution, a Monte Carlo simulation could involve thousands or tens of thousands of \"rounds\" before it is complete. When complete, *Monte Carlo simulation produces distributions of possible outcome values*.\n",
    "\n",
    "By using probability distributions instead of actual input samples, it is possible to model more accurately uncertainty: different choices of distributions will yield different outputs."
   ]
  },
  {
   "cell_type": "markdown",
   "metadata": {},
   "source": [
    "# 2. Illustrative example\n",
    "\n",
    "Imagine you are the marketing manager for a firm that is planning to introduce a new product. You need to estimate the first-year net profit from this product, which might depend on:\n",
    "\n",
    "- Sales volume in units\n",
    "- Price per unit (also called \"Selling price\")\n",
    "- Unit cost\n",
    "- Fixed costs\n",
    "\n",
    "Net profit will be calculated as $Net Profit = Sales Volume* (Selling Price - Unit cost) - Fixed costs$.  Fixed costs (accounting for various overheads, advertising budget, etc.) are known to be \\$ 120,000, which we assume to be deterministic. All other factors, instead, involve some uncertainty: *sales volume* (in units) can cover quite a large range, the *selling price* per unit will depend on competitor actions, which are hard to predict, and *unit costs* will also vary depending on vendor prices and production experience, for example.\n",
    "\n",
    "Now, to build a risk analysis model, we must first identify the uncertain variables -- which are essentially random variables.  While there's some uncertainty in almost all variables in a business model, we want to focus on variables where the range of values is significant."
   ]
  },
  {
   "cell_type": "markdown",
   "metadata": {},
   "source": [
    "## 2.1. Unit sales and unit price\n",
    "\n",
    "Based on a hypothetical market research you have done, you have beliefs that there are equal chances for the market to be `slow`, `normal`, or `hot`:\n",
    "\n",
    "- In a \"slow\" market, you expect to sell 50,000 units at an average selling price of \\$11.00 per unit\n",
    "- In a \"normal\" market, you expect to sell 75,000 units, but you'll likely realize a lower average selling price of \\$10.00 per unit\n",
    "- In a \"hot\" market, you expect to sell 100,000 units, but this will bring in competitors, who will drive down the average selling price to \\$8.00 per unit"
   ]
  },
  {
   "cell_type": "code",
   "execution_count": 1,
   "metadata": {},
   "outputs": [],
   "source": [
    "import numpy as np\n",
    "import pandas as pd\n",
    "import matplotlib.pyplot as plt"
   ]
  },
  {
   "cell_type": "markdown",
   "metadata": {},
   "source": [
    "### Question 1\n",
    "<div class=\"alert alert-info\">\n",
    "Calculate the average units and the unit price that you expect to sell, which depend on the market state. Use the assumptions above to compute the expected quantity of products and their expected unit price. \n",
    "</div>\n"
   ]
  },
  {
   "cell_type": "code",
   "execution_count": 2,
   "metadata": {},
   "outputs": [
    {
     "name": "stdout",
     "output_type": "stream",
     "text": [
      "average unit: 75000.0\n",
      "average_price: 9.666666666666666\n"
     ]
    }
   ],
   "source": [
    "units  = dict(slow=50000, normal=75000, hot=100000) \n",
    "prices = dict(slow=11.  , normal=10.  , hot=8.) \n",
    "\n",
    "average_unit  = np.mean(list(units.values()))\n",
    "average_price = np.mean(list(prices.values()))\n",
    "\n",
    "print(\"average unit:\", average_unit)\n",
    "print(\"average_price:\", average_price)"
   ]
  },
  {
   "cell_type": "markdown",
   "metadata": {},
   "source": [
    "## 2.2. Unit Cost\n",
    "\n",
    "Another uncertain variable is Unit Cost. In our illustrative example, we assume that your firm's production manager advises you that unit costs may be anywhere from \\$5.50 to \\$7.50, with a most likely expected cost of \\$6.50. In this case, the most likely cost can be considered as the average cost."
   ]
  },
  {
   "cell_type": "markdown",
   "metadata": {},
   "source": [
    "## 2.3. A Flawed Model: using averages to represent our random variables\n",
    "Our next step is to identify uncertain functions -- also called functions of a random variable.  Recall that Net Profit is calculated as $Net Profit = Sales Volume * (Selling Price - Unit cost) - Fixed costs$.  However, Sales Volume, Selling Price and Unit Cost are all uncertain variables, so Net Profit is an uncertain function.\n",
    "\n",
    "The simplest model to predict the Net Profit is using average of sales volume, average of selling price and average of unit cost for calculating. So, if only consider averages, we can say that the $Net Profit = 75,000*(9.66666666 - 6.5) - 120,000 \\sim 117,500$.\n",
    "\n",
    "However, as [Dr. Sam Savage](http://web.stanford.edu/~savage/faculty/savage/) warns, \"Plans based on average assumptions will be wrong on average.\" The calculated result is far from the actual value: indeed, the **true average Net Profit** is roughly  \\$93,000, as we will see later in the example."
   ]
  },
  {
   "cell_type": "markdown",
   "metadata": {},
   "source": [
    "### Question 2\n",
    "#### Question 2.1\n",
    "<div class=\"alert alert-info\">\n",
    "Write a function named `calNetProfit` to calculate the Net Profit using the average of sales volume, the average of selling price and the average of unit cost.\n",
    "</div>"
   ]
  },
  {
   "cell_type": "code",
   "execution_count": 3,
   "metadata": {},
   "outputs": [
    {
     "name": "stdout",
     "output_type": "stream",
     "text": [
      "Net profit: 117499.99999999994\n"
     ]
    }
   ],
   "source": [
    "def calNetProfit(average_unit, average_price, average_unitcost, fixed_cost):\n",
    "    return average_unit*(average_price-average_unitcost)-fixed_cost\n",
    "\n",
    "average_unitcost = 6.5\n",
    "fixed_cost = 120000\n",
    "NetProfit = calNetProfit(average_unit, average_price, average_unitcost, fixed_cost)\n",
    "print(\"Net profit:\", NetProfit)"
   ]
  },
  {
   "cell_type": "markdown",
   "metadata": {},
   "source": [
    "#### Question 2.2\n",
    "<div class=\"alert alert-info\">\n",
    "Verify the warning message of Dr. Sam Savage by calculating the error of our estimated Net Profit using averages only. Recall that the true value is roughly \\$93,000, so we are interested in:\n",
    "<ul></ul>\n",
    "\n",
    "$$ error = \\frac{your\\_value - true\\_value}{true\\_value}$$\n",
    "\n",
    "<ul></ul>\n",
    "Note also we are interested in displaying the error as a percentage.\n",
    "<ul></ul>\n",
    "Looking at the error we make, do you think that we can use the current model that only relies on averages?\n",
    "</div>"
   ]
  },
  {
   "cell_type": "code",
   "execution_count": 4,
   "metadata": {},
   "outputs": [
    {
     "name": "stdout",
     "output_type": "stream",
     "text": [
      "Error in percentage: 26.34\n"
     ]
    }
   ],
   "source": [
    "trueNetProfit = 93000\n",
    "error = (NetProfit - trueNetProfit) / (trueNetProfit)\n",
    "print(\"Error in percentage: {:.2f}\".format(error * 100))"
   ]
  },
  {
   "cell_type": "markdown",
   "metadata": {},
   "source": [
    "<div class=\"alert alert-success\">\n",
    "There's an error of 26% which is huge. That error confirms what Dr Sam Savage said: taking a variable-wise average is not good as the function is supposed to depend of many variables.\n",
    "<br>\n",
    "We can say that this model is flawed.\n",
    "</div>"
   ]
  },
  {
   "cell_type": "markdown",
   "metadata": {},
   "source": [
    "## 2.4. Using the Monte Carlo Simulation method to improve our model\n",
    "As discussed before, the selling price and selling volume both depend on the state of the market scenario (slow/normal/hot). So, the net profit is the result of two random variables: `market scenario` (which in turn determines `sales volumes` and `selling price`) and `unit cost`.\n",
    "\n",
    "Now, let's assume (this is an *a-priori* assumption we make) that `market scenario` follows a discrete, uniform distribution and that `unit cost` also follows a uniform distribution. Then, we can compute directly the values for selling price and selling volumes based on the outcome of the random variable `market scenario`, as shown in Section 2.1.\n",
    "\n",
    "From these a-priori distributions, in each run (or trial) of our Monte Carlo simulation, we can generate the sample value for each random variable and use it to calculate the Net Profit. The more simulation runs, the more accurate our results will be. For example, if we run the simulation 100,000 times, the average net profit will amount to roughly \\$92,600. Every time we run the simulation, a different prediction will be output: the average of such predictions will consistently be less than \\$117,500, which we predicted using averages only.\n",
    "\n",
    "Note also that in this simple example, we generate values for the `market scenario` and `unit cost` independently: we consider them to be **independent random variables**. This means that the eventual (and realistic!) correlation between the `market scenario` and `unit cost` variables is ignored. Later, we will learn how to be more precise and account for dependency between random variables.\n"
   ]
  },
  {
   "cell_type": "markdown",
   "metadata": {},
   "source": [
    "### Question 3\n",
    "#### Question 3.1\n",
    "<div class=\"alert alert-info\">\n",
    "Write a function named `get_sales_volume_price` that returns the sales volume and price based on the market scenario. In particular, the scenario can get one of three values:\n",
    "<ul>\n",
    "  <li>0: Slow market</li>\n",
    "  <li>1: Normal market</li>\n",
    "  <li>2: Hot market</li>\n",
    "</ul>  \n",
    "\n",
    "The return value is a tuple in the form: `(sales_volume, price)`\n",
    "</div>"
   ]
  },
  {
   "cell_type": "code",
   "execution_count": 5,
   "metadata": {},
   "outputs": [],
   "source": [
    "\n",
    "# Get sales volume and  price based on market scenario\n",
    "# the function returns a tuple of (sales_volume, price)\n",
    "def get_sales_volume_price(scenario):\n",
    "    # Slow market\n",
    "    if scenario == 0:\n",
    "        return (50000, 11)\n",
    "    # Normal market\n",
    "    if scenario == 1:\n",
    "        return (75000, 10)\n",
    "    # Hot market\n",
    "    else:\n",
    "        return (100000, 8)"
   ]
  },
  {
   "cell_type": "markdown",
   "metadata": {},
   "source": [
    "#### Question 3.2\n",
    "<div class=\"alert alert-info\">\n",
    "Run 100,000 Monte Carlo simulations and calculate the average net profit they produce. Then, compare the result to the \"average model\" we used in the previous questions (the one we called \"flawed\" model). Put your comments about the discrepancies between a simplistic model, and the more accurate MCS approach.  \n",
    "<ul></ul>\n",
    "Note that in each iteration, the `unit_cost` and `market_scenario` are generated according to their distributions. Also, recall what we have seen in Section 2.2: your firm account manager helped you with some research, to determine the variability of your random variables.  \n",
    "</div>\n",
    "\n",
    "\n",
    "<div class=\"label label-success\">HINT</div>  \n",
    "\n",
    "Function `uniform(a,b)` in module `random` generates a number $a<=c<=b$, which is drawn from a uniform distribution.  \n",
    "\n",
    "Function `randint(a,b)` helps you generating an integer number $a<=c<=b$"
   ]
  },
  {
   "cell_type": "code",
   "execution_count": 6,
   "metadata": {},
   "outputs": [
    {
     "name": "stdout",
     "output_type": "stream",
     "text": [
      "Average net profit for 100 000 simulations: 92406.45\n"
     ]
    }
   ],
   "source": [
    "from random import uniform, randint\n",
    "\n",
    "def simulate(num_simulation):\n",
    "    \"\"\"\n",
    "        This function simulate the situation explained above\n",
    "        with the monte carlo method.\n",
    "        \n",
    "        `num_simulation` is the number of simulations ran\n",
    "        the returned value is the average net profit\n",
    "    \"\"\"\n",
    "    total = 0.\n",
    "    for _ in range(num_simulation):\n",
    "        # Suppose that the unit_cost is uniformly distributed\n",
    "        unit_cost = uniform(5.5,7.5)\n",
    "        # Same for market senario (discrete values)\n",
    "        market_scenario = randint(0,2)\n",
    "        # Get variables from market scenario\n",
    "        sales_volume, price = get_sales_volume_price(market_scenario)\n",
    "        # Calculate profit\n",
    "        netProfit = calNetProfit(sales_volume, price, unit_cost, fixed_cost)\n",
    "        total += netProfit\n",
    "    #Return the average net profit\n",
    "    return total/num_simulation\n",
    "\n",
    "# Let's try with 100k simulations\n",
    "averageNetProfit = simulate(100000)\n",
    "print(\"Average net profit for 100 000 simulations: {:.2f}\"\n",
    "          .format(averageNetProfit))"
   ]
  },
  {
   "cell_type": "code",
   "execution_count": 7,
   "metadata": {
    "scrolled": true
   },
   "outputs": [
    {
     "name": "stdout",
     "output_type": "stream",
     "text": [
      "Error in percentage (100k simulations): 0.64%\n"
     ]
    }
   ],
   "source": [
    "def calculate_error(averageNetProfit):\n",
    "    # Note that the theoritical trueNetProfit is already known\n",
    "    return abs((averageNetProfit - trueNetProfit) / (trueNetProfit))\n",
    "\n",
    "error = calculate_error(averageNetProfit)\n",
    "print(\"Error in percentage (100k simulations): {:.2f}%\".format(error * 100))"
   ]
  },
  {
   "cell_type": "markdown",
   "metadata": {},
   "source": [
    "<div class=\"alert alert-success\">\n",
    "This model is more realistic as we find this time an error of 0.2 % for 100k run.\n",
    "<br>\n",
    "In general, the error using Monte-Carlo simulation is proportional to $\\frac{1}{\\sqrt{n_{simulations}}}$. Let's verify it!\n",
    "</div>"
   ]
  },
  {
   "cell_type": "code",
   "execution_count": 8,
   "metadata": {},
   "outputs": [
    {
     "name": "stdout",
     "output_type": "stream",
     "text": [
      "Error in percentage (25k simulations): 0.71%\n"
     ]
    }
   ],
   "source": [
    "averageNetProfit2 = simulate(25000)\n",
    "error2 = calculate_error(averageNetProfit2)\n",
    "print(\"Error in percentage (25k simulations): {:.2f}%\".format(error2 * 100))"
   ]
  },
  {
   "cell_type": "markdown",
   "metadata": {},
   "source": [
    "<div class=\"alert alert-success\">\n",
    "In that specific case, the error seems to be proportionnal to $\\frac{1}{\\sqrt{n_{simulations}}}$, which is a good indicator. we now verify it with multiples values.\n",
    "</div>"
   ]
  },
  {
   "cell_type": "markdown",
   "metadata": {},
   "source": [
    "<div class=\"alert alert-info\">\n",
    "Let's see how the number of simulations is a critical factor for a good approximation.\n",
    "</div>"
   ]
  },
  {
   "cell_type": "code",
   "execution_count": 9,
   "metadata": {},
   "outputs": [
    {
     "data": {
      "image/png": "[encoded data removed]",
      "text/plain": [
       "<matplotlib.figure.Figure at 0x7f8bc7791470>"
      ]
     },
     "metadata": {},
     "output_type": "display_data"
    }
   ],
   "source": [
    "num_simulation_range = [int(10**(i/2)) for i in range(12)]\n",
    "errors = []\n",
    "for num_simulation in num_simulation_range:\n",
    "    errors.append(calculate_error(simulate(num_simulation)))\n",
    "plt.plot(num_simulation_range, errors)\n",
    "plt.plot(num_simulation_range, .5/np.sqrt(num_simulation_range))\n",
    "plt.xscale('log')\n",
    "plt.xlabel(\"Simulations number\")\n",
    "plt.ylabel(\"Absolute error (%)\")\n",
    "plt.show()"
   ]
  },
  {
   "cell_type": "code",
   "execution_count": 10,
   "metadata": {},
   "outputs": [
    {
     "data": {
      "image/png": "[encoded data removed]",
      "text/plain": [
       "<matplotlib.figure.Figure at 0x7f8bbf248fd0>"
      ]
     },
     "metadata": {},
     "output_type": "display_data"
    }
   ],
   "source": [
    "plt.scatter(num_simulation_range, errors, c='r')\n",
    "plt.plot(num_simulation_range, .5/np.sqrt(num_simulation_range))\n",
    "plt.xscale('log')\n",
    "plt.yscale('log')\n",
    "plt.xlabel(\"Simulations number\")\n",
    "plt.ylabel(\"Absolute error (%)\")\n",
    "plt.show()"
   ]
  },
  {
   "cell_type": "markdown",
   "metadata": {},
   "source": [
    "<div class=\"alert alert-success\">\n",
    "Again, the error seems to be proportionnal to $\\frac{1}{\\sqrt{n_{simulations}}}$, as the log curse seems to be follow the $y = \\frac{c_{st}}{\\sqrt{n_{simulations}}}$ representation.\n",
    "</div>"
   ]
  },
  {
   "cell_type": "markdown",
   "metadata": {},
   "source": [
    "\n",
    "# 3. A brief summary of the Monte Carlo Simulation (MCS) technique\n",
    "\n",
    "- A MCS allows several inputs to be used at the same time to compute the probability distribution of one or more outputs\n",
    "- Different types of probability distributions can be assigned to the inputs of the model, depending on any *a-priori* information that is available. When the distribution is completely unknown, a common technique is to use a distribution computed by finding the best fit to the data you have\n",
    "- The MCS method is also called a **stochastic method** because it uses random variables. Note also that the general assumption is for input random variables to be independent from each other. When this is not the case, there are techniques to account for correlation between random variables.\n",
    "- A MCS generates the output as a range instead of a fixed value and shows how likely the output value is to occur in that range. In other words, the model outputs a probability distribution."
   ]
  },
  {
   "cell_type": "markdown",
   "metadata": {},
   "source": [
    "# 4. Common distributions used in MCS\n",
    "In what follows, we summarize the most common probability distributions that are used as *a-priori* distributions for input random variables:\n",
    "\n",
    "- *Normal/Gaussian Distribution*: this is a continuous distribution applied in situations where the mean and the standard deviation of a given input variable are given, and the mean represents the most probable value of the variable. In other words, values \"near\" the mean are most likely to occur.  This is symmetric distribution, and it is not bounded in its co-domain. It is very often used to  describe natural phenomena, such as people’s heights, inflation rates, energy prices, and so on and so forth. An illustration of a normal distribution is given below:\n",
    "\n",
    "![normal_distribution](https://upload.wikimedia.org/wikipedia/commons/thumb/7/74/Normal_Distribution_PDF.svg/320px-Normal_Distribution_PDF.svg.png)\n",
    "\n",
    "- *Lognormal Distribution*: this is a distribution which is appropriate for variables taking values in the range $[0, \\infty]$. Values are positively skewed, not symmetric like a normal distribution.  Examples of variables described by some lognormal distributions include, for example, real estate property values, stock prices, and oil reserves. An illustration of a lognormal distribution is given below:\n",
    "\n",
    "![log_normal_distribution](https://upload.wikimedia.org/wikipedia/commons/thumb/a/ae/PDF-log_normal_distributions.svg/320px-PDF-log_normal_distributions.svg.png) \n",
    "\n",
    "- *Triangular Distribution*: this is a continuous distribution with fixed minimum and maximum values. It is bounded by the minimum and maximum values and can be either symmetrical (the most probable value = mean = median) or asymmetrical. Values around the most likely value (e.g. the mean) are more likely to occur.  Variables that could be described by a triangular distribution include, for example, past sales history per unit of time and inventory levels. An illustration of a triangular distribution is given below:\n",
    "\n",
    "![](https://upload.wikimedia.org/wikipedia/commons/thumb/4/45/Triangular_distribution_PMF.png/320px-Triangular_distribution_PMF.png)\n",
    "\n",
    "- *Uniform Distribution*: this is a continuous distribution bounded by known minimum and maximum values. In contrast to the triangular distribution, the likelihood of occurrence of the values between the minimum and maximum is the same. In other words, all values have an equal chance of occurring, and the distribution is simply characterized by the minimum and maximum values. Examples of variables that can be described by a uniform distribution include manufacturing costs or future sales revenues for a new product. An illustration of the uniform distribution is given below:\n",
    "\n",
    "![](https://upload.wikimedia.org/wikipedia/commons/thumb/9/96/Uniform_Distribution_PDF_SVG.svg/320px-Uniform_Distribution_PDF_SVG.svg.png)\n",
    "\n",
    "- *Exponential Distribution*: this is a continuous distribution used to model the time that pass between independent occurrences, provided that the rate of occurrences is known. An example of the exponential distribution is given below:\n",
    "\n",
    "![](https://upload.wikimedia.org/wikipedia/commons/thumb/e/ec/Exponential_pdf.svg/320px-Exponential_pdf.svg.png)\n",
    "\n",
    "- *Discrete Distribution* : for this kind of distribution, the \"user\" defines specific values that may occur and the likelihood of each of them.  An example might be the results of a lawsuit: 20% chance of positive verdict, 30% change of negative verdict, 40% chance of settlement, and 10% chance of mistrial.\n"
   ]
  },
  {
   "cell_type": "markdown",
   "metadata": {},
   "source": [
    "# 5. A real use case: estimating the financial risk of a portfolio of stocks\n",
    "We hope that by now you have a good understanding about Monte Carlo simulation. Next, we apply this method to a real use case: *financial risk estimation*.\n",
    "\n",
    "Imagine that you are an investor on the stock market. You plan to buy some stocks and you want to estimate the maximum loss you could incur after two weeks of investing. This is the quantity that the financial statistic \"Value at Risk\" (VaR) seeks to measure. [VaR](https://en.wikipedia.org/wiki/Value_at_risk) is defined as a measure of investment risk that can be used as a reasonable estimate of the maximum probable loss for a value of an investment portfolio, over a particular time period. A VaR statistic depends on three parameters: a portfolio, a time period, and a confidence level. A VaR of 1 million dollars with a 95% confidence level over two weeks, indicates the belief that the portfolio stands only a 5% chance of losing more than 1 million dollars over two weeks. VaR has seen widespread use across financial services organizations. This statistic plays a vital role in determining how much cash investors must hold to meet the credit ratings that they seek. In addition, it is also used to understand the risk characteristics of large portfolios: it is a good idea to compute the VaR before executing trades, such that it can help take informed decisions about investments. \n",
    "\n",
    "Our goal is calculating VaR of two weeks interval with 95% confidence level and the associated [VaR confidence interval](http://www.investopedia.com/ask/answers/041615/whats-difference-between-confidence-level-and-confidence-interval-value-risk-var.asp).\n",
    "\n",
    "\n",
    "## 5.1. Terminology\n",
    "In this use case, we will use some terms that might require a proper definition, given the domain. This is what we call the *Domain Knowledge*.\n",
    "\n",
    "- **Instrument**: A tradable asset, such as a bond, loan, option, or stock investment. At any particular time, an instrument is considered to have a value, which is the price for which it can be sold. In the use case of this notebook, instruments are stock investments.\n",
    "- **Portfolio**: A collection of instruments owned by a financial institution. \n",
    "- **Return**: The change in an instrument or portfolio’s value over a time period. \n",
    "- **Loss**: A negative return. \n",
    "- **Index**: An imaginary portfolio of instruments. For example, the NASDAQ Composite index includes about 3,000 stocks and similar instruments for major US and international companies. \n",
    "- **Market factor**: A value that can be used as an indicator of macro aspects of the financial climate at a particular time. For example, the value of an index, the Gross Domestic Product of the United States, or the exchange rate between the dollar and the euro. We will often refer to market factors as just factors.\n",
    "\n",
    "## 5.2. The context of our use case\n",
    "We have a list of instruments that we plan to invest in. The historical data of each instrument has been collected for you. For simplicity, assume that the returns of instruments at a given time, depend on 4 market factors only: \n",
    "\n",
    "- GSPC value\n",
    "- IXIC value \n",
    "- The return of crude oil\n",
    "- The return of treasury bonds\n",
    "\n",
    "Our goal is building a model to predict the loss after two weeks' time interval with confidence level set to 95%.\n",
    "\n",
    "As a side note, it is important to realize that the approach presented in this Notebook is a simplified version of what would happen in a real Financial firm. For example, the returns of instruments at a given time often depend on more than 4 market factors only! Moreover, the choice of what constitute an appropriate market factor is an art!\n",
    "\n"
   ]
  },
  {
   "cell_type": "markdown",
   "metadata": {},
   "source": [
    "## 5.3. The Data\n",
    "The stock data can be downloaded (or scraped) from Yahoo! by making a series of REST calls. The data includes multiple files. Each file contains the historical information of each instrument that we want to invest in. The data is in the following format (with some samples):\n",
    "```\n",
    "Date, Open, High, Low, Close, Volume, Adj Close\n",
    "2016-01-22,66.239998,68.07,65.449997,67.860001,137400,67.860001\n",
    "2016-01-21,65.410004,66.18,64.459999,65.050003,148000,65.050003\n",
    "2016-01-20,64.279999,66.32,62.77,65.389999,141300,65.389999\n",
    "2016-01-19,67.720001,67.989998,64.720001,65.379997,178400,65.379997\n",
    "```\n",
    "\n",
    "The data of GSPC and IXIC values (our two first market factors) are also available on Yahoo! and use the very same format. \n",
    "\n",
    "The crude oil and treasure bonds data is collected from investing.com, and has a different format, as shown below (with some samples):\n",
    "```\n",
    "Date    Price   Open    High    Low     Vol.    Change %\n",
    "Jan 25, 2016    32.17   32.36   32.44   32.10   -       -0.59%\n",
    "Jan 24, 2016    32.37   32.10   32.62   31.99   -       0.54%\n",
    "Jan 22, 2016    32.19   29.84   32.35   29.53   -       9.01%\n",
    "Jan 21, 2016    29.53   28.35   30.25   27.87   694.04K 11.22%\n",
    "Jan 20, 2016    26.55   28.33   28.58   26.19   32.11K  -6.71%\n",
    "Jan 19, 2016    28.46   29.20   30.21   28.21   188.03K -5.21%\n",
    "```\n",
    "\n",
    "In our use case, the factors' data will be used jointly to build a statistical model: as a consequence, we first need to preprocess the data to proceed.\n",
    "\n",
    "## 5.4. Data preprocessing\n",
    "In this Notebook, all data files have been downloaded for you, such that you can focus on pre-processing. Next, we will:\n",
    "\n",
    "  - Read the factor data files which are in two different formats, process and merge them together\n",
    "  - Read the stock data and pre-process it\n",
    "  - Trim all data into a specific time region\n",
    "  - Fill in the missing values\n",
    "  - Generate the data of returns in each two weeks' time interval window\n",
    "  \n",
    "### Factor data pre-processing\n",
    "\n",
    "We need two functions to read and parse data from Yahoo! and Investing.com respectively. We are interested only in information about the time and the corresponding returns of a factor or an instrument: as a consequence, we will project away many columns of our RAW data, and keep only the information we are interested in.\n",
    "\n",
    "The 3000-instrument and the 4-factor history are small enough to be read and processed locally: we do not need to use the power of parallel computing to proceed. Note that this is true also for larger cases with hundreds of thousands of instruments and thousands of factors. The need for a distributed system like Spark comes in when actually **running** the Monte Carlo simulations, which can require massive amounts of computation on each instrument. "
   ]
  },
  {
   "cell_type": "markdown",
   "metadata": {},
   "source": [
    "### Question 4\n",
    "#### Question 4.1\n",
    "<div class=\"alert alert-info\">\n",
    "Write a function named `readInvestingDotComHistory` to parse data from investing.com based on the format specified above (see Section 5.3). Recall that we use two factors here: one that is related to the price of crude oil, one that is related to some specific US bonds. \n",
    "\n",
    "<ul></ul>\n",
    "\n",
    "Print the first 5 entries of the first factor (crude oil price) in the parsed data.\n",
    "\n",
    "<ul></ul>\n",
    "\n",
    "Note that we are only interested in the date and price of stocks.\n",
    "\n",
    "</div>\n",
    "\n",
    "<div class=\"label label-success\">HINT</div>  \n",
    "You can parse a string to `datetime` object by using the function `strptime(<string>, <dtime_format>)`. In this case, the datetime format is `\"%b %d, %Y\"`. For more information, please follow this [link](https://docs.python.org/2/library/datetime.html#strftime-and-strptime-behavior)."
   ]
  },
  {
   "cell_type": "markdown",
   "metadata": {},
   "source": [
    "In the next cell, we simply copy data from our HDFS cluster (that contains everything we need for this Notebook) to the instance (a Docker container) running your Notebook. This means that you will have \"local\" data that you can process without using Spark. Note the folder location: find and verify that you have correctly downloaded the files!"
   ]
  },
  {
   "cell_type": "code",
   "execution_count": 11,
   "metadata": {},
   "outputs": [],
   "source": [
    "! [ -d monte-carlo-risk ] || (echo \"Downloading prepared data from HDFS. Please wait...\" ; hdfs dfs -copyToLocal /datasets/monte-carlo-risk . ; echo \"Done!\";)"
   ]
  },
  {
   "cell_type": "code",
   "execution_count": 12,
   "metadata": {},
   "outputs": [
    {
     "name": "stdout",
     "output_type": "stream",
     "text": [
      "There are 2544 entries in file crudeoil.tsv!\n",
      "There are 2155 entries in file us30yeartreasurybonds.tsv!\n",
      "\n",
      "\n",
      "Example:\n",
      "\n",
      "(datetime.datetime(2006, 1, 26, 0, 0), 65.85)\n",
      "(datetime.datetime(2006, 1, 27, 0, 0), 66.49)\n",
      "(datetime.datetime(2006, 1, 30, 0, 0), 67.85)\n",
      "(datetime.datetime(2006, 1, 31, 0, 0), 68.4)\n",
      "(datetime.datetime(2006, 2, 1, 0, 0), 67.8)\n"
     ]
    },
    {
     "name": "stderr",
     "output_type": "stream",
     "text": [
      "/opt/conda/lib/python3.6/site-packages/statsmodels/compat/pandas.py:56: FutureWarning: The pandas.core.datetools module is deprecated and will be removed in a future version. Please use the pandas.tseries module instead.\n",
      "  from pandas.core import datetools\n"
     ]
    }
   ],
   "source": [
    "from datetime import datetime\n",
    "from datetime import timedelta\n",
    "from itertools import islice\n",
    "%matplotlib inline\n",
    "import numpy as np\n",
    "import statsmodels.api as sm\n",
    "\n",
    "base_folder = \"monte-carlo-risk/\"\n",
    "\n",
    "factors_folder= base_folder + \"factors/\"\n",
    "\n",
    "# read data from local disk\n",
    "def readInvestingDotComHistory(fname, value_name):\n",
    "    def process_line(line, value_col_nb):\n",
    "        cols = line.split(\"\\t\")\n",
    "        date = datetime.strptime(cols[0], \"%b %d, %Y\")\n",
    "        value = float(cols[value_col_nb])\n",
    "        return (date, value)\n",
    "    \n",
    "    with open(fname) as f:\n",
    "        content_w_header = f.readlines()\n",
    "        # remove the first line \n",
    "        # and reverse lines to sort the data by date, in ascending order\n",
    "        value_col_nb = content_w_header[0].split(\"\\t\").index(value_name)\n",
    "        content = content_w_header[1:][::-1]\n",
    "        return list(map(lambda x: process_line(x, value_col_nb) , content))\n",
    "\n",
    "raw_factor1_files = ['crudeoil.tsv', 'us30yeartreasurybonds.tsv']\n",
    "factor1_files = map(lambda fn: factors_folder + fn, raw_factor1_files)\n",
    "factors1 = [readInvestingDotComHistory(f, \"Open\") for f in factor1_files]\n",
    "\n",
    "# Have a look to the data\n",
    "print(\"\\n\".join(\"There are {} entries in file {}!\".format(len(j), raw_factor1_files[i]) for i, j in enumerate(factors1)))\n",
    "print(\"\\n\\nExample:\\n\")\n",
    "print(\"\\n\".join(map(repr,factors1[0][:5])))"
   ]
  },
  {
   "cell_type": "markdown",
   "metadata": {},
   "source": [
    "<div class=\"alert alert-warning\">\n",
    "Note that we used the Opening prices of the given data as the `factors`. This is an arbritrary choice and is not more or less accurate than considering the closing price or even other indicators.\n",
    "</div>"
   ]
  },
  {
   "cell_type": "markdown",
   "metadata": {},
   "source": [
    "Now, the data structure `factors1` is a list, containing data that pertains to two (out of a total of four) factors that influence the market, as obtained by investing.com. Each element in the list is a tuple, containing some sort of timestamp, and the value of one of the two factors discussed above. From now on, we call these elements \"**records**\" or \"**entries**\". Visually, `factors1` looks like this:\n",
    "\n",
    "| 0 (crude oil) | 1 (US bonds)|\n",
    "| --- | --- |\n",
    "| time_stamp, value | time_stamp, value |\n",
    "| ... | ... |\n",
    "| time_stamp, value | time_stamp, value |\n",
    "| ... | ... |\n"
   ]
  },
  {
   "cell_type": "markdown",
   "metadata": {},
   "source": [
    "#### Question 4.2\n",
    "<div class=\"alert alert-info\">\n",
    "Write a function named `readYahooHistory` to parse data from yahoo.com based on its format, as described in Section 5.3.  \n",
    "<ul></ul>\n",
    "Print the first 5 entries of the first factor (namely GSPC). Comment the time range of the second batch of data we use in our Notebook.  \n",
    "<ul></ul>\n",
    "\n",
    "Note that we are only interested in the date and price of stocks.\n",
    "</div>\n",
    "\n",
    "<div class=\"label label-danger\">NOTE</div> The datetime format now is in a different format than the previous one.\n",
    "\n",
    "<div class=\"label label-success\">HINT</div> Use a terminal (or put the bash commands inline in your Notebook) to list filenames in your local working directory to find and have a look at your local files."
   ]
  },
  {
   "cell_type": "code",
   "execution_count": 13,
   "metadata": {},
   "outputs": [
    {
     "name": "stdout",
     "output_type": "stream",
     "text": [
      "monte-carlo-risk/factors/crudeoil.tsv\n",
      "monte-carlo-risk/factors/us30yeartreasurybonds.tsv\n"
     ]
    }
   ],
   "source": [
    "!ls monte-carlo-risk/factors/*.tsv"
   ]
  },
  {
   "cell_type": "code",
   "execution_count": 14,
   "metadata": {},
   "outputs": [
    {
     "name": "stdout",
     "output_type": "stream",
     "text": [
      "There are 16621 entries in file GSPC.csv!\n",
      "There are 11340 entries in file IXIC.csv!\n",
      "\n",
      "\n",
      "Example:\n",
      "\n",
      "(datetime.datetime(1950, 1, 3, 0, 0), 16.66)\n",
      "(datetime.datetime(1950, 1, 4, 0, 0), 16.85)\n",
      "(datetime.datetime(1950, 1, 5, 0, 0), 16.93)\n",
      "(datetime.datetime(1950, 1, 6, 0, 0), 16.98)\n",
      "(datetime.datetime(1950, 1, 9, 0, 0), 17.08)\n"
     ]
    }
   ],
   "source": [
    "# read data from local disk\n",
    "def readYahooHistory(fname, value_name):\n",
    "    def process_line(line, value_col_nb):\n",
    "        cols = line.split(\",\")\n",
    "        date = datetime.strptime(cols[0], \"%Y-%m-%d\")\n",
    "        value = float(cols[value_col_nb])\n",
    "        return (date, value)\n",
    "    \n",
    "    with open(fname) as f:\n",
    "        content_w_header = f.readlines()\n",
    "        # remove the first line \n",
    "        # and reverse lines to sort the data by date, in ascending order\n",
    "        value_col_nb = content_w_header[0].split(\",\").index(value_name)\n",
    "        content = content_w_header[1:][::-1]\n",
    "        return list(map(lambda x: process_line(x, value_col_nb) , content))\n",
    "    \n",
    "\n",
    "raw_factor2_files = [\"GSPC.csv\", \"IXIC.csv\"]\n",
    "factor2_files = map(lambda fn: factors_folder + fn, raw_factor2_files)\n",
    "\n",
    "factors2 = [readYahooHistory(f, 'Open') for f in factor2_files]\n",
    "\n",
    "# Have a look to the data\n",
    "print(\"\\n\".join(\"There are {} entries in file {}!\".format(len(j), raw_factor2_files[i]) for i, j in enumerate(factors2)))\n",
    "print(\"\\n\\nExample:\\n\")\n",
    "print(\"\\n\".join(map(repr,factors2[0][:5])))"
   ]
  },
  {
   "cell_type": "markdown",
   "metadata": {},
   "source": [
    "<div class=\"alert alert-info\">\n",
    "Visualize factors\n",
    "</div>"
   ]
  },
  {
   "cell_type": "code",
   "execution_count": 15,
   "metadata": {},
   "outputs": [
    {
     "data": {
      "image/png": "[encoded data removed]",
      "text/plain": [
       "<matplotlib.figure.Figure at 0x7f8bf045b828>"
      ]
     },
     "metadata": {},
     "output_type": "display_data"
    },
    {
     "data": {
      "image/png": "[encoded data removed]",
      "text/plain": [
       "<matplotlib.figure.Figure at 0x7f8bb434bc18>"
      ]
     },
     "metadata": {},
     "output_type": "display_data"
    },
    {
     "data": {
      "image/png": "[encoded data removed]",
      "text/plain": [
       "<matplotlib.figure.Figure at 0x7f8bb3fb7668>"
      ]
     },
     "metadata": {},
     "output_type": "display_data"
    },
    {
     "data": {
      "image/png": "[encoded data removed]",
      "text/plain": [
       "<matplotlib.figure.Figure at 0x7f8bb3e4e828>"
      ]
     },
     "metadata": {},
     "output_type": "display_data"
    }
   ],
   "source": [
    "def visualize_data(data, value_name):\n",
    "    pd.DataFrame(data, columns=[\"Date\", value_name]).set_index(\"Date\").plot()\n",
    "\n",
    "visualize_data(factors1[0], \"Factor 1 value\")\n",
    "visualize_data(factors1[1], \"Factor 2 value\")\n",
    "visualize_data(factors2[0], \"Factor 3 value\")\n",
    "visualize_data(factors2[1], \"Factor 4 value\")"
   ]
  },
  {
   "cell_type": "markdown",
   "metadata": {},
   "source": [
    "<div class=\"alert alert-warning\">\n",
    "PUT YOUR COMMENT HERE\n",
    "</div>"
   ]
  },
  {
   "cell_type": "markdown",
   "metadata": {},
   "source": [
    "<div class=\"alert alert-success\">\n",
    "There data are clearly not linear and fluctuate a lot on the short term. However, the long-term trend can be interpreted much more easily and we can show some periods that are supposed to have a less healthy financial environment and periods of semi-krach. This also seems to repeat periodicaly, but five years are not enough to take advantages of this informations.\n",
    "<br>\n",
    "We will see later in this notebook that the factors will be converted into features, using base functions. This leads to the conclusion that the cosign tranform could be a good basis function but only with long-term data, which is not the case here (in macro economical environment, five years is much shorter that the periodicity of crachs for instance).\n",
    "</div>"
   ]
  },
  {
   "cell_type": "markdown",
   "metadata": {},
   "source": [
    "Now, the data structure `factors2` is again list, containing data that pertains to the next two (out of a total of four) factors that influence the market, as obtained by Yahoo!. Each element in the list is a tuple, containing some sort of timestamp, and the value of one of the two factors discussed above. Visually, `factors2` looks like this:\n",
    "\n",
    "| 0 (GSPC) | 1 (IXIC)|\n",
    "| --- | --- |\n",
    "| time_stamp, value | time_stamp, value |\n",
    "| ... | ... |\n",
    "| time_stamp, value | time_stamp, value |\n",
    "| ... | ... |\n"
   ]
  },
  {
   "cell_type": "markdown",
   "metadata": {},
   "source": [
    "### Stock data pre-processing\n",
    "\n",
    "Next, we prepare the data for the instruments we consider in this Notebook (i.e., the stocks we want to invest in). "
   ]
  },
  {
   "cell_type": "markdown",
   "metadata": {},
   "source": [
    "#### Question 4.3\n",
    "\n",
    "<div class=\"alert alert-info\">\n",
    "In this Notebook, we assume that we want to invest on the first 35 stocks out of the total 3000 stocks present in our datasets.\n",
    "\n",
    "<ul></ul>\n",
    "\n",
    "Load and prepare all the data for the considered instruments (the first 35 stocks) which have historical information for more than 5 years. This means that all instruments with less than 5 years of history should be removed.\n",
    "\n",
    "</div>\n",
    "\n",
    "<div class=\"label label-success\">HINT</div> we suggest to open a terminal window (not on your local machine, but the Notebook terminal that you can find on the Jupyter dashboard) and visually check the contents of the directories holding our dataset, if you didn't do this before! Have a look at how stock data is organized!"
   ]
  },
  {
   "cell_type": "code",
   "execution_count": 16,
   "metadata": {},
   "outputs": [
    {
     "name": "stdout",
     "output_type": "stream",
     "text": [
      "2710\n"
     ]
    }
   ],
   "source": [
    "# Count the number of stock files\n",
    "!ls monte-carlo-risk/stocks/*.csv | wc -l"
   ]
  },
  {
   "cell_type": "code",
   "execution_count": 17,
   "metadata": {},
   "outputs": [
    {
     "name": "stdout",
     "output_type": "stream",
     "text": [
      "Examples:\n",
      "(datetime.datetime(1997, 8, 14, 0, 0), 39.0)\n",
      "(datetime.datetime(1997, 8, 15, 0, 0), 42.0)\n",
      "(datetime.datetime(1997, 8, 18, 0, 0), 44.0)\n",
      "(datetime.datetime(1997, 8, 19, 0, 0), 55.5)\n",
      "(datetime.datetime(1997, 8, 20, 0, 0), 48.0)\n"
     ]
    }
   ],
   "source": [
    "from os import listdir\n",
    "from os.path import isfile, join\n",
    "\n",
    "stock_folder = base_folder + 'stocks'\n",
    "\n",
    "def process_stock_file(*args, **kwargs):\n",
    "    try:\n",
    "        return readYahooHistory(*args, **kwargs)\n",
    "    except Exception as e:\n",
    "        raise e\n",
    "        return None\n",
    "\n",
    "\n",
    "\n",
    "# select path of all stock data files in \"stock_folder\"\n",
    "files = [join(stock_folder, f) for f in listdir(stock_folder) if isfile(join(stock_folder, f))]\n",
    "\n",
    "# assume that we invest only the first 35 stocks (for faster computation)\n",
    "files = files[:35]\n",
    "\n",
    "# read each line in each file, convert it into the format: (date, value)\n",
    "rawStocks = [list(process_stock_file(f, 'Open')) for f in files]\n",
    "\n",
    "# select only instruments which have more than 5 years of history\n",
    "# Note: the number of business days in a year is 260\n",
    "\n",
    "number_of_years = 5\n",
    "rawStocks = list(filter(lambda instrument: len(instrument)>=260*5  , rawStocks))\n",
    "\n",
    "# For testing, print the first 5 entry of the first stock\n",
    "print(\"Examples:\")\n",
    "print(\"\\n\".join(map(repr,rawStocks[0][:5])))"
   ]
  },
  {
   "cell_type": "markdown",
   "metadata": {},
   "source": [
    "### Time alignment for our data\n",
    "Different types of instruments may trade on different days, or the data may have missing values for other reasons, so it is important to make sure that our different histories align. First, we need to trim all of our time series to the same region in time. Then, we need to fill in missing values. To deal with time series that have missing values at the start and end dates in the time region, we simply fill in those dates with nearby values in the time region."
   ]
  },
  {
   "cell_type": "markdown",
   "metadata": {},
   "source": [
    "#### Question 4.4\n",
    "<div class=\"alert alert-info\">\n",
    "Assume that we only focus on the data from 23/01/2009 to 23/01/2014. Write a function named `trimToRegion` to select only the records in that time interval. \n",
    "\n",
    "<ul></ul>\n",
    "\n",
    "**Requirements**: after processing, each instrument $i$ has a list of records: $[r_0, r_2,...,r_{m_i}]$ such that $r_0$ and $r_{m_i}$ are assigned, respectively, the first and the last values corresponding to the extremes of the given time interval. For example: $r_0$ should contain the value at date 23/01/2009.\n",
    "</div>"
   ]
  },
  {
   "cell_type": "code",
   "execution_count": 18,
   "metadata": {},
   "outputs": [
    {
     "name": "stdout",
     "output_type": "stream",
     "text": [
      "The first 5 records of stock 0\n",
      "(datetime.datetime(2009, 1, 23, 0, 0), 19.4)\n",
      "(datetime.datetime(2009, 1, 26, 0, 0), 19.67)\n",
      "(datetime.datetime(2009, 1, 27, 0, 0), 19.809999)\n",
      "(datetime.datetime(2009, 1, 28, 0, 0), 20.469999)\n",
      "(datetime.datetime(2009, 1, 29, 0, 0), 21.41)\n",
      "\n",
      "The last 5 records of stock 0\n",
      "(datetime.datetime(2014, 1, 16, 0, 0), 37.369999)\n",
      "(datetime.datetime(2014, 1, 17, 0, 0), 37.470001)\n",
      "(datetime.datetime(2014, 1, 21, 0, 0), 37.73)\n",
      "(datetime.datetime(2014, 1, 22, 0, 0), 37.779999)\n",
      "(datetime.datetime(2014, 1, 23, 0, 0), 37.59)\n"
     ]
    }
   ],
   "source": [
    "# note that the data of crude oil and treasury is only available starting from 26/01/2006 \n",
    "start = datetime(year=2009, month=1, day=23)\n",
    "end = datetime(year=2014, month=1, day=23)\n",
    "\n",
    "def trimToRegion(history, start, end):\n",
    "    def isInTimeRegion(entry):\n",
    "        (date, value) = entry\n",
    "        return date >= start and date <= end\n",
    "\n",
    "    # only select entries which are in the time region\n",
    "    trimmed = list(filter(isInTimeRegion, history))\n",
    "    \n",
    "    # if the data has incorrect time boundaries, add time boundaries\n",
    "    if trimmed[0][0] != start:\n",
    "        trimmed.insert(0, (start, trimmed[0][1]))\n",
    "    if trimmed[-1][0] != end:\n",
    "        trimmed.append((end, trimmed[-1][1]))\n",
    "    return trimmed\n",
    "    \n",
    "# test our function\n",
    "trimmedStock0  = trimToRegion(rawStocks[0], start, end)\n",
    "# the first 5 records of stock 0\n",
    "print('The first 5 records of stock 0')\n",
    "print(\"\\n\".join(map(repr,trimmedStock0[:5])))\n",
    "print(\"\")\n",
    "# the last 5 records of stock 0\n",
    "print('The last 5 records of stock 0')\n",
    "print(\"\\n\".join(map(repr,trimmedStock0[-5:])))\n",
    "\n",
    "assert(trimmedStock0[0][0] == start), \"the first record must contain the price in the first day of time interval\"\n",
    "assert(trimmedStock0[-1][0] == end), \"the last record must contain the price in the last day of time interval\"\n"
   ]
  },
  {
   "cell_type": "markdown",
   "metadata": {},
   "source": [
    "<div class=\"alert alert-success\">\n",
    "<p>\n",
    "The way we defines the stocks that are suitable for this notebook is not as exhautive as it could be: to count the number of entries of stocks whithin a period could lead to errors related to duplicates. However it is computationnaly more expensive to verify each one of the entry to be unique on 500 megabytes of data. So, for convenience, we will use the provided method. \n",
    "</p>\n",
    "<br>\n",
    "<p>\n",
    "However, a distributed method to check for checking the suitability of a stock could be the following one. Nevertheless we know that the network is slow and shuffling all the data in order to check for a few duplicates does not worth this overhead.\n",
    "</p>\n",
    "</div>"
   ]
  },
  {
   "cell_type": "markdown",
   "metadata": {},
   "source": [
    "```python\n",
    "def is_suitable(stock, \n",
    "                start = datetime(year=2009, month=1, day=23)\n",
    "                end = datetime(year=2014, month=1, day=23), \n",
    "                nb_entries_min = 5*260):\n",
    "    \n",
    "    def isInTimeDelta(entry):\n",
    "        if entry.date < end and entry.date >= start:\n",
    "            return True\n",
    "        return False\n",
    "    \n",
    "    stockStructure = ... # Date for the `date` field, double for the `value` field\n",
    "    \n",
    "    stockRDD = sc.parallelize(stock)\n",
    "    stockDF = sc.createDataFrame(stockRDD, stockStructure)\n",
    "\n",
    "    if stockDF.select(\"date\").filter(isInTimeDelta).unique().count() >= nb_entries_min:\n",
    "        return True\n",
    "    \n",
    "    return False\n",
    "```"
   ]
  },
  {
   "cell_type": "markdown",
   "metadata": {},
   "source": [
    "### Dealing with missing values\n",
    "We expect that we have the price of instruments and factors **in each business day**. Unfortunately, there are many missing values in our data: this means that we miss data for some days, e.g. we have data for the Monday of a certain week, but not for the subsequent Tuesday. So, we need a function that helps filling these missing values.\n",
    "\n",
    "Next, we provide to you the function to fill missing value: read it carefully!"
   ]
  },
  {
   "cell_type": "code",
   "execution_count": 19,
   "metadata": {},
   "outputs": [],
   "source": [
    "def fillInHistory(history, start, end):\n",
    "    curr = history\n",
    "    filled = []\n",
    "    idx = 0\n",
    "    curDate = start\n",
    "    numEntries = len(history)\n",
    "    while curDate < end:\n",
    "        \n",
    "        # if the next entry is in the same day\n",
    "        # or the next entry is at the weekend\n",
    "        # but the curDate has already skipped it and moved to the next monday\n",
    "        # (only in that case, curr[idx + 1][0] < curDate )\n",
    "        # then move to the next entry\n",
    "        while idx + 1 < numEntries and curr[idx + 1][0] == curDate:\n",
    "            idx +=1\n",
    "\n",
    "        # only add the last value of instrument in a single day\n",
    "        # check curDate is weekday or not\n",
    "        # 0: Monday -> 5: Saturday, 6: Sunday\n",
    "        if curDate.weekday() < 5:\n",
    "            \n",
    "            filled.append((curDate, curr[idx][1]))\n",
    "            # move to the next business day\n",
    "            curDate += timedelta(days=1)\n",
    "        \n",
    "        # skip the weekends\n",
    "        elif curDate.weekday() >= 5:\n",
    "            # if curDate is Sat, skip 2 days, otherwise, skip 1 day\n",
    "            curDate += timedelta(days=(7-curDate.weekday()))\n",
    "\n",
    "    return filled"
   ]
  },
  {
   "cell_type": "markdown",
   "metadata": {},
   "source": [
    "#### Question 4.5\n",
    "<div class=\"alert alert-info\">\n",
    "Trim data of stocks and factors into the given time interval.\n",
    "</div>"
   ]
  },
  {
   "cell_type": "code",
   "execution_count": 20,
   "metadata": {},
   "outputs": [
    {
     "name": "stdout",
     "output_type": "stream",
     "text": [
      "the first 5 records of stock 0\n",
      "(datetime.datetime(2009, 1, 23, 0, 0), 19.4)\n",
      "(datetime.datetime(2009, 1, 26, 0, 0), 19.67)\n",
      "(datetime.datetime(2009, 1, 27, 0, 0), 19.809999)\n",
      "(datetime.datetime(2009, 1, 28, 0, 0), 20.469999)\n",
      "(datetime.datetime(2009, 1, 29, 0, 0), 21.41)\n",
      "\n",
      "the last 5 records of stock 0:\n",
      "(datetime.datetime(2014, 1, 16, 0, 0), 37.369999)\n",
      "(datetime.datetime(2014, 1, 17, 0, 0), 37.470001)\n",
      "(datetime.datetime(2014, 1, 20, 0, 0), 37.470001)\n",
      "(datetime.datetime(2014, 1, 21, 0, 0), 37.73)\n",
      "(datetime.datetime(2014, 1, 22, 0, 0), 37.779999)\n",
      "\n",
      "the first 5 records of factor 0:\n",
      "(datetime.datetime(2009, 1, 23, 0, 0), 43.26)\n",
      "(datetime.datetime(2009, 1, 26, 0, 0), 46.05)\n",
      "(datetime.datetime(2009, 1, 27, 0, 0), 45.65)\n",
      "(datetime.datetime(2009, 1, 28, 0, 0), 41.99)\n",
      "(datetime.datetime(2009, 1, 29, 0, 0), 42.22)\n",
      "\n",
      "the first 5 records of factor 0:\n",
      "(datetime.datetime(2014, 1, 16, 0, 0), 94.29)\n",
      "(datetime.datetime(2014, 1, 17, 0, 0), 94.17)\n",
      "(datetime.datetime(2014, 1, 20, 0, 0), 94.31)\n",
      "(datetime.datetime(2014, 1, 21, 0, 0), 94.0)\n",
      "(datetime.datetime(2014, 1, 22, 0, 0), 95.2)\n"
     ]
    }
   ],
   "source": [
    "#print rawStocks[0]\n",
    "\n",
    "# trim into a specific time region\n",
    "# and fill up the missing values\n",
    "stocks = list(map(lambda stock: \\\n",
    "            fillInHistory(\n",
    "                trimToRegion(stock, start, end), \n",
    "            start, end), \n",
    "        rawStocks))\n",
    "\n",
    "\n",
    "\n",
    "# merge two factors, trim each factor into a time region\n",
    "# and fill up the missing values\n",
    "allfactors = factors1 + factors2\n",
    "factors = list(map(lambda factor: \\\n",
    "            fillInHistory(\n",
    "                trimToRegion(factor, start, end), \n",
    "            start, end), \n",
    "            allfactors))\n",
    "            \n",
    "# test our code\n",
    "print(\"the first 5 records of stock 0\")\n",
    "print(\"\\n\".join(map(repr,stocks[0][:5])))\n",
    "print(\"\")\n",
    "\n",
    "print(\"the last 5 records of stock 0:\")\n",
    "print(\"\\n\".join(map(repr,stocks[0][-5:])))\n",
    "print(\"\")\n",
    "\n",
    "print(\"the first 5 records of factor 0:\")\n",
    "print(\"\\n\".join(map(repr,factors[0][:5])))\n",
    "print(\"\")\n",
    "\n",
    "print(\"the first 5 records of factor 0:\")\n",
    "print(\"\\n\".join(map(repr,factors[0][-5:])))"
   ]
  },
  {
   "cell_type": "markdown",
   "metadata": {},
   "source": [
    "Recall that Value at Risk (VaR) deals with **losses over a particular time horizon**. We are not concerned with the absolute prices of instruments, but how those prices **change over** a given period of time. In our project, we will set that length to two weeks: we use the sliding window method to transform time series of prices into an overlapping sequence of price change over two-week intervals.\n",
    "\n",
    "The figure below illustrates this process. The returns of market factors after each two-week interval is calculated in the very same way.\n",
    "\n",
    "![](https://dl.dropboxusercontent.com/s/r9ucsicichb6gjh/two-week-time-interval.svg)"
   ]
  },
  {
   "cell_type": "code",
   "execution_count": 21,
   "metadata": {},
   "outputs": [],
   "source": [
    "def buildWindow(seq, k=2):\n",
    "    \"\"\"\n",
    "        Returns a sliding window (of width k) over data from iterable data structures\n",
    "        s -> (s0,s1,...s[k-1]), (s1,s2,...,sk), ...\n",
    "    \"\"\"\n",
    "    it = iter(seq)\n",
    "    result = tuple(islice(it, k))\n",
    "    if len(result) == k:\n",
    "        yield result  \n",
    "    for elem in it:\n",
    "        result = result[1:] + (elem,)\n",
    "        yield result"
   ]
  },
  {
   "cell_type": "markdown",
   "metadata": {},
   "source": [
    "#### Question 4.6\n",
    "<div class=\"alert alert-info\">\n",
    "Compute the returns of the stocks after each two-week time window.\n",
    "</div>"
   ]
  },
  {
   "cell_type": "code",
   "execution_count": 22,
   "metadata": {},
   "outputs": [
    {
     "name": "stdout",
     "output_type": "stream",
     "text": [
      "the first 5 returns of stock 0:\n",
      "0.8000010000000017\n",
      "1.0\n",
      "0.7200019999999974\n",
      "-0.27999800000000263\n",
      "-1.5800000000000018\n",
      "\n",
      "the last 5 returns of stock 0:\n",
      "-1.1599999999999966\n",
      "-1.4599989999999963\n",
      "-0.8399999999999963\n",
      "-0.4599990000000034\n",
      "0.0\n"
     ]
    }
   ],
   "source": [
    "def calculateReturn(window):\n",
    "    # return the change of value after two weeks\n",
    "    return window[-1][1] - window[0][1]\n",
    "\n",
    "def twoWeekReturns(history):\n",
    "    # we use 10 instead of 14 to define the window\n",
    "    # because financial data does not include weekends\n",
    "    return [calculateReturn(entry) for entry in buildWindow(history, 10)]\n",
    "\n",
    "stocksReturns = list(map(twoWeekReturns, stocks))\n",
    "factorsReturns = list(map(twoWeekReturns, factors))\n",
    "\n",
    "# test our functions\n",
    "print(\"the first 5 returns of stock 0:\")\n",
    "print(\"\\n\".join(map(repr,stocksReturns[0][:5])))\n",
    "print(\"\")\n",
    "\n",
    "print(\"the last 5 returns of stock 0:\")\n",
    "print(\"\\n\".join(map(repr,stocksReturns[0][-5:])))"
   ]
  },
  {
   "cell_type": "markdown",
   "metadata": {},
   "source": [
    "Alright! Now we have data that is properly aligned to start the training process: stocks' returns and factors' returns, per time windows of two weeks. Next, we will apply the MCS method."
   ]
  },
  {
   "cell_type": "markdown",
   "metadata": {},
   "source": [
    "## 5.5. Summary guidelines to apply the MCS method on the data we prepared\n",
    "Next, we overview the steps that you have to follow to build a model of your data, and then use Monte Carlo simulations to produce output distributions:\n",
    "\n",
    "- **Step 1**: Defining the relationship between the market factors and the instrument's returns. This relationship takes the form of a model fitted to historical data.\n",
    "- **Step 2**: Defining the distributions for the market conditions (particularly, the returns of factors) that are straightforward to sample from. These distributions are fitted to historical data. \n",
    "- **Step 3**: Generate the data for each trial of a Monte Carlo run: this amount to generating the random values for market conditions along with these distributions.\n",
    "- **Step 4**: For each trial, from the above values of market conditions, and using the relationship built in step 1, we calculate the return for each instrument and the total return. We use the returns to define an empirical distribution over losses. This means that, if we run 100 trials and want to estimate the 5% VaR, we would choose it as the loss from the trial with the fifth greatest loss.\n",
    "- **Step 5**: Evaluating the result"
   ]
  },
  {
   "cell_type": "markdown",
   "metadata": {},
   "source": [
    "## 5.6. Applying MCS\n",
    "\n",
    "### Step 1: Defining relationship between market factors and instrument's returns\n",
    "\n",
    "In our simulation, we will use a simple linear model. By our definition of return, a factor return is a **change** in the value of a market factor **over a particular time period**, e.g. if the value of the S&P 500 moves from 2000 to 2100 over a time interval, its return would be 100.\n",
    "\n",
    "A vector that contains the return of 4 market factors is called a *market factor vector*. Generally, instead of using this vector as features, we derive a set of features from simple transformation of it. In particular, a vector of 4 values is transformed into a vector of length $m$ by function $F$. In the simplest case $F(v) = v$.\n",
    "\n",
    "Denote $v_t$ the market factor vector, and $f_t$ the transformed features of $v_t$ at time $t$.\n",
    "\n",
    "$f_{tj}$ is the value of feature $j$ in $f_t$.\n",
    "\n",
    "Denote $r_{it}$ the return of instrument $i$ at time $t$ and $c_i$ the [intercept term](http://blog.minitab.com/blog/adventures-in-statistics/regression-analysis-how-to-interpret-the-constant-y-intercept) of instrument $i$.\n",
    "\n",
    "We will use a simple linear function to calculate $r_{it}$ from $f_t$:\n",
    "\n",
    "$$\n",
    "r_{it} = c_i + \\sum_{j=1}^{m}{w_{ij}*f_{tj}}\n",
    "$$\n",
    "\n",
    "where $w_{ij}$ is the weight of feature $j$ for instrument $i$.\n",
    "\n",
    "All that above means that given a market factor vector, we have to apply featurization and then use the result as a surrogate for calculating the return of the instruments, using the above linear function.\n",
    "\n",
    "There are two questions that we should consider: **how we apply featurization to a factor vector?** and **how to pick values for $w_{ij}$?**\n",
    "\n",
    "**How we apply featurization to a factor vector?**\n",
    "In fact, the instruments' returns may be non-linear functions of the factor returns. So, we should not use factor returns as features in the above linear function. Instead, we transform them into a set of features with different size. In this Notebook, we can include some additional features in our model that we derive from non-linear transformations of the factor returns. We will try adding two more features for each factor return: its square and its square root values. So, we can still assume that our model is a linear model in the sense that the response variable is a linear function of the new features. *Note that the particular feature transformation described here is meant to be an illustrative example of some of the options that are available: it shouldn't be considered as the state of the art in predictive financial modeling!!*.\n",
    "\n",
    "**How to pick values for $w_{ij}$?**\n",
    "\n",
    "For all the market factor vectors in our historical data, we transform them to feature vectors. Now, we have feature vectors in many two-week intervals and the corresponding instrument's returns in these intervals. We can use Ordinary Least Square (OLS) regression model to estimate the weights for each instrument such that our linear function can fit to the data. The parameters for OLS function are:\n",
    "\n",
    "- `x`: The collection of columns where **each column** is the value of **a feature** in many two-week interval\n",
    "- `y`: The return of an instrument in the corresponding time interval of x."
   ]
  },
  {
   "cell_type": "markdown",
   "metadata": {},
   "source": [
    "The figure below shows the basic idea of the process to build a statistical model for predicting the returns of stock X.\n",
    "\n",
    "![](https://dl.dropboxusercontent.com/s/kbjtwmnr4w31uev/process-build-model3.svg)\n"
   ]
  },
  {
   "cell_type": "markdown",
   "metadata": {},
   "source": [
    "### Question 5\n",
    "#### Question 5.1\n",
    "\n",
    "<div class=\"alert alert-info\">\n",
    "Currently, our data is in form of:  \n",
    "\n",
    "$$\n",
    "factorsReturns=\n",
    "\\begin{bmatrix}\n",
    " r_{00} & r_{01} & r_{02} & ... & r_{0k} \\\\\n",
    " r_{10} & r_{11} & r_{12} & ... & r_{1k} \\\\\n",
    " ... & ... & ... & ... & ... \\\\\n",
    " r_{n0} & r_{n1} & r_{n2} & ... & r_{nk}\\\\\n",
    "\\end{bmatrix}\n",
    "$$\n",
    "\n",
    "<ul></ul>\n",
    "\n",
    "$$\n",
    "stocksReturns=\n",
    "\\begin{bmatrix}\n",
    " s_{00} & s_{01} & s_{02} & ... & s_{0k} \\\\\n",
    " s_{10} & s_{11} & s_{12} & ... & s_{1k} \\\\\n",
    " ... & ... & ... & ... & ... \\\\\n",
    " s_{n0} & s_{n1} & s_{n2} & ... & s_{nk}\\\\\n",
    "\\end{bmatrix}\n",
    "$$\n",
    "\n",
    "<ul></ul>\n",
    "\n",
    "Where, $r_{ij}$ is the return of factor $i^{th}$ in time window $j^{th}$, $k$ is the number of time windows, and $n$ is the number of factors. A similar definition goes for $s_{ij}$.\n",
    "\n",
    "<ul></ul>\n",
    "\n",
    "In order to use OLS, the parameter must be in form of:\n",
    "\n",
    "<ul></ul>\n",
    "\n",
    "$$\n",
    "x=factorsReturns^T =\n",
    "\\begin{bmatrix}\n",
    " r_{00} & r_{10} & ... & r_{n0} \\\\\n",
    " r_{01} & r_{11} & ... & r_{n1} \\\\\n",
    " r_{02} & r_{12} & ... & r_{n2}\\\\\n",
    " ... & ... & ... & ... \\\\\n",
    " r_{0k} & r_{1k} & ... & r_{nk}\\\\\n",
    "\\end{bmatrix}\n",
    "$$\n",
    "\n",
    "<ul></ul>\n",
    "\n",
    "Whereas, $y$ can be any row in `stocksReturns`.\n",
    "\n",
    "<ul></ul>\n",
    "\n",
    "So, we need a function to transpose a matrix. Write a function named `transpose` to do just that.\n",
    "</div>"
   ]
  },
  {
   "cell_type": "code",
   "execution_count": 23,
   "metadata": {},
   "outputs": [],
   "source": [
    "def transpose(matrix):\n",
    "    return list(map(list,np.transpose(matrix)))\n",
    "\n",
    "# test function\n",
    "assert transpose([[1,2,3], [4,5,6], [7,8,9]]) == [[1, 4, 7], [2, 5, 8], [3, 6, 9]], \"Function transpose runs incorrectly\""
   ]
  },
  {
   "cell_type": "markdown",
   "metadata": {},
   "source": [
    "Please note that for this purpose, \n",
    "```python\n",
    "list(map(list,np.transpose(matrix)))\n",
    "```\n",
    "is as fast as\n",
    "```python\n",
    "[[matrix[j][i] for j in len(matrix)] for i in len(matrix[0])]\n",
    "```\n",
    "\n",
    "This is only true for small data (which is true here as we each factor/instrument as a limited number of entries)."
   ]
  },
  {
   "cell_type": "markdown",
   "metadata": {},
   "source": [
    "#### Question 5.2\n",
    "<div class=\"alert alert-info\">\n",
    "Write a function named `featurize` that takes a list factor's returns $[x_1, x_2,...,x_k]$ and transform it into a new list of features $[u_1,u_2,..,u_k, v_1, v_2,..,v_k, x_1,x_2,...,x_k]$.\n",
    "\n",
    "<ul></ul>\n",
    "\n",
    "Where,  \n",
    "\n",
    "\n",
    "$u_i$ = $\\left\\{\n",
    "\t\\begin{array}{ll}\n",
    "\t\tx_i^2 & \\mbox{if } x_i \\geq 0 \\\\\n",
    "\t\t-x_i^2 & \\mbox{if } x_i < 0\n",
    "\t\\end{array}\n",
    "\\right.\n",
    "$\n",
    "\n",
    "<ul></ul>\n",
    "\n",
    "and  \n",
    "\n",
    "$v_i$ = $\\left\\{\n",
    "\t\\begin{array}{ll}\n",
    "\t\t\\sqrt{x_i} & \\mbox{if } x_i \\geq 0 \\\\\n",
    "\t\t-\\sqrt{x_i} & \\mbox{if } x_i < 0\n",
    "\t\\end{array}\n",
    "\\right.\n",
    "$  \n",
    "\n",
    "</div>"
   ]
  },
  {
   "cell_type": "code",
   "execution_count": 24,
   "metadata": {},
   "outputs": [],
   "source": [
    "from functools import reduce\n",
    "\n",
    "sign = lambda x: 1 if x>=0 else -1\n",
    "squared = lambda x: sign(x)*(x**2)\n",
    "squareRooted = lambda x: sign(x)*np.sqrt(abs(x))\n",
    "identity = lambda x: x\n",
    "\n",
    "def featurize(factorReturns, functions=[squared, squareRooted, identity]):\n",
    "    return reduce(\n",
    "        lambda a, b: a+b,\n",
    "        ([f(x) for x in factorReturns] for f in functions)\n",
    "    )\n",
    "\n",
    "# test our function\n",
    "assert (featurize([4, -9, 25]) == [16, -81, 625, 2, -3, 5, 4, -9, 25]), \"Function runs incorrectly\""
   ]
  },
  {
   "cell_type": "markdown",
   "metadata": {},
   "source": [
    "<div class=\"alert alert-success\">\n",
    "<p>\n",
    "    We slightly modified the function to use custom basis functions to better map the functions space at the end of the notebook. the square ($x \\rightarrow sign(x) \\cdot x^2$), and square root $x \\rightarrow sign(x) \\cdot \\sqrt{x}$) functions are not very bad because they are pretty close from the linear function $x \\rightarrow \\alpha \\cdot x + \\beta$ which allows for small incertainties on the boundary of the data (which is exactly where we want to predict changes).\n",
    "</p>\n",
    "<br>\n",
    "<p>\n",
    "    However, those functions are not that representative of what is happening in the stocks (see the plots). And better functions can be applied to map it. there is almost no state of the art and this is a very important part of trading that to choose accurate basis functions.\n",
    "</p>\n",
    "</div>"
   ]
  },
  {
   "cell_type": "markdown",
   "metadata": {},
   "source": [
    "#### Question 5.3\n",
    "<div class=\"alert alert-info\">\n",
    "Using OLS, estimate the weights for each feature on each stock. What is the shape of `weights` (size of each dimension)?  \n",
    "\n",
    "Explain it.\n",
    "</div>"
   ]
  },
  {
   "cell_type": "code",
   "execution_count": 25,
   "metadata": {},
   "outputs": [
    {
     "name": "stdout",
     "output_type": "stream",
     "text": [
      "A closer look at 5 weights arrays:\n",
      "\n",
      "array([-3.63522668e-03, -3.55617898e-04, -8.01151364e+00,  7.97668276e-05,\n",
      "       -2.19155643e-05,  8.92899777e-02, -1.38690157e+00, -8.69060743e-03,\n",
      "       -5.04988909e-02, -3.74028635e-02,  4.68198875e+00,  7.23918924e-03,\n",
      "        1.07609409e-02])\n",
      "\n",
      "array([-8.43085466e-02,  3.38593448e-03, -2.52774555e+00,  1.90486260e-04,\n",
      "       -4.15146219e-05,  2.00637518e-01,  4.00786012e-01,  8.72648037e-02,\n",
      "       -3.96768908e-02, -1.16252965e-01,  1.37493814e+00, -2.13049413e-02,\n",
      "        2.54314719e-02])\n",
      "\n",
      "array([-1.26838815e-02,  2.74552637e-03, -2.26557862e+00,  4.42075742e-05,\n",
      "       -6.86919096e-06,  6.44542138e-02, -3.07811962e-01,  1.55288529e-02,\n",
      "       -2.59445299e-03, -6.31104261e-02,  1.36208411e+00, -2.37646598e-03,\n",
      "        1.46010126e-03])\n",
      "\n",
      "array([ 4.91357016e-02, -2.76569080e-03, -2.01399290e+00,  5.99186462e-05,\n",
      "       -1.38720613e-05, -7.62262130e-02,  4.88144957e-02,  6.12923938e-02,\n",
      "       -5.81379415e-02,  5.50171047e-02,  3.29502561e-02, -9.55957645e-03,\n",
      "        1.02260710e-02])\n",
      "\n",
      "array([-1.80562054e-01,  4.67064903e-03,  6.16489532e+00,  2.08111640e-04,\n",
      "       -2.55835850e-05, -8.69046560e-02,  1.27109991e+00,  2.71297930e-01,\n",
      "       -6.73645713e-02, -1.35109199e-02, -2.29601288e+00, -5.61784347e-02,\n",
      "        1.89407378e-02])\n"
     ]
    }
   ],
   "source": [
    "def estimateParams(y, x):\n",
    "    return sm.OLS(y, x).fit().params\n",
    "\n",
    "# transpose factorsReturns\n",
    "factorMat = transpose(factorsReturns)\n",
    "\n",
    "# featurize each row of factorMat\n",
    "factorFeatures = list(map(featurize,factorMat))\n",
    "\n",
    "# OLS require parameter is a numpy array\n",
    "factor_columns = np.array(factorFeatures)\n",
    "\n",
    "#add a constant - the intercept term for each instrument i.\n",
    "factor_columns = sm.add_constant(factor_columns, prepend=True)\n",
    "\n",
    "# estimate weights\n",
    "weights = [estimateParams(stockReturns, factor_columns) for stockReturns in stocksReturns]\n",
    "\n",
    "print(\"A closer look at 5 weights arrays:\\n\")\n",
    "print(\"\\n\\n\".join(map(repr,weights[:5])))"
   ]
  },
  {
   "cell_type": "markdown",
   "metadata": {},
   "source": [
    "# TODO\n",
    "<div class=\"alert alert-success\">\n",
    "\n",
    "Note that there are 13 weights for each stock: 12 are for the features, 1 is the constant.\n",
    "\n",
    "</div>"
   ]
  },
  {
   "cell_type": "markdown",
   "metadata": {},
   "source": [
    "<div class=\"alert alert-info\">\n",
    "Graphicaly plot the relation between factors and stocks\n",
    "</div>"
   ]
  },
  {
   "cell_type": "code",
   "execution_count": 26,
   "metadata": {},
   "outputs": [],
   "source": [
    "!pip install -q seaborn"
   ]
  },
  {
   "cell_type": "code",
   "execution_count": 27,
   "metadata": {},
   "outputs": [
    {
     "name": "stderr",
     "output_type": "stream",
     "text": [
      "/opt/conda/lib/python3.6/site-packages/ipykernel_launcher.py:12: RuntimeWarning: invalid value encountered in log\n",
      "  if sys.path[0] == '':\n"
     ]
    },
    {
     "data": {
      "image/png": "[encoded data removed]",
      "text/plain": [
       "<matplotlib.figure.Figure at 0x7f8bbeee1dd8>"
      ]
     },
     "metadata": {},
     "output_type": "display_data"
    }
   ],
   "source": [
    "import seaborn as sns\n",
    "\n",
    "def plot_weights(weights):\n",
    "    _, ax = plt.subplots(\n",
    "        figsize=(len(weights),len(weights[0]))\n",
    "    )\n",
    "\n",
    "    # Using a color palette\n",
    "    cmap = sns.diverging_palette(0, 295, s=80, l=70, as_cmap=True)\n",
    "\n",
    "    # Plot the logs of the weights\n",
    "    sns.heatmap(np.log(weights),  \n",
    "                cmap=cmap,\n",
    "                square=True, \n",
    "                yticklabels=2,\n",
    "                linewidths=.3, \n",
    "                cbar_kws={\"shrink\": .8}, \n",
    "                ax=ax)\n",
    "    \n",
    "plot_weights(weights)"
   ]
  },
  {
   "cell_type": "markdown",
   "metadata": {},
   "source": [
    "<div class=\"alert alert-success\">\n",
    "The weights are plotted above. The meaning of the previous figure is defined as follows:\n",
    "<ul>\n",
    "<li>The displayed values are the log of the weights as defined by this formula: $$ r_{it} = c_i + \\sum_{j=1}^{m}{w_{ij}*f_{tj}}$$.</li>\n",
    "<li>The Violet values tends to show weights near 1, which means that the associated feature (x-axis) is very useful for determining the stock (y-axis).</li>\n",
    "<li>On the contrary, the red values shows weights close to zero and the associated feature have no sens with regard to determining the stock returns.</li>\n",
    "</ul>\n",
    "</div>"
   ]
  },
  {
   "cell_type": "markdown",
   "metadata": {},
   "source": [
    "### Step 2: Defining the distributions for the market conditions\n",
    "Since we cannot define the distributions for the market factors directly, we can only approximate their distribution.\n",
    "The best way to do that, is plotting their value. However, these values may fluctuate quite a lot. \n",
    "\n",
    "Next, we show how to use the Kernel density estimation (KDE) technique to approximate such distributions. In brief, kernel density estimation is a way of smoothing out a histogram: this is achieved by assigning (or centering) a probability distribution (usually a normal distribution) to each data point, and then summing. So, a set of two-week-return samples would result in a large number of \"super-imposed\" normal distributions, each with a different mean. \n",
    "\n",
    "To estimate the probability density at a given point, KDE evaluates the PDFs of all the normal distributions at that point and takes their average. The smoothness of a kernel density plot depends on its *bandwidth*, and the standard deviation of each of the normal distributions. For a brief introduction on KDE, please refer to this [link](https://en.wikipedia.org/wiki/Kernel_density_estimation)."
   ]
  },
  {
   "cell_type": "code",
   "execution_count": 28,
   "metadata": {},
   "outputs": [],
   "source": [
    "!pip install -q bokeh"
   ]
  },
  {
   "cell_type": "code",
   "execution_count": 29,
   "metadata": {},
   "outputs": [],
   "source": [
    "def plotDistributions(samples_list, legends_list, title=None):\n",
    "\n",
    "    vmin = min(samples_list[0])\n",
    "    vmax = max(samples_list[0])\n",
    "    stddev = np.std(samples_list[0])\n",
    "    \n",
    "    domain = np.arange(vmin, vmax, (vmax-vmin)/1000)\n",
    "    \n",
    "    bandwidth = 1.06 * stddev * pow(len(samples_list[0]), -.2)\n",
    "    \n",
    "    _, ax = plt.subplots(figsize=(15,5))\n",
    "    \n",
    "    for i, samples in enumerate(samples_list):\n",
    "        kde = KDEUnivariate(samples)\n",
    "        kde.fit(bw=bandwidth)\n",
    "        density = kde.evaluate(domain)\n",
    "        k = find_index(density, 0.5)\n",
    "        plt.plot(domain, density, label=legends_list[i])\n",
    "    plt.legend(loc='upper left')\n",
    "    if title != None:\n",
    "        plt.title(title)\n",
    "    return ax\n",
    "        \n",
    "def plotDistribution(samples, title=None):\n",
    "    return plotDistributions(samples_list=[samples], \n",
    "                             legends_list=[\"Distribution\"], \n",
    "                             title=title)\n",
    "\n",
    "def plot2Distributions(*samples_list, title=None):\n",
    "    return plotDistributions(samples_list=samples_list, \n",
    "                             legends_list=[\"Real distribution\", \n",
    "                                           \"Normal distribution\"], \n",
    "                             title=title)"
   ]
  },
  {
   "cell_type": "code",
   "execution_count": 30,
   "metadata": {
    "scrolled": false
   },
   "outputs": [
    {
     "data": {
      "image/png": "[encoded data removed]",
      "text/plain": [
       "<matplotlib.figure.Figure at 0x7f8bb01a6a58>"
      ]
     },
     "metadata": {},
     "output_type": "display_data"
    },
    {
     "data": {
      "image/png": "[encoded data removed]",
      "text/plain": [
       "<matplotlib.figure.Figure at 0x7f8bb3d5e5c0>"
      ]
     },
     "metadata": {},
     "output_type": "display_data"
    },
    {
     "data": {
      "image/png": "[encoded data removed]",
      "text/plain": [
       "<matplotlib.figure.Figure at 0x7f8bbef08dd8>"
      ]
     },
     "metadata": {},
     "output_type": "display_data"
    },
    {
     "data": {
      "image/png": "[encoded data removed]",
      "text/plain": [
       "<matplotlib.figure.Figure at 0x7f8b84117470>"
      ]
     },
     "metadata": {},
     "output_type": "display_data"
    }
   ],
   "source": [
    "from statsmodels.nonparametric.kernel_density import KDEMultivariate\n",
    "from statsmodels.nonparametric.kde import KDEUnivariate\n",
    "import matplotlib.pyplot as plt\n",
    "import scipy\n",
    "\n",
    "def find_index(sample, x):\n",
    "    for i in range(len(sample)):\n",
    "         if round(sample[i], 2) == 0.05:\n",
    "            return i\n",
    "\n",
    "\n",
    "for i in range(4):\n",
    "    plotDistribution(factorsReturns[i])\n",
    "    plt.show()"
   ]
  },
  {
   "cell_type": "code",
   "execution_count": null,
   "metadata": {},
   "outputs": [],
   "source": []
  },
  {
   "cell_type": "markdown",
   "metadata": {},
   "source": [
    "For the sake of simplicity, we can say that our smoothed versions of the returns of each factor can be represented quite well by a normal distribution. Of course, more exotic distributions, perhaps with fatter tails, could fit more closely the data, but it is outside the scope of this Notebook to proceed in this way.\n",
    "\n",
    "Now, the simplest way to sample factors returns is to use a normal distribution for each of the factors, and sample from these distributions independently. However, this approach ignores the fact that market factors are often correlated. For example, when the price of crude oil is down, the price of treasury bonds is down too. We can check our data to verify about the correlation."
   ]
  },
  {
   "cell_type": "markdown",
   "metadata": {},
   "source": [
    "### Question 6\n",
    "\n",
    "#### Question 6.1\n",
    "<div class=\"alert alert-info\">\n",
    "\n",
    "Calculate the correlation between market factors and explain the result.\n",
    "\n",
    "</div>\n",
    "\n",
    "<div class=\"label label-success\">HINT</div> function `np.corrcoef` might be useful."
   ]
  },
  {
   "cell_type": "code",
   "execution_count": 31,
   "metadata": {},
   "outputs": [
    {
     "name": "stdout",
     "output_type": "stream",
     "text": [
      "The correlation coefficients between market factors are:\n",
      "\n",
      " [[1.         0.4009053  0.47917317 0.4423977 ]\n",
      " [0.4009053  1.         0.58385221 0.55593894]\n",
      " [0.47917317 0.58385221 1.         0.92053356]\n",
      " [0.4423977  0.55593894 0.92053356 1.        ]]\n"
     ]
    }
   ],
   "source": [
    "correlation = np.corrcoef(factorsReturns)\n",
    "print(\"The correlation coefficients between market factors are:\\n\\n\",correlation)"
   ]
  },
  {
   "cell_type": "markdown",
   "metadata": {},
   "source": [
    "#### Comment\n",
    "<div class=\"comment\">\n",
    "<p>\n",
    "We already saw by visualizing factors in question 4.2 that factors 3 and 4 followed the same trend and seems to be strongly correlated, which is less obvious fot other couples of factors.\n",
    "</p>\n",
    "<br>\n",
    "<p>\n",
    "This means that factor 4 offers only a few additionnal information when compared to factor 3 (and vice-versa).\n",
    "</p>\n",
    "</div>"
   ]
  },
  {
   "cell_type": "markdown",
   "metadata": {},
   "source": [
    "The multivariate normal distribution can help here by taking the correlation information between the factors into account. Each sample from a multivariate normal distribution can be thought of as a vector. Given values for all of the dimensions but one, the distribution of values along that dimension is normal. But, in their joint distribution, the variables are not independent.\n",
    "\n",
    "For this use case, we can write:\n",
    "\n",
    "$$\n",
    "\\left(\\begin{array}{c}f_{1}\\\\f_{2}\\\\f_{3}\\\\f_{4} \\end{array}\\right)\n",
    "\\sim N \n",
    "\\left[\n",
    "  \\left(\n",
    "    \\begin{array}{c}\n",
    "      \\mu_1\\\\ \\mu_2 \\\\ \\mu_3 \\\\ \\mu_4 \n",
    "    \\end{array}\n",
    "  \\right), \n",
    "  \\left(\n",
    "    \\begin{array}{cccc}\n",
    "      \\sigma^2_1 & \\rho_{12} \\sigma_1\\sigma_2 & \\rho_{13} \\sigma_1\\sigma_3 & \\rho_{14} \\sigma_1\\sigma_4 \\\\ \n",
    "      \\rho_{12}\\sigma_2\\sigma_1 & \\sigma^2_2 & \\rho_{23} \\sigma_2\\sigma_3 & \\rho_{24} \\sigma_2\\sigma_4\\\\\n",
    "      \\rho_{13} \\sigma_3\\sigma_1 & \\rho_{23} \\sigma_3\\sigma_2 & \\sigma^2_3 & \\rho_{34} \\sigma_3\\sigma_4 \\\\ \n",
    "      \\rho_{14} \\sigma_4\\sigma_1 & \\rho_{24} \\sigma_4\\sigma_2 & \\rho_{34} \\sigma_3\\sigma_4 & \\sigma_4^2 \\\\ \n",
    "    \\end{array}\n",
    "  \\right)\n",
    "\\right]\n",
    "$$\n",
    "\n",
    "Or,\n",
    "\n",
    "$$\n",
    "f_t \\sim N(\\mu, \\sum)\n",
    "$$\n",
    "\n",
    "Where $f_1$, $f_2$, $f_3$ and $f_4$ are the market factors, $\\sigma_i$ is the standard deviation of factor $i$, $\\mu$ is a vector of the empirical means of the returns of the factors and $\\sum$ is the empirical covariance matrix of the returns of the factors.\n",
    "\n",
    "The multivariate normal is parameterized with a mean along each dimension and a matrix describing the covariance between each pair of dimensions. When the covariance matrix is diagonal, the multivariate normal reduces to sampling along each dimension independently, but placing non-zero values in the off-diagonals helps capture the relationships between variables. Whenever having the mean of this multivariate normal distribution and its covariance matrix, we can generate the sample values for market factors.\n",
    "\n",
    "Next, we will calculate the mean and the covariance matrix of this multivariate normal distribution from the historical data.\n"
   ]
  },
  {
   "cell_type": "markdown",
   "metadata": {},
   "source": [
    "#### Question 6.2\n",
    "<div class=\"alert alert-info\">\n",
    "\n",
    "Calculate the covariance matrix $\\sum$ and the means $\\mu$ of factors' returns then generate a random vector of factors return that follows a multivariate normal distribution $\\sim N(\\mu, \\sum)$\n",
    "\n",
    "</div>\n",
    "\n",
    "<div class=\"label label-success\">HINT</div>\n",
    "Function `np.cov` can help calculating covariance matrix. Function `np.random.multivariate_normal(<mean>, <cov>)` is often used for generating samples."
   ]
  },
  {
   "cell_type": "code",
   "execution_count": 32,
   "metadata": {},
   "outputs": [
    {
     "name": "stdout",
     "output_type": "stream",
     "text": [
      "Covariance matrix\n",
      "[[1.99479662e+01 2.69798075e-01 7.70665225e+01 1.61846128e+02]\n",
      " [2.69798075e-01 2.27036388e-02 3.16792304e+00 6.86143518e+00]\n",
      " [7.70665225e+01 3.16792304e+00 1.29672509e+03 2.71521187e+03]\n",
      " [1.61846128e+02 6.86143518e+00 2.71521187e+03 6.70934736e+03]]\n",
      "\n",
      "Factors mean\n",
      "[0.3532664092664094, -0.001084942084942081, 6.970339789189207, 18.737721800000003]\n",
      "\n",
      "Samples\n",
      "[-0.77228434  0.12770351 27.83112562 85.67433592]\n"
     ]
    }
   ],
   "source": [
    "factorCov = np.cov(factorsReturns)\n",
    "factorMeans = [sum(factor)/len(factor) for factor in factorsReturns]\n",
    "sample_normal = np.random.multivariate_normal(factorMeans, factorCov)\n",
    "print(\"Covariance matrix\")\n",
    "print(factorCov)\n",
    "print(\"\\nFactors mean\")\n",
    "print(factorMeans)\n",
    "print(\"\\nSamples\")\n",
    "print(sample_normal)"
   ]
  },
  {
   "cell_type": "markdown",
   "metadata": {},
   "source": [
    "<div class=\"alert alert-success\">\n",
    "Let's vizualize the difference between the former distribution and the multivariate normal distribution.\n",
    "</div>"
   ]
  },
  {
   "cell_type": "code",
   "execution_count": 33,
   "metadata": {},
   "outputs": [],
   "source": [
    "samplesNormal = []\n",
    "samplesNormal.append(np.random.multivariate_normal(factorMeans, factorCov, 100000))\n",
    "samplesNormal = np.array(samplesNormal[0])\n",
    "factorReturnNormal = []\n",
    "for i in range(4):\n",
    "    factorReturnNormal.append(samplesNormal[:,i])"
   ]
  },
  {
   "cell_type": "code",
   "execution_count": 34,
   "metadata": {},
   "outputs": [
    {
     "data": {
      "image/png": "[encoded data removed]",
      "text/plain": [
       "<matplotlib.figure.Figure at 0x7f8b84079da0>"
      ]
     },
     "metadata": {},
     "output_type": "display_data"
    },
    {
     "data": {
      "image/png": "[encoded data removed]",
      "text/plain": [
       "<matplotlib.figure.Figure at 0x7f8b6fd7e668>"
      ]
     },
     "metadata": {},
     "output_type": "display_data"
    },
    {
     "data": {
      "image/png": "[encoded data removed]",
      "text/plain": [
       "<matplotlib.figure.Figure at 0x7f8b6fcc5e48>"
      ]
     },
     "metadata": {},
     "output_type": "display_data"
    },
    {
     "data": {
      "image/png": "[encoded data removed]",
      "text/plain": [
       "<matplotlib.figure.Figure at 0x7f8b6fcb2e80>"
      ]
     },
     "metadata": {},
     "output_type": "display_data"
    }
   ],
   "source": [
    "Title_list = ['CrudeOil', 'USbonds', 'GSPC', 'IXIC']\n",
    "for i in range(4):\n",
    "    plot2Distributions(factorsReturns[i], factorReturnNormal[i], title=Title_list[i])\n",
    "    plt.show()"
   ]
  },
  {
   "cell_type": "markdown",
   "metadata": {},
   "source": [
    "### Step 3&4: Generating samples, running simulation and calculating the VaR"
   ]
  },
  {
   "cell_type": "markdown",
   "metadata": {},
   "source": [
    "We define some functions that helps us calculating VaR 5%. You will see that the functions below are pretty complicated! This is why we provide a solution for you: however, study them well!!\n",
    "\n",
    "The basic idea of calculating VaR 5% is that we need to find a value such that only 5% of the losses are bigger than it. That means the 5th percentile of the losses should be VaR 5%.\n",
    "\n",
    "VaR can sometimes be problematic though, since it does give any information on the extent of the losses which can exceed the VaR estimate. CVar is an extension of VaR that is introduced to deal with this problem. Indeed, CVaR measures the expected value of the loss in those cases where VaR estimate has been exceeded."
   ]
  },
  {
   "cell_type": "code",
   "execution_count": 35,
   "metadata": {},
   "outputs": [],
   "source": [
    "def fivePercentVaR(trials):\n",
    "    numTrials = trials.count()\n",
    "    topLosses = trials.takeOrdered(max(round(numTrials/20.0), 1))\n",
    "    return topLosses[-1]\n",
    "\n",
    "# an extension of VaR\n",
    "def fivePercentCVaR(trials):\n",
    "    numTrials = trials.count()\n",
    "    topLosses = trials.takeOrdered(max(round(numTrials/20.0), 1))\n",
    "    return sum(topLosses)/len(topLosses)\n",
    "\n",
    "def bootstrappedConfidenceInterval(\n",
    "      trials, computeStatisticFunction,\n",
    "      numResamples, pValue):\n",
    "    stats = []\n",
    "    for i in range(0, numResamples):\n",
    "        resample = trials.sample(True, 1.0)\n",
    "        stats.append(computeStatisticFunction(resample))\n",
    "    sorted(stats)\n",
    "    lowerIndex = int(numResamples * pValue / 2 - 1)\n",
    "    upperIndex = int(np.ceil(numResamples * (1 - pValue / 2)))\n",
    "    return (stats[lowerIndex], stats[upperIndex])"
   ]
  },
  {
   "cell_type": "markdown",
   "metadata": {},
   "source": [
    "Next, we will run the Monte Carlo simulation 10,000 times, in parallel using Spark. Since your cluster has 12 cores (two Spark worker nodes, each with 6 cores), we can set `parallelism = 12` to dispatch simulation on these cores, across the two machines (remember, those are not really \"physical machines\", they are Docker containers running in our infrastructure)."
   ]
  },
  {
   "cell_type": "markdown",
   "metadata": {},
   "source": [
    "### Question 7\n",
    "<div class=\"alert alert-info\">\n",
    "Complete the code below to define the simulation process and calculate VaR 5%.\n",
    "</div>"
   ]
  },
  {
   "cell_type": "code",
   "execution_count": 36,
   "metadata": {},
   "outputs": [],
   "source": [
    "# RUN SILMULATION\n",
    "def simulateTrialReturns(numTrials, factorMeans, factorCov, weights):\n",
    "    trialReturns = []\n",
    "    for _ in range(numTrials):\n",
    "        # generate sample of factors' returns\n",
    "        trialFactorReturns = np.random.multivariate_normal(factorMeans, factorCov)\n",
    "        \n",
    "        # featurize the factors' returns\n",
    "        trialFeatures = featurize(trialFactorReturns.tolist())\n",
    "        \n",
    "        # insert weight for intercept term\n",
    "        trialFeatures.insert(0,1)\n",
    "        \n",
    "        trialTotalReturn = 0\n",
    "        \n",
    "        # calculate the return of each instrument\n",
    "        # then calulate the total of return for this trial features\n",
    "        trialTotalReturn = np.dot(weights,trialFeatures).sum()\n",
    "        \n",
    "        trialReturns.append(trialTotalReturn)\n",
    "    return trialReturns\n",
    "\n",
    "def estimate_VaR(weights, factorMeans, factorCov, parallelism = 12, numTrials = 10000):\n",
    "    trial_indexes = list(range(parallelism))\n",
    "    seedRDD = sc.parallelize(trial_indexes, parallelism)\n",
    "    bFactorWeights = sc.broadcast(weights)\n",
    "\n",
    "    trials = seedRDD.flatMap(lambda idx: \\\n",
    "                    simulateTrialReturns(\n",
    "                        max(int(numTrials/parallelism), 1), \n",
    "                        factorMeans, factorCov,\n",
    "                        bFactorWeights.value\n",
    "                    ))\n",
    "    trials.cache()\n",
    "\n",
    "    valueAtRisk = fivePercentVaR(trials)\n",
    "    conditionalValueAtRisk = fivePercentCVaR(trials)\n",
    "    \n",
    "    return trials, valueAtRisk, conditionalValueAtRisk"
   ]
  },
  {
   "cell_type": "code",
   "execution_count": 37,
   "metadata": {},
   "outputs": [
    {
     "name": "stdout",
     "output_type": "stream",
     "text": [
      "Value at Risk(VaR) 5%:\t\t\t-19.72.\n",
      "Conditional Value at Risk(CVaR) 5%:\t-25.60.\n"
     ]
    }
   ],
   "source": [
    "trials, valueAtRisk, conditionalValueAtRisk =\\\n",
    "    estimate_VaR(weights, factorMeans, factorCov)\n",
    "\n",
    "print(\"Value at Risk(VaR) 5%:\\t\\t\\t{:.2f}.\".format(valueAtRisk))\n",
    "print(\"Conditional Value at Risk(CVaR) 5%:\\t{:.2f}.\".format(conditionalValueAtRisk))"
   ]
  },
  {
   "cell_type": "code",
   "execution_count": 38,
   "metadata": {},
   "outputs": [
    {
     "data": {
      "image/png": "[encoded data removed]",
      "text/plain": [
       "<matplotlib.figure.Figure at 0x7f8b6fca5e48>"
      ]
     },
     "metadata": {},
     "output_type": "display_data"
    }
   ],
   "source": [
    "ax = plotDistribution(trials.take(3000))\n",
    "ax.axvline(valueAtRisk, ymin=0, ymax=.265, c=\"r\")\n",
    "ax.axvline(conditionalValueAtRisk, ymin=0, ymax=.14, c=\"g\")\n",
    "plt.show()"
   ]
  },
  {
   "cell_type": "markdown",
   "metadata": {},
   "source": [
    "The value of VaR depends on how many invested stocks and the chosen distribution of random variables. Assume that we get VaR 5% = -2.66,  that means that there is a 0.05 probability that the portfolio will fall in value by more than \\$2.66 over a two weeks' period if there is no trading. In other words, the loses are less than \\$2.66 over two weeks' period with 95% confidence level. When a loss over two weeks is more than \\$2.66, we call it **failure** (or **exception**). Informally, because of 5% probability, we expect that there are only $0.05*W$ failures out of total $W$ windows."
   ]
  },
  {
   "cell_type": "markdown",
   "metadata": {},
   "source": [
    "### Step 5: Evaluating the results using backtesting method\n",
    "In general, the error in a Monte Carlo simulation should be proportional to 1/sqrt(n), where n is the number of trials. This means, for example, that quadrupling the number of trials should approximately cut the error in half. A good way to check the quality of a result is backtesting on historical data. Backtesting is a statistical procedure where actual losses are compared to the estimated VaR. For instance, if the confidence level used to calculate VaR is 95% (or VaR 5%), we expect only 5 failures over 100 two-week time windows.\n",
    "\n",
    "The most common test of a VaR model is counting the number of VaR failures, i.e., in how many windows, the losses exceed VaR estimate. If the number of exceptions is less than selected confidence level would indicate, the VaR model overestimates the risk. On the contrary, if there are too many exceptions, the risk is underestimated. However, it's very hard to observe the amount of failures suggested by the confidence level exactly. Therefore, people try to study whether the number of failures is reasonable or not, or will the model be accepted or rejected.\n",
    "\n",
    "One common test is Kupiec's proportion-of-failures (POF) test. This test considers how the portfolio performed at many historical time intervals and counts the number of times that the losses exceeded the VaR. The null hypothesis is that the VaR is reasonable, and a sufficiently extreme test statistic means that the VaR estimate does not accurately describe the data. The test statistic is computed as:\n",
    "\n",
    "$$\n",
    "-2ln\\Bigg(\\frac{(1-p)^{T-x}p^x}{(1-\\frac{x}{T})^{T-x}(\\frac{x}{T})^x}\\Bigg)\n",
    "$$\n",
    "\n",
    "where:\n",
    "\n",
    "$p$ is the quantile-of-loss of the VaR calculation (e.g., in VaR 5%, p=0.05),\n",
    "\n",
    "$x$ (the number of failures) is the number of historical intervals over which the losses exceeded the VaR \n",
    "\n",
    "$T$ is  the total number of historical intervals considered\n",
    "\n",
    "Or we can expand out the log for better numerical stability:\n",
    "\n",
    "$$\n",
    "\\begin{equation}\n",
    "-2\\Big((T-x)ln(1-p)+x*ln(p)-(T-x)ln(1-\\frac{x}{T})-x*ln(\\frac{x}{T})\\Big)\n",
    "\\end{equation}\n",
    "$$\n",
    "\n",
    "If we assume the null hypothesis that the VaR is reasonable, then this test statistic is drawn from a chi-squared distribution with a single degree of freedom. By using Chi-squared distribution, we can find the `p-value` accompanying our test statistic value.  If `p-value` exceeds the critical value of the Chi-squared distribution, we do have sufficient evidence to reject the null hypothesis that the model is reasonable. Or we can say, in that case, the model is considered as inaccurate.\n",
    "\n",
    "For example, assume that we calculate VaR 5% (the confidence level of the VaR model is 95%) and get value VaR = 2.26. We also observed 50 exceptions over 500 time windows. Using the formula above, the test statistic `p-value` is calculated and equal to `8.08`. Compared to `3.84`, the critical value of Chi-squared distribution with one degree of freedom at probability 5%, the test statistic is larger. So, the model is rejected. The critical values of Chi-squared can be found by following [this link](https://people.richland.edu/james/lecture/m170/tbl-chi.html).\n",
    "However, in this Notebook, it's not a good idea to find the corresponding critical value by looking in a \"messy\" table, especially when we need to change the confidence level. Instead, from `p-value`, we will calculate the probability of the test statistic in Chi-square thanks to some functions in package `scipy`. If the calculated probability is smaller than the quantile of loss (e.g, 0.05), the model is rejected and vice versa.\n"
   ]
  },
  {
   "cell_type": "markdown",
   "metadata": {},
   "source": [
    "### Question 8\n",
    "\n",
    "#### Question 8.1\n",
    "<div class=\"alert alert-info\">\n",
    "\n",
    "Write a function to calculate the number of failures, that is when the losses (in the original data) exceed the VaR.\n",
    "\n",
    "</div>\n",
    "\n",
    "<div class=\"label label-success\">HINT</div>\n",
    "<ul>\n",
    "  <li>First, we need to calculate the total loss in each 2-week time interval</li>\n",
    "  <li>If the total loss of a time interval exceeds VaR, then we say that our VaR fails to estimate the risk in that time interval</li>\n",
    "  <li>Return the number of failures</li>\n",
    "</ul>  \n",
    "\n",
    "<div class=\"label label-danger\">NOTE</div> The loss is often having negative value, so, be careful when compare it to VaR."
   ]
  },
  {
   "cell_type": "code",
   "execution_count": 39,
   "metadata": {},
   "outputs": [],
   "source": [
    "from scipy import stats\n",
    "import math\n",
    "\n",
    "def countFailures(stocksReturns, valueAtRisk):\n",
    "    failures = 0\n",
    "    # iterate over time intervals\n",
    "    for i in range(len(stocksReturns[0])):\n",
    "        # calculate the losses in each time interval\n",
    "        loss = sum([stockReturns[i] for stockReturns in stocksReturns])\n",
    "        \n",
    "        # if the loss exceeds VaR\n",
    "        if loss < valueAtRisk:\n",
    "            failures += 1\n",
    "    return failures"
   ]
  },
  {
   "cell_type": "code",
   "execution_count": 40,
   "metadata": {},
   "outputs": [
    {
     "data": {
      "text/plain": [
       "106"
      ]
     },
     "execution_count": 40,
     "metadata": {},
     "output_type": "execute_result"
    }
   ],
   "source": [
    "countFailures(stocksReturns, valueAtRisk)"
   ]
  },
  {
   "cell_type": "markdown",
   "metadata": {},
   "source": [
    "#### Question 8.2\n",
    "<div class=\"alert alert-info\">\n",
    "\n",
    "Write a function named `kupiecTestStatistic` to calculate the test statistic which was described in the above equation.\n",
    "\n",
    "</div>"
   ]
  },
  {
   "cell_type": "code",
   "execution_count": 41,
   "metadata": {},
   "outputs": [],
   "source": [
    "def kupiecTestStatistic(total, failures, confidenceLevel):\n",
    "    failureRatio = failures/total\n",
    "    \n",
    "    logNumer = ((total - failures)*np.log(1-confidenceLevel) \n",
    "                + failures*np.log(confidenceLevel))\n",
    "                \n",
    "    logDenom = ((total - failures)*np.log(1-failureRatio) \n",
    "                + failures*np.log(failureRatio))\n",
    "                \n",
    "    return -2 * (logNumer - logDenom)\n",
    "    \n",
    "# test the function\n",
    "assert (round(kupiecTestStatistic(250, 36, 0.1), 2) == 4.80), \"function kupiecTestStatistic runs incorrectly\""
   ]
  },
  {
   "cell_type": "markdown",
   "metadata": {},
   "source": [
    "Now we can find the p-value accompanying our test statistic value."
   ]
  },
  {
   "cell_type": "code",
   "execution_count": 42,
   "metadata": {},
   "outputs": [
    {
     "name": "stdout",
     "output_type": "stream",
     "text": [
      "VaR confidence interval:  (-19.63901979783922, -19.780497623781706)\n",
      "CVaR confidence interval:  (-25.903266438369972, -25.201086159683612)\n",
      "Num failures:106\n",
      "Kupiec test p-value: 1.319368044496411e-06\n"
     ]
    }
   ],
   "source": [
    "def kupiecTestPValue(stocksReturns, valueAtRisk, confidenceLevel):\n",
    "    failures = countFailures(stocksReturns, valueAtRisk)\n",
    "    N = len(stocksReturns)\n",
    "    total = len(stocksReturns[0])\n",
    "    testStatistic = kupiecTestStatistic(total, failures, confidenceLevel)\n",
    "    #return 1 - stats.chi2.cdf(testStatistic, 1.0)\n",
    "    return stats.chi2.sf(testStatistic, 1.0), failures\n",
    "\n",
    "varConfidenceInterval = bootstrappedConfidenceInterval(trials, fivePercentVaR, 100, 0.05)\n",
    "cvarConfidenceInterval = bootstrappedConfidenceInterval(trials, fivePercentCVaR, 100, .05)\n",
    "print(\"VaR confidence interval: \" , varConfidenceInterval)\n",
    "print(\"CVaR confidence interval: \" , cvarConfidenceInterval)\n",
    "print(\"Num failures:{a[1]}\\nKupiec test p-value: {a[0]}\".format(a=kupiecTestPValue(stocksReturns, valueAtRisk, 0.05)))"
   ]
  },
  {
   "cell_type": "markdown",
   "metadata": {},
   "source": [
    "#### Question 8.3\n",
    "<div class=\"alert alert-info\">\n",
    "\n",
    "Discuss the results you have obtained\n",
    "\n",
    "</div>"
   ]
  },
  {
   "cell_type": "markdown",
   "metadata": {},
   "source": [
    "<div class=\"alert alert-warning\">\n",
    "\n",
    "PUT YOUR ANSWER HERE !\n",
    "\n",
    "</div>"
   ]
  },
  {
   "cell_type": "markdown",
   "metadata": {},
   "source": [
    "### Question 9\n",
    "<div class=\"alert alert-info\">\n",
    "Assume that we invest in more than 100 stocks. Use the same market factors as for the previous questions to estimate VaR by running MCS, then validate your result.  \n",
    "\n",
    "What is the main observation you have, once you answer this question? When you plan to invest in more instruments, how is your ability to predict the risk going to be affected?\n",
    "</div>\n"
   ]
  },
  {
   "cell_type": "code",
   "execution_count": 43,
   "metadata": {},
   "outputs": [],
   "source": [
    "from time import time\n",
    "\n",
    "def compute_stocks(files, stock_nb):\n",
    "    rawStocks = list(filter(\n",
    "        # Check that we have more than 5 years\n",
    "        lambda x: (len(x) >= 5*260), \n",
    "        # Process the `stock_nb` first files\n",
    "        (process_stock_file(file, 'Open') for file in files[:stock_nb])\n",
    "    ))\n",
    "\n",
    "    stocks = list(map(\n",
    "        lambda stock: \n",
    "            fillInHistory(\n",
    "                trimToRegion(stock, start, end), \n",
    "                start, end), \n",
    "            rawStocks\n",
    "    ))\n",
    "    return stocks\n",
    "\n",
    "def compute_stocksReturns(stocks):  \n",
    "    stocksReturns = list(map(twoWeekReturns, stocks))\n",
    "    return stocksReturns\n",
    "    \n",
    "def compute_weights(stocksReturns, factor_columns):\n",
    "    # estimate weights\n",
    "    weights = [estimateParams(stockReturns, factor_columns) \n",
    "               for stockReturns in stocksReturns]\n",
    "    return weights\n",
    "\n",
    "def compute_trials(files, factorMeans, factorCov, stock_nb_list):\n",
    "    time_list, VaR5_list, VaRC5_list, kupiec_pvalues_list, failures_list =\\\n",
    "        [], [], [], [], []\n",
    "    for stock_nb in stock_nb_list:\n",
    "        t0 = time()\n",
    "        stocks = compute_stocks(files, stock_nb)\n",
    "        stocksReturns = compute_stocksReturns(stocks)\n",
    "        weights = compute_weights(stocksReturns, factor_columns)\n",
    "        trials, valueAtRisk, conditionalValueAtRisk =\\\n",
    "            estimate_VaR(weights, factorMeans, factorCov)\n",
    "\n",
    "        varConfidenceInterval, cvarConfidenceInterval = \\\n",
    "            bootstrappedConfidenceInterval(trials, fivePercentVaR, 100, 0.05),\\\n",
    "            bootstrappedConfidenceInterval(trials, fivePercentCVaR, 100, .05)\n",
    "        kupiec_pvalue, failures = kupiecTestPValue(stocksReturns, valueAtRisk, 0.05)\n",
    "\n",
    "        t1 = time()\n",
    "        time_list.append(t1-t0)\n",
    "        VaR5_list.append(valueAtRisk)\n",
    "        VaRC5_list.append(conditionalValueAtRisk)\n",
    "        kupiec_pvalues_list.append(kupiec_pvalue)\n",
    "        failures_list.append(failures)\n",
    "\n",
    "        print(\"\\n\\nStocks number: {}\"\n",
    "              .format(stock_nb))\n",
    "        print(\"\\tComputing time {:.2f}s.\".format(t1 - t0))\n",
    "        print(\"\\tVaR confidence interval: \" , varConfidenceInterval)\n",
    "        print(\"\\tCVaR confidence interval: \" , cvarConfidenceInterval)\n",
    "        print(\"\\tNum failures: \", failures)\n",
    "        print(\"\\tKupiec test p-value: \" , kupiec_pvalue)\n",
    "    return stock_nb_list, VaR5_list, time_list, failures_list"
   ]
  },
  {
   "cell_type": "code",
   "execution_count": 44,
   "metadata": {},
   "outputs": [
    {
     "name": "stdout",
     "output_type": "stream",
     "text": [
      "\n",
      "\n",
      "Stocks number: 100\n",
      "\tComputing time 76.31s.\n",
      "\tVaR confidence interval:  (-575.339969644867, -571.7902225596653)\n",
      "\tCVaR confidence interval:  (-1005.6413599267562, -1071.2784087634786)\n",
      "\tNum failures:  241\n",
      "\tKupiec test p-value:  7.555941389639441e-69\n",
      "\n",
      "\n",
      "Stocks number: 200\n",
      "\tComputing time 80.54s.\n",
      "\tVaR confidence interval:  (-577.0848626209628, -615.769026146653)\n",
      "\tCVaR confidence interval:  (-1066.9120965179652, -1077.3023335141713)\n",
      "\tNum failures:  230\n",
      "\tKupiec test p-value:  6.0731175341555065e-62\n",
      "\n",
      "\n",
      "Stocks number: 300\n",
      "\tComputing time 85.07s.\n",
      "\tVaR confidence interval:  (-665.5791741637602, -675.3254913406199)\n",
      "\tCVaR confidence interval:  (-1101.5254900014788, -1162.6258175616597)\n",
      "\tNum failures:  210\n",
      "\tKupiec test p-value:  4.1988662839559565e-50\n",
      "\n",
      "\n",
      "Stocks number: 400\n",
      "\tComputing time 88.73s.\n",
      "\tVaR confidence interval:  (-709.8770741906088, -723.5309903706802)\n",
      "\tCVaR confidence interval:  (-1245.2126748829103, -1213.968214527088)\n",
      "\tNum failures:  199\n",
      "\tKupiec test p-value:  5.26769845239684e-44\n",
      "\n",
      "\n",
      "Stocks number: 500\n",
      "\tComputing time 94.77s.\n",
      "\tVaR confidence interval:  (-748.9121077089978, -748.9121077089978)\n",
      "\tCVaR confidence interval:  (-1256.8807970752412, -1216.6975014527372)\n",
      "\tNum failures:  193\n",
      "\tKupiec test p-value:  8.288910673192252e-41\n",
      "\n",
      "\n",
      "Stocks number: 600\n",
      "\tComputing time 99.35s.\n",
      "\tVaR confidence interval:  (-821.5884981434626, -807.9328682550969)\n",
      "\tCVaR confidence interval:  (-1342.0237901357511, -1287.2107543881416)\n",
      "\tNum failures:  175\n",
      "\tKupiec test p-value:  8.572435535937688e-32\n",
      "\n",
      "\n",
      "Stocks number: 700\n",
      "\tComputing time 107.37s.\n",
      "\tVaR confidence interval:  (-767.7723722317315, -822.0422132303679)\n",
      "\tCVaR confidence interval:  (-1385.9317548274048, -1341.4905121676084)\n",
      "\tNum failures:  176\n",
      "\tKupiec test p-value:  2.8558136329173634e-32\n",
      "\n",
      "\n",
      "Stocks number: 800\n",
      "\tComputing time 119.28s.\n",
      "\tVaR confidence interval:  (-841.190509666374, -871.0273312734753)\n",
      "\tCVaR confidence interval:  (-1414.8827654784557, -1370.3209704761543)\n",
      "\tNum failures:  170\n",
      "\tKupiec test p-value:  1.8929913729538312e-29\n",
      "\n",
      "\n",
      "Stocks number: 900\n",
      "\tComputing time 134.75s.\n",
      "\tVaR confidence interval:  (-898.3962663212633, -899.387757436943)\n",
      "\tCVaR confidence interval:  (-1411.8793536055714, -1471.0683773079518)\n",
      "\tNum failures:  169\n",
      "\tKupiec test p-value:  5.461307698181073e-29\n"
     ]
    }
   ],
   "source": [
    "stock_nb_list = [100*i for i in range(1,10)]\n",
    "files = [join(stock_folder, f) for f in listdir(stock_folder) if isfile(join(stock_folder, f))]\n",
    "stock_nb_list, VaR5_list, time_list, failures_list = compute_trials(files, factorMeans, factorCov, stock_nb_list)"
   ]
  },
  {
   "cell_type": "markdown",
   "metadata": {},
   "source": [
    "<div class=\"alert alert-warning\">\n",
    "\n",
    "PUT YOUR ANSWER HERE !\n",
    "\n",
    "</div>"
   ]
  },
  {
   "cell_type": "code",
   "execution_count": 45,
   "metadata": {},
   "outputs": [
    {
     "data": {
      "text/plain": [
       "Text(0,0.5,'Value at Risk 5%')"
      ]
     },
     "execution_count": 45,
     "metadata": {},
     "output_type": "execute_result"
    },
    {
     "data": {
      "image/png": "[encoded data removed]",
      "text/plain": [
       "<matplotlib.figure.Figure at 0x7f8b84044f98>"
      ]
     },
     "metadata": {},
     "output_type": "display_data"
    }
   ],
   "source": [
    "plt.plot(stock_nb_list, VaR5_list)\n",
    "plt.xlabel(\"Number of stocks\")\n",
    "plt.ylabel(\"Value at Risk 5%\")"
   ]
  },
  {
   "cell_type": "code",
   "execution_count": 46,
   "metadata": {},
   "outputs": [
    {
     "data": {
      "text/plain": [
       "Text(0,0.5,'Computing time [s]')"
      ]
     },
     "execution_count": 46,
     "metadata": {},
     "output_type": "execute_result"
    },
    {
     "data": {
      "image/png": "[encoded data removed]",
      "text/plain": [
       "<matplotlib.figure.Figure at 0x7f8b84044e48>"
      ]
     },
     "metadata": {},
     "output_type": "display_data"
    }
   ],
   "source": [
    "plt.plot(stock_nb_list, time_list)\n",
    "plt.xlabel(\"Number of stocks\")\n",
    "plt.ylabel(\"Computing time [s]\")"
   ]
  },
  {
   "cell_type": "code",
   "execution_count": 47,
   "metadata": {},
   "outputs": [
    {
     "data": {
      "text/plain": [
       "Text(0,0.5,'Number of stocks')"
      ]
     },
     "execution_count": 47,
     "metadata": {},
     "output_type": "execute_result"
    },
    {
     "data": {
      "image/png": "[encoded data removed]",
      "text/plain": [
       "<matplotlib.figure.Figure at 0x7f8bb010fe48>"
      ]
     },
     "metadata": {},
     "output_type": "display_data"
    }
   ],
   "source": [
    "plt.plot(stock_nb_list, failures_list)\n",
    "plt.xlabel(\"Number of failures\")\n",
    "plt.ylabel(\"Number of stocks\")"
   ]
  },
  {
   "cell_type": "markdown",
   "metadata": {},
   "source": [
    "### Question 10\n",
    "<div class=\"alert alert-info\">\n",
    "\n",
    "In the previous questions, we used the normal distributions to sample the factors returns.  \n",
    "\n",
    "Try to study how results vary when selecting other probability distributions: our goal is to improve the result of our MCS.\n",
    "</div>"
   ]
  },
  {
   "cell_type": "code",
   "execution_count": null,
   "metadata": {},
   "outputs": [],
   "source": []
  },
  {
   "cell_type": "markdown",
   "metadata": {},
   "source": [
    "# 6. Improvements\n",
    "\n",
    "## 6.1 Featurizing improvement\n",
    "<div class=\"alert alert-info\">\n",
    "<p>As said, the basis functions used to map the function space are not very complex and terefore we could lack of information for having a good understanding of the stock returns. However, it is very ricky to use complex functions due to side effects that appears when using too complex functions to fit simple data.</p>\n",
    "<br>\n",
    "<p>A way to improve the mapping of the space is to use operators such as the derivative as a featurizer function, to use the trend of the factor to predict the returns of the stocks.</p>\n",
    "</div>"
   ]
  },
  {
   "cell_type": "code",
   "execution_count": 62,
   "metadata": {},
   "outputs": [],
   "source": [
    "def diff(x):\n",
    "    \"\"\"\n",
    "        Return discrete derivative of x\n",
    "    \"\"\"\n",
    "    differential = list(np.diff(x))\n",
    "    # We add the same derivative twice at the very beggining \n",
    "    # of the list in order to keep it the same shape\n",
    "    return [differential[0]]+differential\n",
    "\n",
    "functions = [np.vectorize(squared), np.vectorize(squareRooted), np.vectorize(identity), diff]\n",
    "\n",
    "def improvedFeaturize(factorReturns, vectorizedFunctions=functions):\n",
    "    \"\"\"\n",
    "        Use vectorized functions instead of mapping them.\n",
    "    \"\"\"\n",
    "    return reduce(\n",
    "        lambda a, b: a+b,\n",
    "        (list(f(factorReturns)) for f in vectorizedFunctions)\n",
    "    )"
   ]
  },
  {
   "cell_type": "markdown",
   "metadata": {},
   "source": [
    "Test the `diff` operator in addition to the other functions"
   ]
  },
  {
   "cell_type": "code",
   "execution_count": 63,
   "metadata": {},
   "outputs": [],
   "source": [
    "improvedFactorFeatures = list(map(improvedFeaturize,factorMat))\n",
    "\n",
    "# OLS require parameter is a numpy array\n",
    "improved_factor_columns = np.array(improvedFactorFeatures)\n",
    "\n",
    "#add a constant - the intercept term for each instrument i.\n",
    "improved_factor_columns = sm.add_constant(improved_factor_columns, prepend=True)\n",
    "\n",
    "# estimate weights\n",
    "improvedWeights = [estimateParams(stockReturns, improved_factor_columns) for stockReturns in stocksReturns]"
   ]
  },
  {
   "cell_type": "code",
   "execution_count": 64,
   "metadata": {},
   "outputs": [
    {
     "name": "stderr",
     "output_type": "stream",
     "text": [
      "/opt/conda/lib/python3.6/site-packages/ipykernel_launcher.py:12: RuntimeWarning: invalid value encountered in log\n",
      "  if sys.path[0] == '':\n"
     ]
    },
    {
     "data": {
      "image/png": "[encoded data removed]",
      "text/plain": [
       "<matplotlib.figure.Figure at 0x7f8b6a8e4160>"
      ]
     },
     "metadata": {},
     "output_type": "display_data"
    }
   ],
   "source": [
    "# Plot the weights\n",
    "plot_weights(improvedWeights)"
   ]
  },
  {
   "cell_type": "markdown",
   "metadata": {},
   "source": [
    "<div class=\"alert alert-success\">\n",
    "On a certain subset of stocks, the `diff` operator applied to factors (at the end of the matrix) seems to have a good correlation with the expected returns. However, these new features are usefull only for a few subset of stocks.\n",
    "</div>"
   ]
  },
  {
   "cell_type": "markdown",
   "metadata": {},
   "source": [
    "## 6.2 Cryptocurrencies trading\n",
    "<div class=\"alert alert-info\">\n",
    "<p>We have seen that Monte-Carlo simulation could be used for real-world financial data risk estimation and it works pretty well and is used even in big trading companies. However how could it handle even more volatile data such as Virtual coins stocks?</p>\n",
    "<br>\n",
    "<p>In that part, we will focus on risk estimation using a cryptocurrrencies dataset found on kaggle ([link](https://www.kaggle.com/natehenderson/top-100-cryptocurrency-historical-data))</p>\n",
    "</div>\n",
    "\n",
    "### Question 11.1\n",
    "<div class=\"alert alert-info\">\n",
    "First, load the data.\n",
    "</div>"
   ]
  },
  {
   "cell_type": "code",
   "execution_count": 77,
   "metadata": {},
   "outputs": [],
   "source": [
    "crypto_folder = \"crypto-risk/\"\n",
    "cryptoFiles = [join(crypto_folder, f) for f in listdir(crypto_folder) if isfile(join(crypto_folder, f))]"
   ]
  },
  {
   "cell_type": "code",
   "execution_count": 78,
   "metadata": {},
   "outputs": [],
   "source": [
    "summary = pd.read_csv(crypto_folder+\"100 List.csv\")\n",
    "cols_to_drop = [\"Price\",\"Circulating Supply\", \"Volume (24h)\", \"% Change (24h)\"]\n",
    "summary.drop(cols_to_drop,inplace=True, axis=1)"
   ]
  },
  {
   "cell_type": "code",
   "execution_count": 198,
   "metadata": {},
   "outputs": [],
   "source": [
    "start_crypto = datetime(year=2015, month=1, day=23)\n",
    "end_crypto = datetime(year=2017, month=1, day=23)\n",
    "\n",
    "ds = pd.to_datetime(start_crypto)\n",
    "de = pd.to_datetime(end_crypto)"
   ]
  },
  {
   "cell_type": "code",
   "execution_count": 219,
   "metadata": {},
   "outputs": [
    {
     "name": "stdout",
     "output_type": "stream",
     "text": [
      "Ethereum is not imported!\tCause: Not enough data\n",
      "Bitcoin Cash is not imported!\tCause: Not enough data\n",
      "NEM is not imported!\tCause: Not enough data\n",
      "IOTA is not imported!\tCause: Not enough data\n",
      "Monero is not imported!\tCause: Index is not datetime\n",
      "Ethereum Classic is not imported!\tCause: Not enough data\n",
      "NEO is not imported!\tCause: Not enough data\n",
      "BitConnect is not imported!\tCause: Not enough data\n",
      "Lisk is not imported!\tCause: Not enough data\n",
      "Zcash is not imported!\tCause: Not enough data\n",
      "Stratis is not imported!\tCause: Not enough data\n",
      "Waves is not imported!\tCause: Not enough data\n",
      "Ark is not imported!\tCause: Not enough data\n",
      "Steem is not imported!\tCause: Not enough data\n",
      "Decred is not imported!\tCause: Not enough data\n",
      "Hshare is not imported!\tCause: Not enough data\n",
      "Komodo is not imported!\tCause: Not enough data\n",
      "PIVX is not imported!\tCause: Not enough data\n",
      "Factom is not imported!\tCause: Not enough data\n",
      "Byteball Bytes is not imported!\tCause: Not enough data\n",
      "Nexus is not imported!\tCause: Not enough data\n",
      "Siacoin is not imported!\tCause: Not enough data\n",
      "GXShares is not imported!\tCause: Not enough data\n",
      "Lykke is not imported!\tCause: Not enough data\n",
      "FirstCoin is not imported!\tCause: Not enough data\n",
      "Particl is not imported!\tCause: Not enough data\n",
      "Rise is not imported!\tCause: Not enough data\n",
      "Bitdeal is not imported!\tCause: Not enough data\n",
      "Metaverse ETP is not imported!\tCause: Not enough data\n",
      "ZCoin is not imported!\tCause: Not enough data\n",
      "NoLimitCoin is not imported!\tCause: Not enough data\n",
      "Elastic is not imported!\tCause: Not enough data\n",
      "Aidos Kuneen is not imported!\tCause: Not enough data\n",
      "LEOcoin is not imported!\tCause: Not enough data\n",
      "DECENT is not imported!\tCause: Not enough data\n",
      "The ChampCoin is not imported!\tCause: Not enough data\n",
      "Crown is not imported!\tCause: Not enough data\n",
      "Sprouts is not imported!\tCause: Not enough data\n",
      "ION is not imported!\tCause: Not enough data\n",
      "Skycoin is not imported!\tCause: Not enough data\n",
      "Expanse is not imported!\tCause: Not enough data\n",
      "SIBCoin is not imported!\tCause: Not enough data\n",
      "ZenCash is not imported!\tCause: Not enough data\n",
      "Radium is not imported!\tCause: Not enough data\n",
      "LBRY Credits is not imported!\tCause: Not enough data\n",
      "Shift is not imported!\tCause: Not enough data\n",
      "Neblio is not imported!\tCause: Not enough data\n",
      "Compcoin is not imported!\tCause: Not enough data\n",
      "ATC Coin is not imported!\tCause: Not enough data\n",
      "Gambit is not imported!\tCause: Not enough data\n",
      "E-coin is not imported!\tCause: Not enough data\n",
      "SaluS is not imported!\tCause: Not enough data\n",
      "Golos is not imported!\tCause: Not enough data\n",
      "GridCoin is not imported!\tCause: Not enough data\n",
      "\n",
      "46 Cryptocurrencies stock imported!\n"
     ]
    }
   ],
   "source": [
    "from datetime import timedelta\n",
    "\n",
    "# Store cryptocurrency stocks with a dictionnary {name, timeseries}\n",
    "crypto_stocks = {}\n",
    "\n",
    "for i in summary[\"Name\"]:\n",
    "    file_name = crypto_folder + i + \".csv\"\n",
    "    df = pd.read_csv(file_name, index_col=\"Date\", parse_dates=[\"Date\"])[[\"Open\"]]\n",
    "    try:\n",
    "        # Check if the index is formatted\n",
    "        assert df.index.dtype == 'datetime64[ns]', \"Index is not datetime\"\n",
    "        \n",
    "        # Work only in the time interval we want\n",
    "        df = df[df.index >= ds]\n",
    "        df = df[df.index <= de]\n",
    "        \n",
    "        # Resampling to have data everyday\n",
    "        df = df.resample('D').mean()\n",
    "        \n",
    "        # Removing brand new cryptocurrencies\n",
    "        assert \\\n",
    "            df.index.max()-df.index.min() == timedelta(days=731), \\\n",
    "            \"Not enough data\"\n",
    "        \n",
    "        crypto_stocks[i] = df\n",
    "        \n",
    "    except Exception as e:\n",
    "        print(\"{} is not imported!\\tCause: {}\".format(i, e))\n",
    "print(\"\\n{} Cryptocurrencies stock imported!\".format(len(crypto_stocks)))"
   ]
  },
  {
   "cell_type": "markdown",
   "metadata": {},
   "source": [
    "<div class=\"alert alert-info\">\n",
    "Plot the first stock Opening chart.\n",
    "</div>"
   ]
  },
  {
   "cell_type": "code",
   "execution_count": 220,
   "metadata": {},
   "outputs": [
    {
     "data": {
      "image/png": "[encoded data removed]",
      "text/plain": [
       "<matplotlib.figure.Figure at 0x7f8b6f435860>"
      ]
     },
     "metadata": {},
     "output_type": "display_data"
    }
   ],
   "source": [
    "crypto_stocks[\"Bitcoin\"].plot()\n",
    "plt.ylabel(\"USD\")\n",
    "plt.title(\"Bitcoin marketcap\")\n",
    "plt.show()"
   ]
  },
  {
   "cell_type": "markdown",
   "metadata": {},
   "source": [
    "<div class=\"alert alert-info\">\n",
    "Display the correlation between \n",
    "<div>"
   ]
  },
  {
   "cell_type": "code",
   "execution_count": 212,
   "metadata": {},
   "outputs": [
    {
     "data": {
      "text/plain": [
       "True"
      ]
     },
     "execution_count": 212,
     "metadata": {},
     "output_type": "execute_result"
    }
   ],
   "source": [
    "crypto_stocks[\"Bitcoin\"].index.max()-crypto_stocks[\"Bitcoin\"].index.min() "
   ]
  },
  {
   "cell_type": "code",
   "execution_count": 74,
   "metadata": {},
   "outputs": [
    {
     "name": "stdout",
     "output_type": "stream",
     "text": [
      "crypto-risk/Byteball Bytes.csv\n",
      "1\n"
     ]
    },
    {
     "ename": "ValueError",
     "evalue": "time data '\"Dec 27, 2016\"' does not match format '%b %d, %Y'",
     "output_type": "error",
     "traceback": [
      "\u001b[0;31m---------------------------------------------------------------------------\u001b[0m",
      "\u001b[0;31mValueError\u001b[0m                                Traceback (most recent call last)",
      "\u001b[0;32m<ipython-input-74-cf19a57bf881>\u001b[0m in \u001b[0;36m<module>\u001b[0;34m()\u001b[0m\n\u001b[0;32m----> 1\u001b[0;31m \u001b[0mstocks\u001b[0m \u001b[0;34m=\u001b[0m \u001b[0mcompute_crypto_stocks\u001b[0m\u001b[0;34m(\u001b[0m\u001b[0mcryptoFiles\u001b[0m\u001b[0;34m)\u001b[0m\u001b[0;34m\u001b[0m\u001b[0m\n\u001b[0m\u001b[1;32m      2\u001b[0m \u001b[0;31m#stocksReturns = compute_stocksReturns(stocks)\u001b[0m\u001b[0;34m\u001b[0m\u001b[0;34m\u001b[0m\u001b[0m\n",
      "\u001b[0;32m<ipython-input-73-873f57f630e6>\u001b[0m in \u001b[0;36mcompute_crypto_stocks\u001b[0;34m(files)\u001b[0m\n\u001b[1;32m     23\u001b[0m         \u001b[0;32mlambda\u001b[0m \u001b[0mx\u001b[0m\u001b[0;34m:\u001b[0m \u001b[0;34m(\u001b[0m\u001b[0mlen\u001b[0m\u001b[0;34m(\u001b[0m\u001b[0mx\u001b[0m\u001b[0;34m)\u001b[0m \u001b[0;34m>=\u001b[0m \u001b[0;36m2\u001b[0m\u001b[0;34m*\u001b[0m\u001b[0;36m260\u001b[0m\u001b[0;34m)\u001b[0m\u001b[0;34m,\u001b[0m\u001b[0;34m\u001b[0m\u001b[0m\n\u001b[1;32m     24\u001b[0m         \u001b[0;31m# Process the `stock_nb` first files\u001b[0m\u001b[0;34m\u001b[0m\u001b[0;34m\u001b[0m\u001b[0m\n\u001b[0;32m---> 25\u001b[0;31m         \u001b[0;34m(\u001b[0m\u001b[0mprocess_crypto_file\u001b[0m\u001b[0;34m(\u001b[0m\u001b[0mfile\u001b[0m\u001b[0;34m,\u001b[0m \u001b[0;34m'Open'\u001b[0m\u001b[0;34m)\u001b[0m \u001b[0;32mfor\u001b[0m \u001b[0mfile\u001b[0m \u001b[0;32min\u001b[0m \u001b[0mfiles\u001b[0m\u001b[0;34m)\u001b[0m\u001b[0;34m\u001b[0m\u001b[0m\n\u001b[0m\u001b[1;32m     26\u001b[0m     ))\n\u001b[1;32m     27\u001b[0m \u001b[0;34m\u001b[0m\u001b[0m\n",
      "\u001b[0;32m<ipython-input-73-873f57f630e6>\u001b[0m in \u001b[0;36m<genexpr>\u001b[0;34m(.0)\u001b[0m\n\u001b[1;32m     23\u001b[0m         \u001b[0;32mlambda\u001b[0m \u001b[0mx\u001b[0m\u001b[0;34m:\u001b[0m \u001b[0;34m(\u001b[0m\u001b[0mlen\u001b[0m\u001b[0;34m(\u001b[0m\u001b[0mx\u001b[0m\u001b[0;34m)\u001b[0m \u001b[0;34m>=\u001b[0m \u001b[0;36m2\u001b[0m\u001b[0;34m*\u001b[0m\u001b[0;36m260\u001b[0m\u001b[0;34m)\u001b[0m\u001b[0;34m,\u001b[0m\u001b[0;34m\u001b[0m\u001b[0m\n\u001b[1;32m     24\u001b[0m         \u001b[0;31m# Process the `stock_nb` first files\u001b[0m\u001b[0;34m\u001b[0m\u001b[0;34m\u001b[0m\u001b[0m\n\u001b[0;32m---> 25\u001b[0;31m         \u001b[0;34m(\u001b[0m\u001b[0mprocess_crypto_file\u001b[0m\u001b[0;34m(\u001b[0m\u001b[0mfile\u001b[0m\u001b[0;34m,\u001b[0m \u001b[0;34m'Open'\u001b[0m\u001b[0;34m)\u001b[0m \u001b[0;32mfor\u001b[0m \u001b[0mfile\u001b[0m \u001b[0;32min\u001b[0m \u001b[0mfiles\u001b[0m\u001b[0;34m)\u001b[0m\u001b[0;34m\u001b[0m\u001b[0m\n\u001b[0m\u001b[1;32m     26\u001b[0m     ))\n\u001b[1;32m     27\u001b[0m \u001b[0;34m\u001b[0m\u001b[0m\n",
      "\u001b[0;32m<ipython-input-73-873f57f630e6>\u001b[0m in \u001b[0;36mprocess_crypto_file\u001b[0;34m(fname, value_name)\u001b[0m\n\u001b[1;32m     14\u001b[0m         \u001b[0mprint\u001b[0m\u001b[0;34m(\u001b[0m\u001b[0mvalue_col_nb\u001b[0m\u001b[0;34m)\u001b[0m\u001b[0;34m\u001b[0m\u001b[0m\n\u001b[1;32m     15\u001b[0m         \u001b[0mcontent\u001b[0m \u001b[0;34m=\u001b[0m \u001b[0mcontent_w_header\u001b[0m\u001b[0;34m[\u001b[0m\u001b[0;36m1\u001b[0m\u001b[0;34m:\u001b[0m\u001b[0;34m]\u001b[0m\u001b[0;34m[\u001b[0m\u001b[0;34m:\u001b[0m\u001b[0;34m:\u001b[0m\u001b[0;34m-\u001b[0m\u001b[0;36m1\u001b[0m\u001b[0;34m]\u001b[0m\u001b[0;34m\u001b[0m\u001b[0m\n\u001b[0;32m---> 16\u001b[0;31m         \u001b[0;32mreturn\u001b[0m \u001b[0mlist\u001b[0m\u001b[0;34m(\u001b[0m\u001b[0mmap\u001b[0m\u001b[0;34m(\u001b[0m\u001b[0;32mlambda\u001b[0m \u001b[0mx\u001b[0m\u001b[0;34m:\u001b[0m \u001b[0mprocess_line\u001b[0m\u001b[0;34m(\u001b[0m\u001b[0mx\u001b[0m\u001b[0;34m,\u001b[0m \u001b[0mvalue_col_nb\u001b[0m\u001b[0;34m)\u001b[0m \u001b[0;34m,\u001b[0m \u001b[0mcontent\u001b[0m\u001b[0;34m)\u001b[0m\u001b[0;34m)\u001b[0m\u001b[0;34m\u001b[0m\u001b[0m\n\u001b[0m\u001b[1;32m     17\u001b[0m \u001b[0;34m\u001b[0m\u001b[0m\n\u001b[1;32m     18\u001b[0m \u001b[0;32mdef\u001b[0m \u001b[0mcompute_crypto_stocks\u001b[0m\u001b[0;34m(\u001b[0m\u001b[0mfiles\u001b[0m\u001b[0;34m)\u001b[0m\u001b[0;34m:\u001b[0m\u001b[0;34m\u001b[0m\u001b[0m\n",
      "\u001b[0;32m<ipython-input-73-873f57f630e6>\u001b[0m in \u001b[0;36m<lambda>\u001b[0;34m(x)\u001b[0m\n\u001b[1;32m     14\u001b[0m         \u001b[0mprint\u001b[0m\u001b[0;34m(\u001b[0m\u001b[0mvalue_col_nb\u001b[0m\u001b[0;34m)\u001b[0m\u001b[0;34m\u001b[0m\u001b[0m\n\u001b[1;32m     15\u001b[0m         \u001b[0mcontent\u001b[0m \u001b[0;34m=\u001b[0m \u001b[0mcontent_w_header\u001b[0m\u001b[0;34m[\u001b[0m\u001b[0;36m1\u001b[0m\u001b[0;34m:\u001b[0m\u001b[0;34m]\u001b[0m\u001b[0;34m[\u001b[0m\u001b[0;34m:\u001b[0m\u001b[0;34m:\u001b[0m\u001b[0;34m-\u001b[0m\u001b[0;36m1\u001b[0m\u001b[0;34m]\u001b[0m\u001b[0;34m\u001b[0m\u001b[0m\n\u001b[0;32m---> 16\u001b[0;31m         \u001b[0;32mreturn\u001b[0m \u001b[0mlist\u001b[0m\u001b[0;34m(\u001b[0m\u001b[0mmap\u001b[0m\u001b[0;34m(\u001b[0m\u001b[0;32mlambda\u001b[0m \u001b[0mx\u001b[0m\u001b[0;34m:\u001b[0m \u001b[0mprocess_line\u001b[0m\u001b[0;34m(\u001b[0m\u001b[0mx\u001b[0m\u001b[0;34m,\u001b[0m \u001b[0mvalue_col_nb\u001b[0m\u001b[0;34m)\u001b[0m \u001b[0;34m,\u001b[0m \u001b[0mcontent\u001b[0m\u001b[0;34m)\u001b[0m\u001b[0;34m)\u001b[0m\u001b[0;34m\u001b[0m\u001b[0m\n\u001b[0m\u001b[1;32m     17\u001b[0m \u001b[0;34m\u001b[0m\u001b[0m\n\u001b[1;32m     18\u001b[0m \u001b[0;32mdef\u001b[0m \u001b[0mcompute_crypto_stocks\u001b[0m\u001b[0;34m(\u001b[0m\u001b[0mfiles\u001b[0m\u001b[0;34m)\u001b[0m\u001b[0;34m:\u001b[0m\u001b[0;34m\u001b[0m\u001b[0m\n",
      "\u001b[0;32m<ipython-input-73-873f57f630e6>\u001b[0m in \u001b[0;36mprocess_line\u001b[0;34m(line, value_col_nb)\u001b[0m\n\u001b[1;32m      2\u001b[0m     \u001b[0;32mdef\u001b[0m \u001b[0mprocess_line\u001b[0m\u001b[0;34m(\u001b[0m\u001b[0mline\u001b[0m\u001b[0;34m,\u001b[0m \u001b[0mvalue_col_nb\u001b[0m\u001b[0;34m)\u001b[0m\u001b[0;34m:\u001b[0m\u001b[0;34m\u001b[0m\u001b[0m\n\u001b[1;32m      3\u001b[0m         \u001b[0mcols\u001b[0m \u001b[0;34m=\u001b[0m \u001b[0mline\u001b[0m\u001b[0;34m.\u001b[0m\u001b[0msplit\u001b[0m\u001b[0;34m(\u001b[0m\u001b[0;34m\",\"\u001b[0m\u001b[0;34m)\u001b[0m\u001b[0;34m\u001b[0m\u001b[0m\n\u001b[0;32m----> 4\u001b[0;31m         \u001b[0mdate\u001b[0m \u001b[0;34m=\u001b[0m \u001b[0mdatetime\u001b[0m\u001b[0;34m.\u001b[0m\u001b[0mstrptime\u001b[0m\u001b[0;34m(\u001b[0m\u001b[0mcols\u001b[0m\u001b[0;34m[\u001b[0m\u001b[0;36m0\u001b[0m\u001b[0;34m]\u001b[0m\u001b[0;34m+\u001b[0m\u001b[0;34m\",\"\u001b[0m\u001b[0;34m+\u001b[0m\u001b[0mcols\u001b[0m\u001b[0;34m[\u001b[0m\u001b[0;36m1\u001b[0m\u001b[0;34m]\u001b[0m\u001b[0;34m,\u001b[0m \u001b[0;34m\"%b %d, %Y\"\u001b[0m\u001b[0;34m)\u001b[0m\u001b[0;34m\u001b[0m\u001b[0m\n\u001b[0m\u001b[1;32m      5\u001b[0m         \u001b[0mvalue\u001b[0m \u001b[0;34m=\u001b[0m \u001b[0mfloat\u001b[0m\u001b[0;34m(\u001b[0m\u001b[0mcols\u001b[0m\u001b[0;34m[\u001b[0m\u001b[0mvalue_col_nb\u001b[0m\u001b[0;34m]\u001b[0m\u001b[0;34m)\u001b[0m\u001b[0;34m\u001b[0m\u001b[0m\n\u001b[1;32m      6\u001b[0m         \u001b[0;32mreturn\u001b[0m \u001b[0;34m(\u001b[0m\u001b[0mdate\u001b[0m\u001b[0;34m,\u001b[0m \u001b[0mvalue\u001b[0m\u001b[0;34m)\u001b[0m\u001b[0;34m\u001b[0m\u001b[0m\n",
      "\u001b[0;32m/opt/conda/lib/python3.6/_strptime.py\u001b[0m in \u001b[0;36m_strptime_datetime\u001b[0;34m(cls, data_string, format)\u001b[0m\n\u001b[1;32m    563\u001b[0m     \"\"\"Return a class cls instance based on the input string and the\n\u001b[1;32m    564\u001b[0m     format string.\"\"\"\n\u001b[0;32m--> 565\u001b[0;31m     \u001b[0mtt\u001b[0m\u001b[0;34m,\u001b[0m \u001b[0mfraction\u001b[0m \u001b[0;34m=\u001b[0m \u001b[0m_strptime\u001b[0m\u001b[0;34m(\u001b[0m\u001b[0mdata_string\u001b[0m\u001b[0;34m,\u001b[0m \u001b[0mformat\u001b[0m\u001b[0;34m)\u001b[0m\u001b[0;34m\u001b[0m\u001b[0m\n\u001b[0m\u001b[1;32m    566\u001b[0m     \u001b[0mtzname\u001b[0m\u001b[0;34m,\u001b[0m \u001b[0mgmtoff\u001b[0m \u001b[0;34m=\u001b[0m \u001b[0mtt\u001b[0m\u001b[0;34m[\u001b[0m\u001b[0;34m-\u001b[0m\u001b[0;36m2\u001b[0m\u001b[0;34m:\u001b[0m\u001b[0;34m]\u001b[0m\u001b[0;34m\u001b[0m\u001b[0m\n\u001b[1;32m    567\u001b[0m     \u001b[0margs\u001b[0m \u001b[0;34m=\u001b[0m \u001b[0mtt\u001b[0m\u001b[0;34m[\u001b[0m\u001b[0;34m:\u001b[0m\u001b[0;36m6\u001b[0m\u001b[0;34m]\u001b[0m \u001b[0;34m+\u001b[0m \u001b[0;34m(\u001b[0m\u001b[0mfraction\u001b[0m\u001b[0;34m,\u001b[0m\u001b[0;34m)\u001b[0m\u001b[0;34m\u001b[0m\u001b[0m\n",
      "\u001b[0;32m/opt/conda/lib/python3.6/_strptime.py\u001b[0m in \u001b[0;36m_strptime\u001b[0;34m(data_string, format)\u001b[0m\n\u001b[1;32m    360\u001b[0m     \u001b[0;32mif\u001b[0m \u001b[0;32mnot\u001b[0m \u001b[0mfound\u001b[0m\u001b[0;34m:\u001b[0m\u001b[0;34m\u001b[0m\u001b[0m\n\u001b[1;32m    361\u001b[0m         raise ValueError(\"time data %r does not match format %r\" %\n\u001b[0;32m--> 362\u001b[0;31m                          (data_string, format))\n\u001b[0m\u001b[1;32m    363\u001b[0m     \u001b[0;32mif\u001b[0m \u001b[0mlen\u001b[0m\u001b[0;34m(\u001b[0m\u001b[0mdata_string\u001b[0m\u001b[0;34m)\u001b[0m \u001b[0;34m!=\u001b[0m \u001b[0mfound\u001b[0m\u001b[0;34m.\u001b[0m\u001b[0mend\u001b[0m\u001b[0;34m(\u001b[0m\u001b[0;34m)\u001b[0m\u001b[0;34m:\u001b[0m\u001b[0;34m\u001b[0m\u001b[0m\n\u001b[1;32m    364\u001b[0m         raise ValueError(\"unconverted data remains: %s\" %\n",
      "\u001b[0;31mValueError\u001b[0m: time data '\"Dec 27, 2016\"' does not match format '%b %d, %Y'"
     ]
    }
   ],
   "source": [
    "stocks = compute_crypto_stocks(cryptoFiles)\n",
    "#stocksReturns = compute_stocksReturns(stocks)"
   ]
  },
  {
   "cell_type": "markdown",
   "metadata": {},
   "source": [
    "We can spot that the time windows used is smaller that for real currencies due to the lack of data in the dataset (cryptocurrencies are a pretty new trend)."
   ]
  },
  {
   "cell_type": "markdown",
   "metadata": {},
   "source": [
    "### Question 11.2\n",
    "<div class=\"alert alert-info\">\n",
    "Plot the correlation between cryptocurrencies stock exchange values and real-world market ones.\n",
    "</div>"
   ]
  },
  {
   "cell_type": "code",
   "execution_count": null,
   "metadata": {},
   "outputs": [],
   "source": [
    "!pip install -q seaborn"
   ]
  },
  {
   "cell_type": "code",
   "execution_count": null,
   "metadata": {},
   "outputs": [],
   "source": [
    "import seaborn as sns"
   ]
  },
  {
   "cell_type": "markdown",
   "metadata": {},
   "source": [
    "One drawback of doing this is that there is sometimes no correlation between real world economy and the cryptocurrencies exchange rate. This makes it very difficult to find good factors to process."
   ]
  },
  {
   "cell_type": "markdown",
   "metadata": {},
   "source": [
    "# 7. Summary\n",
    "In this lecture, we studied the Monte Carlo Simulation method and its application to estimate financial risk. To apply it, first, we needed to define the relationship between market factors and the instruments' returns. In such step, you must define the model which maps the market factors' values to the instruments' values: in our use case, we used a linear regression function for building our model. Next, we also had to find the parameters of our model, which are the weights of the factors we considered. Then, we had to study the distribution of each market factor. A good way to do that is using Kernel density estimation to smooth the distribution and plot it. Depending on the shape of each figure, we had to guess the best fit distribution for each factor: in our use case, we used a very simple approach, and decided that our smoothed distributions all looked normal distributions. \n",
    "\n",
    "Then, the idea of Monte Carlo simulation was to generate many possible values for each factor and calculate the corresponding outcomes by a well-defined model in each trial. After many trials, we were able to calculate VaR from the sequences of outcome's values. When the number of trials is large enough, the VaR converges to reasonable values, that we could validate using well-known statistical hypothesis. "
   ]
  },
  {
   "cell_type": "markdown",
   "metadata": {},
   "source": [
    "# References\n",
    "- The example in section 2 is inspired from [this article](http://www.solver.com/monte-carlo-simulation-example).\n",
    "- [Backtesting Value-at-Risk models](https://aaltodoc.aalto.fi/bitstream/handle/123456789/181/hse_ethesis_12049.pdf?sequence=1) (Kansantaloustiede, 2009) - (A good reference to study Backtesting).\n"
   ]
  },
  {
   "cell_type": "code",
   "execution_count": null,
   "metadata": {},
   "outputs": [],
   "source": []
  }
 ],
 "metadata": {
  "kernelspec": {
   "display_name": "Python 3",
   "language": "python",
   "name": "python3"
  },
  "language_info": {
   "codemirror_mode": {
    "name": "ipython",
    "version": 3
   },
   "file_extension": ".py",
   "mimetype": "text/x-python",
   "name": "python",
   "nbconvert_exporter": "python",
   "pygments_lexer": "ipython3",
   "version": "3.6.4"
  }
 },
 "nbformat": 4,
 "nbformat_minor": 2
}
