{
 "cells": [
  {
   "cell_type": "markdown",
   "metadata": {},
   "source": [
    "2018 Edition"
   ]
  },
  {
   "cell_type": "markdown",
   "metadata": {},
   "source": [
    "# Building a music recommender system\n",
    "\n",
    "As its name implies, a recommender system is a tool that helps predicting what a user may or may not like among a list of given items. In some sense, you can view this as an alternative to content search, as recommendation engines help users discover products or content that they may not come across otherwise. For example, Facebook suggests friends and pages to users. Youtube recommends videos which users may be interested in. Amazon suggests the products which users may need... Recommendation engines engage users to services, can be seen as a revenue optimization process, and in general help maintaining interest in a service.\n",
    "\n",
    "In this notebook, we study how to build a simple recommender system: we focus on music recommendations, and we use a simple algorithm to predict which items users might like, that is called ALS, alternating least squares.\n",
    "\n",
    "## Goals\n",
    "\n",
    "In this lecture, we expect students to:\n",
    "\n",
    "- Revisit (or learn) recommender algorithms\n",
    "\n",
    "- Understand the idea of Matrix Factorization and the ALS algorithm (serial and parallel versions)\n",
    "\n",
    "- Build a simple model for a real usecase: music recommender system\n",
    "\n",
    "- Understand how to validate the results\n",
    "\n",
    "## Steps\n",
    "\n",
    "We assume students to work outside lab hours on the learning material. These are the steps by which we guide students, during labs, to build a good basis for the end-to-end development of a recommender system:\n",
    "\n",
    "* Inspect the data using Spark SQL, and build some basic, but very valuable knowledge about the information we have at hand\n",
    "* Formally define what is a sensible algorithm to achieve our goal: given the \"history\" of user taste for music, recommend new music to discover. Essentialy, we want to build a statistical model of user preferences such that we can use it to \"predict\" which additional music the user could like\n",
    "* With our formal definition at hand, we will learn different ways to implement such an algorithm. Our goal here is to illustrate what are the difficulties to overcome when implementing a (parallel) algorithm\n",
    "* Finally, we will focus on an existing implementation, available in the Apache Spark MLLib, which we will use out of the box to build a reliable statistical model\n",
    "\n",
    "Now, you may think at this point we will be done!\n",
    "\n",
    "Well, you'd better think twice: one important topic we will cover in all our Notebooks is **how to validate the results we obtain**, and **how to choose good parameters to train models** especially when using an \"opaque\" library for doing the job. As a consequence, we will focus on the statistical validation of our recommender system.\n"
   ]
  },
  {
   "cell_type": "markdown",
   "metadata": {},
   "source": [
    "# 1. Data\n",
    "\n",
    "Understanding data is one of the most important part when designing any machine learning algorithm. In this notebook, we will use a data set published by Audioscrobbler - a music recommendation system for last.fm. Audioscrobbler is also one of the first internet streaming radio sites, founded in 2002. It provided an open API for “scrobbling”, or recording listeners’ plays of artists’ songs. last.fm used this information to build a powerful music recommender engine.\n",
    "\n",
    "## 1.1. Data schema\n",
    "\n",
    "Unlike a rating dataset which contains information about users' preference for products (one star, 3 stars, and so on), the datasets from Audioscrobbler only has information about events: specifically, it keeps track of how many times a user played songs of a given artist and the names of artists. That means it carries less information than a rating: in the literature, this is called explicit vs. implicit ratings.\n",
    "\n",
    "### Reading material\n",
    "\n",
    "- [Implicit Feedback for Inferring User Preference: A Bibliography](http://people.csail.mit.edu/teevan/work/publications/papers/sigir-forum03.pdf)\n",
    "- [Comparing explicit and implicit feedback techniques for web retrieval: TREC-10 interactive track report](http://trec.nist.gov/pubs/trec10/papers/glasgow.pdf)\n",
    "- [Probabilistic Models for Data Combination in Recommender Systems](http://mlg.eng.cam.ac.uk/pub/pdf/WilGha08.pdf)\n",
    "\n",
    "The data we use in this Notebook is available in 3 files (these files are stored in our HDFS layer, in the directory  ```/datasets/lastfm```):\n",
    "\n",
    "- **`user_artist_data.txt`**: It contains about 140,000+ unique users, and 1.6 million unique artists. About 24.2 million users’ plays of artists’ are recorded, along with their count. It has 3 columns separated by spaces: \n",
    "\n",
    "| UserID | ArtistID | PlayCount |\n",
    "|----|----|----|\n",
    "| ...|...|...|\n",
    "\n",
    "\n",
    "- **`artist_data.txt`** : It prodives the names of each artist by their IDs. It has 2 columns separated by tab characters (`\\t`).\n",
    "\n",
    "| ArtistID | Name |\n",
    "|---|---|\n",
    "|...|...|\n",
    "\n",
    "- **`artist_alias.txt`**: Note that when plays are scrobbled, the client application submits the name of the artist being played. This name could be misspelled or nonstandard. For example, \"The Smiths\", \"Smiths, The\", and \"the smiths\" may appear as distinct artist IDs in the data set, even though they are plainly the same. `artist_alias.txt` maps artist IDs that are known misspellings or variants to the canonical ID of that artist. The data in this file has 2 columns separated by tab characters (`\\t`).\n",
    "\n",
    "| MisspelledArtistID | StandardArtistID |\n",
    "|---|---|\n",
    "|...|...|\n",
    "\n"
   ]
  },
  {
   "cell_type": "markdown",
   "metadata": {},
   "source": [
    "## 1.2. Understanding data: simple descriptive statistic\n",
    "\n",
    "In order to choose or design a suitable algorithm for achieving our goals, given the data we have, we should first understand data characteristics. To start, we import the necessary packages to work with regular expressions, Data Frames, and other nice features of our programming environment."
   ]
  },
  {
   "cell_type": "code",
   "execution_count": 1,
   "metadata": {},
   "outputs": [],
   "source": [
    "import os\n",
    "import sys\n",
    "import re\n",
    "import random\n",
    "from pyspark import SparkContext\n",
    "from pyspark.sql import SQLContext\n",
    "from pyspark.sql.types import *\n",
    "from pyspark.sql import Row\n",
    "from pyspark.sql.functions import *\n",
    "\n",
    "%matplotlib inline\n",
    "import matplotlib.pyplot as plt\n",
    "import pandas as pd\n",
    "import numpy as np\n",
    "from time import time\n",
    "\n",
    "import seaborn as sns\n",
    "\n",
    "sns.set(palette=sns.color_palette(\"colorblind\", 8),\n",
    "       style=sns.axes_style(\"white\"))\n",
    "plt.rcParams[\"figure.figsize\"] = (12, 6)\n",
    "\n",
    "sqlContext = SQLContext(sc)\n",
    "base = \"/datasets/lastfm/\""
   ]
  },
  {
   "cell_type": "markdown",
   "metadata": {},
   "source": [
    "### Question 1\n",
    "\n",
    "#### Question 1.0 (Non-grading)\n",
    "<div class=\"alert alert-info\">\n",
    "Using SPARK SQL, load data from `/datasets/lastfm/user_artist_data.txt` and show the first 20 entries (via function `show()`).\n",
    "</div>\n",
    "\n",
    "For this Notebook, from a programming point of view, we are given the schema for the data we use, which is as follows:\n",
    "\n",
    "```\n",
    "userID: long int\n",
    "artistID: long int\n",
    "playCount: int\n",
    "```\n",
    "\n",
    "Each line of the dataset contains the above three fields, separated by a \"white space\"."
   ]
  },
  {
   "cell_type": "code",
   "execution_count": 2,
   "metadata": {},
   "outputs": [
    {
     "name": "stdout",
     "output_type": "stream",
     "text": [
      "+-------+--------+---------+\n",
      "| userID|artistID|playCount|\n",
      "+-------+--------+---------+\n",
      "|1000002|       1|       55|\n",
      "|1000002| 1000006|       33|\n",
      "|1000002| 1000007|        8|\n",
      "|1000002| 1000009|      144|\n",
      "|1000002| 1000010|      314|\n",
      "|1000002| 1000013|        8|\n",
      "|1000002| 1000014|       42|\n",
      "|1000002| 1000017|       69|\n",
      "|1000002| 1000024|      329|\n",
      "|1000002| 1000025|        1|\n",
      "|1000002| 1000028|       17|\n",
      "|1000002| 1000031|       47|\n",
      "|1000002| 1000033|       15|\n",
      "|1000002| 1000042|        1|\n",
      "|1000002| 1000045|        1|\n",
      "|1000002| 1000054|        2|\n",
      "|1000002| 1000055|       25|\n",
      "|1000002| 1000056|        4|\n",
      "|1000002| 1000059|        2|\n",
      "|1000002| 1000062|       71|\n",
      "+-------+--------+---------+\n",
      "only showing top 20 rows\n",
      "\n"
     ]
    }
   ],
   "source": [
    "userArtistDataSchema = StructType([ \\\n",
    "    StructField(\"userID\", LongType(), True), \\\n",
    "    StructField(\"artistID\", LongType(), True), \\\n",
    "    StructField(\"playCount\", IntegerType(), True)])\n",
    "\n",
    "userArtistDF = sqlContext.read \\\n",
    "    .format('com.databricks.spark.csv') \\\n",
    "    .options(header='false', delimiter=' ') \\\n",
    "    .load(base + \"user_artist_data.txt\", schema = userArtistDataSchema) \\\n",
    "    .cache()\n",
    "\n",
    "# we can cache an Dataframe to avoid computing it from the beginning everytime it is accessed.\n",
    "userArtistDF.cache()\n",
    "\n",
    "userArtistDF.show(20)"
   ]
  },
  {
   "cell_type": "markdown",
   "metadata": {},
   "source": [
    "#### Question 1.1: \n",
    "<div class=\"alert alert-info\">\n",
    "How many distinct users do we have in our data? \n",
    "</div>"
   ]
  },
  {
   "cell_type": "code",
   "execution_count": 3,
   "metadata": {},
   "outputs": [
    {
     "name": "stdout",
     "output_type": "stream",
     "text": [
      "Total n. of users:  148111\n"
     ]
    }
   ],
   "source": [
    "uniqueUsers = userArtistDF.select(\"UserID\").distinct().count()\n",
    "print(\"Total n. of users: \", uniqueUsers)"
   ]
  },
  {
   "cell_type": "markdown",
   "metadata": {},
   "source": [
    "#### Answer\n",
    "<div class=\"alert alert-success\">\n",
    "<p>\n",
    "    There are approximately 150k distinct users, which is enough to use a statistical approach as we will do later in this notebook.\n",
    "</p>\n",
    "<p>\n",
    "    A too few number of users would not have been sufficient to predict accurately users tastes as all the sensitivities would not have been represented in the dataset.\n",
    "</p>\n",
    "<p>\n",
    "    Furthermore, a huge number of distinct and various users reduces the risk of overfitting if those users have a huge variety of tastes. In fact this widens the range of features that can be predicted accurately using a <b>Collaborative-based system</b> (this will be the case in this notebook because <b>content-based systems</b> needs more features as there is in the dataset for artists (for instance, it would have been accurate to include the genre, the year, or even the main language of the artist).\n",
    "</p>\n",
    "</div>"
   ]
  },
  {
   "cell_type": "markdown",
   "metadata": {},
   "source": [
    "#### Additional question\n",
    "\n",
    "<div class=\"alert alert-info\">\n",
    "What is the average number of entries per user ?\n",
    "</div>"
   ]
  },
  {
   "cell_type": "code",
   "execution_count": 4,
   "metadata": {},
   "outputs": [
    {
     "name": "stdout",
     "output_type": "stream",
     "text": [
      "Average user entries:  164\n"
     ]
    }
   ],
   "source": [
    "entriesPerUser = userArtistDF.select(\"UserID\").count()//\\\n",
    "    userArtistDF.select(\"UserID\").distinct().count()#Floored\n",
    "print(\"Average user entries: \", entriesPerUser)"
   ]
  },
  {
   "cell_type": "markdown",
   "metadata": {},
   "source": [
    "#### Answer\n",
    "<div class=\"alert alert-success\">\n",
    "<p>\n",
    "    The more entries there will be per user, the less sparse (<i>warmer</i>) the utility matrix will be and therefore the more the recommandation will be accurate (it also improves the risk of overfitting). \n",
    "</p>\n",
    "<p>\n",
    "This is what happend when we gather people in groups of interest to improve the prediction on preferences : this is reducing the number of artists to take into account (is nobody in the group ever heard/rated an artist, there is no need to include it in the matrix and it therefore reduces the number of it). The goal is obviously to have a more dense matrix, easier to exploit.\n",
    "</p>\n",
    "<p>\n",
    "Generaly speaking, on a huge dataset, the number of feature per observation is relatively slow, leading to a pretty sparse matrix and a huge degree of liberty predicting good results: there is a lot of uncertainty.\n",
    "</p>\n",
    "\n",
    "<p>\n",
    "Another important thing to take into account is (cf question 3.2) that artists may be mispelled or non-standard and therefore the matrix may be way less sparse. This is the reason why we don't compare the number of entries per user to the number of artists for now.\n",
    "</p>\n",
    "\n",
    "</div>"
   ]
  },
  {
   "cell_type": "markdown",
   "metadata": {},
   "source": [
    "#### Question 1.2\n",
    "<div class=\"alert alert-info\">\n",
    "How many distinct artists do we have in our data ?\n",
    "</div>"
   ]
  },
  {
   "cell_type": "code",
   "execution_count": 5,
   "metadata": {},
   "outputs": [
    {
     "name": "stdout",
     "output_type": "stream",
     "text": [
      "Total n. of artists:  1631028\n"
     ]
    }
   ],
   "source": [
    "uniqueArtists = userArtistDF.select(\"ArtistID\").distinct().count()\n",
    "print(\"Total n. of artists: \", uniqueArtists)"
   ]
  },
  {
   "cell_type": "markdown",
   "metadata": {},
   "source": [
    "#### Answer\n",
    "<div class=\"alert alert-success\">\n",
    "<p>\n",
    "    In the opposite of the number of Users, the number of artists increases the sparsity of the utility matrix in the case of collaborative-based system and therefore makes predictions less accurate. A system is capable of better prediction in a smaller set of products.\n",
    "</p>\n",
    "<p>\n",
    "    But here, as we will see later in this notebook, the number of distinct artists is not right: artists may have been mispelled in that dataset.\n",
    "</p>\n",
    "</div>"
   ]
  },
  {
   "cell_type": "markdown",
   "metadata": {},
   "source": [
    "#### Question 1.3\n",
    "<div class=\"alert alert-info\">\n",
    "One limitation of Spark MLlib's ALS implementation - which we will use later - is that it requires IDs for users and items to be nonnegative 32-bit integers. This means that IDs larger than `Integer.MAX_VALUE`, or `2147483647`, can't be used. So we need to check whether this data set conforms to the strict requirements of our library.  \n",
    "\n",
    "What are the maximum and minimum values of column `userID` ?  \n",
    "</div>"
   ]
  },
  {
   "cell_type": "code",
   "execution_count": 6,
   "metadata": {},
   "outputs": [
    {
     "name": "stdout",
     "output_type": "stream",
     "text": [
      "The maximum user ID is  2443548  <=  Integer.MAX_VALUE\n"
     ]
    }
   ],
   "source": [
    "maxUserID = (userArtistDF.select(max(\"UserID\"))\n",
    "             # The returned tab is of len 1\n",
    "             .collect()[0]\n",
    "             # Easier to process as a dictionnary\n",
    "             .asDict()[\"max(UserID)\"])\n",
    "\n",
    "print(\"The maximum user ID is \", \n",
    "      maxUserID, \n",
    "      \" <= \" if maxUserID <= 2147483647 else \" > \",\n",
    "      \"Integer.MAX_VALUE\")"
   ]
  },
  {
   "cell_type": "code",
   "execution_count": 7,
   "metadata": {},
   "outputs": [
    {
     "name": "stdout",
     "output_type": "stream",
     "text": [
      "The minimum user ID is  90  >=  0\n"
     ]
    }
   ],
   "source": [
    "minUserID = (userArtistDF.select(min(\"UserID\"))\n",
    "             # The returned tab is of len 1\n",
    "             .collect()[0]\n",
    "             # Easier to process as a dictionnary\n",
    "             .asDict()[\"min(UserID)\"])\n",
    "\n",
    "print(\"The minimum user ID is \", \n",
    "      minUserID, \n",
    "      \" >= \" if minUserID >= 0 else \" < \",\n",
    "      \"0\")"
   ]
  },
  {
   "cell_type": "markdown",
   "metadata": {},
   "source": [
    "#### Question 1.4\n",
    "<div class=\"alert alert-info\">\n",
    "What is the maximum and minimum values of column `artistID` ?\n",
    "</div>"
   ]
  },
  {
   "cell_type": "code",
   "execution_count": 8,
   "metadata": {},
   "outputs": [
    {
     "name": "stdout",
     "output_type": "stream",
     "text": [
      "The maximum artist ID is  10794401  <=  Integer.MAX_VALUE\n"
     ]
    }
   ],
   "source": [
    "maxArtistID = (userArtistDF.select(max(\"ArtistID\"))\n",
    "               .collect()[0]\n",
    "               .asDict()[\"max(ArtistID)\"])\n",
    "\n",
    "print(\"The maximum artist ID is \", \n",
    "      maxArtistID, \n",
    "      \" <= \" if maxArtistID <= 2147483647 else \" > \",\n",
    "      \"Integer.MAX_VALUE\")"
   ]
  },
  {
   "cell_type": "code",
   "execution_count": 9,
   "metadata": {},
   "outputs": [
    {
     "name": "stdout",
     "output_type": "stream",
     "text": [
      "The minimum artist ID is  1  >=  0\n"
     ]
    }
   ],
   "source": [
    "minArtistID = (userArtistDF.select(min(\"ArtistID\"))\n",
    "               .collect()[0]\n",
    "               .asDict()[\"min(ArtistID)\"])\n",
    "\n",
    "print(\"The minimum artist ID is \", \n",
    "      minArtistID, \n",
    "      \" >= \" if minArtistID >= 0 else \" < \",\n",
    "      \"0\")"
   ]
  },
  {
   "cell_type": "markdown",
   "metadata": {},
   "source": [
    "We just discovered that we have a total of 148,111 users in our dataset. Similarly, we have a total of 1,631,028 artists in our dataset. The maximum values of `userID` and `artistID` are still smaller than the biggest number of integer type.  No additional transformation will be necessary to use these IDs.\n",
    "\n",
    "One thing we can see here is that SPARK SQL provides very concise and powerful methods for data analytics (compared to using RDD and their low-level API). You can see more examples [here](https://databricks.com/blog/2015/06/02/statistical-and-mathematical-functions-with-dataframes-in-spark.html)."
   ]
  },
  {
   "cell_type": "markdown",
   "metadata": {},
   "source": [
    "Next, we might want to understand better user activity and artist popularity.\n",
    "\n",
    "Here is a list of simple descriptive queries that helps us reaching these purposes:\n",
    "\n",
    "* How many times each user has played a song? This is a good indicator of who are the most active users of our service. Note that a very active user with many play counts does not necessarily mean that the user is also \"curious\"! Indeed, she could have played the same song several times.\n",
    "* How many play counts for each artist? This is a good indicator of the artist popularity. Since we do not have time information associated to our data, we can only build a, e.g., top-10 ranking of the most popular artists in the dataset. Later in the notebook, we will learn that our dataset has a very \"loose\" definition about artists: very often artist IDs point to song titles as well. This means we have to be careful when establishing popular artists. Indeed, artists whose data is \"well formed\" will have the correct number of play counts associated to them. Instead, artists that appear mixed with song titles may see their play counts \"diluted\" across their songs."
   ]
  },
  {
   "cell_type": "markdown",
   "metadata": {},
   "source": [
    "#### Additionnal question\n",
    "<div class=\"alert alert-info\">\n",
    "Display the utility matrix sparsity.\n",
    "</div>"
   ]
  },
  {
   "cell_type": "code",
   "execution_count": 10,
   "metadata": {},
   "outputs": [
    {
     "data": {
      "text/html": [
       "<script type='text/javascript' src='https://dub01.online.tableau.com/javascripts/api/viz_v1.js'></script><div class='tableauPlaceholder' style='width: 1440px; height: 673px;'><object class='tableauViz' width='1440' height='673' style='display:none;'><param name='host_url' value='https%3A%2F%2Fdub01.online.tableau.com%2F' /> <param name='embed_code_version' value='3' /> <param name='site_root' value='&#47;t&#47;amllab' /><param name='name' value='RecSysLab&#47;LongTailEmphasized' /><param name='tabs' value='no' /><param name='toolbar' value='yes' /><param name='showAppBanner' value='false' /><param name='filter' value='iframeSizedToWindow=true' /></object></div>"
      ],
      "text/plain": [
       "<IPython.core.display.HTML object>"
      ]
     },
     "metadata": {},
     "output_type": "display_data"
    }
   ],
   "source": [
    "%%HTML\n",
    "<script type='text/javascript' src='https://dub01.online.tableau.com/javascripts/api/viz_v1.js'></script><div class='tableauPlaceholder' style='width: 1440px; height: 673px;'><object class='tableauViz' width='1440' height='673' style='display:none;'><param name='host_url' value='https%3A%2F%2Fdub01.online.tableau.com%2F' /> <param name='embed_code_version' value='3' /> <param name='site_root' value='&#47;t&#47;amllab' /><param name='name' value='RecSysLab&#47;LongTailEmphasized' /><param name='tabs' value='no' /><param name='toolbar' value='yes' /><param name='showAppBanner' value='false' /><param name='filter' value='iframeSizedToWindow=true' /></object></div>"
   ]
  },
  {
   "cell_type": "code",
   "execution_count": 11,
   "metadata": {},
   "outputs": [
    {
     "data": {
      "text/html": [
       "<div class=\"alert alert-success\">\n",
       "<script type='text/javascript' src='https://dub01.online.tableau.com/javascripts/api/viz_v1.js'></script><div class='tableauPlaceholder' style='width: 1440px; height: 673px;'><object class='tableauViz' width='1440' height='673' style='display:none;'><param name='host_url' value='https%3A%2F%2Fdub01.online.tableau.com%2F' /> <param name='embed_code_version' value='3' /> <param name='site_root' value='&#47;t&#47;amllab' /><param name='name' value='RecSysLab&#47;SparsityoftheUtilityMatrix' /><param name='tabs' value='no' /><param name='toolbar' value='yes' /><param name='showAppBanner' value='false' /><param name='filter' value='iframeSizedToWindow=true' /></object></div>\n",
       "</div>"
      ],
      "text/plain": [
       "<IPython.core.display.HTML object>"
      ]
     },
     "metadata": {},
     "output_type": "display_data"
    }
   ],
   "source": [
    "%%HTML\n",
    "<div class=\"alert alert-success\">\n",
    "<script type='text/javascript' src='https://dub01.online.tableau.com/javascripts/api/viz_v1.js'></script><div class='tableauPlaceholder' style='width: 1440px; height: 673px;'><object class='tableauViz' width='1440' height='673' style='display:none;'><param name='host_url' value='https%3A%2F%2Fdub01.online.tableau.com%2F' /> <param name='embed_code_version' value='3' /> <param name='site_root' value='&#47;t&#47;amllab' /><param name='name' value='RecSysLab&#47;SparsityoftheUtilityMatrix' /><param name='tabs' value='no' /><param name='toolbar' value='yes' /><param name='showAppBanner' value='false' /><param name='filter' value='iframeSizedToWindow=true' /></object></div>\n",
    "</div>"
   ]
  },
  {
   "cell_type": "markdown",
   "metadata": {},
   "source": [
    "### Question 2\n",
    "\n",
    "#### Question 2.1\n",
    "<div class=\"alert alert-info\">\n",
    "How many times each user has played a song? Show 5 samples of the result.\n",
    "</div>"
   ]
  },
  {
   "cell_type": "code",
   "execution_count": 12,
   "metadata": {},
   "outputs": [
    {
     "data": {
      "text/html": [
       "<div>\n",
       "<style scoped>\n",
       "    .dataframe tbody tr th:only-of-type {\n",
       "        vertical-align: middle;\n",
       "    }\n",
       "\n",
       "    .dataframe tbody tr th {\n",
       "        vertical-align: top;\n",
       "    }\n",
       "\n",
       "    .dataframe thead th {\n",
       "        text-align: right;\n",
       "    }\n",
       "</style>\n",
       "<table border=\"1\" class=\"dataframe\">\n",
       "  <thead>\n",
       "    <tr style=\"text-align: right;\">\n",
       "      <th></th>\n",
       "      <th>sum(PlayCount)</th>\n",
       "    </tr>\n",
       "    <tr>\n",
       "      <th>UserID</th>\n",
       "      <th></th>\n",
       "    </tr>\n",
       "  </thead>\n",
       "  <tbody>\n",
       "    <tr>\n",
       "      <th>1000061</th>\n",
       "      <td>244</td>\n",
       "    </tr>\n",
       "    <tr>\n",
       "      <th>1000070</th>\n",
       "      <td>20200</td>\n",
       "    </tr>\n",
       "    <tr>\n",
       "      <th>1000313</th>\n",
       "      <td>201</td>\n",
       "    </tr>\n",
       "    <tr>\n",
       "      <th>1000832</th>\n",
       "      <td>1064</td>\n",
       "    </tr>\n",
       "    <tr>\n",
       "      <th>1000905</th>\n",
       "      <td>214</td>\n",
       "    </tr>\n",
       "  </tbody>\n",
       "</table>\n",
       "</div>"
      ],
      "text/plain": [
       "         sum(PlayCount)\n",
       "UserID                 \n",
       "1000061             244\n",
       "1000070           20200\n",
       "1000313             201\n",
       "1000832            1064\n",
       "1000905             214"
      ]
     },
     "execution_count": 12,
     "metadata": {},
     "output_type": "execute_result"
    }
   ],
   "source": [
    "# Compute user activity\n",
    "# We are interested in how many playcounts each user has scored.\n",
    "userActivity = userArtistDF.groupBy(\"UserID\").sum(\"PlayCount\").collect()\n",
    "# Plot the number of Play per user (for 5 users)\n",
    "# Pandas allow us to do that in a visual way\n",
    "pd.DataFrame(userActivity[:5], \n",
    "             columns=userActivity[0].__fields__)\\\n",
    "  .set_index(\"UserID\")"
   ]
  },
  {
   "cell_type": "code",
   "execution_count": 13,
   "metadata": {},
   "outputs": [
    {
     "name": "stdout",
     "output_type": "stream",
     "text": [
      "+-------------------+-------------------+\n",
      "|min(sum(PlayCount))|max(sum(PlayCount))|\n",
      "+-------------------+-------------------+\n",
      "|                  1|             674412|\n",
      "+-------------------+-------------------+\n",
      "\n"
     ]
    }
   ],
   "source": [
    "# Look at the min and the max activity for users\n",
    "(userArtistDF\n",
    "        # We want to sum the PlayCount field for each user\n",
    "        .groupBy(\"UserID\")\n",
    "        .sum(\"PlayCount\")\n",
    "        # Then process the max and the min\n",
    "        .select(min(\"sum(PlayCount)\"), max(\"sum(PlayCount)\"))\n",
    "        .show())"
   ]
  },
  {
   "cell_type": "markdown",
   "metadata": {},
   "source": [
    "#### Answer\n",
    "<div class=\"alert alert-success\">\n",
    "<p>\n",
    "    User activity is very variable: it starts from new users or users that only listen to a few songs to users with hundreds of thousand of listening.\n",
    "</p>\n",
    "<p>\n",
    "    This has to do with the time spent on the LastFM platform. Multiple behaviours can be observed:\n",
    "    <ul>\n",
    "        <li>Some users are very curious and spend a lot of time looking for new songs and to widen the range of their listenings. Those users are very useful for the recommendation system as they realy improve the accuracy of the prediction, by making the utility matrix warmer (less sparse) ; their rating (here number of listening) is then very usefull. However, the drawback is that a recommendation system leads to reduce the variety of their listening by predicting what they want to listen and therefore to reduce their curiosity. This can leads to entire parts of the matrix that are unexplored by users if they only follow the recommendation system.</li>\n",
    "        <li>Some users juste loop-play the music they already know. Those users doesn't contribute much to improve the utility matrix, but may be more likely to benefit from the recommendation system. However they are still usefull for other users that have the same tastes as them and also not listening so many artists but knowing a little bit less songs.</li>\n",
    "    </ul>\n",
    "</p>\n",
    "</div>"
   ]
  },
  {
   "cell_type": "markdown",
   "metadata": {},
   "source": [
    "#### Question 2.2\n",
    "<div class=\"alert alert-info\">\n",
    "Plot CDF (or ECDF) of the number of play counts per User ID.  \n",
    "\n",
    "Explain and comment the figure you just created:   \n",
    "<ul>\n",
    "<li>for example, look at important percentiles (25%, median, 75%, tails such as >90%) and cross check with what you have found above to figure out if the result is plausible. </li>\n",
    "<li>discuss about your users, with respect to the application domain we target in the notebook: you will notice that for some users, there is very little interaction with the system, which means that maybe reccommending something to them is going to be more difficult than for other users who interact more with the system. </li>\n",
    "<li>look at outliers and reason about their impact on your reccommender algorithm</li>\n",
    "</ul>\n",
    "</div>"
   ]
  },
  {
   "cell_type": "code",
   "execution_count": 14,
   "metadata": {},
   "outputs": [],
   "source": [
    "percentiles = [.25,.5,.75,.9]"
   ]
  },
  {
   "cell_type": "code",
   "execution_count": 15,
   "metadata": {},
   "outputs": [
    {
     "name": "stdout",
     "output_type": "stream",
     "text": [
      "[     0      1      2 ... 148108 148109 148110]\n"
     ]
    },
    {
     "data": {
      "image/png": "[encoded data removed]",
      "text/plain": [
       "<matplotlib.figure.Figure at 0x7f0ead4e77b8>"
      ]
     },
     "metadata": {},
     "output_type": "display_data"
    }
   ],
   "source": [
    "pdf = pd.DataFrame(data=userActivity)\n",
    "Y=np.sort( pdf[1] )\n",
    "data_nb = len(Y)\n",
    "yvals=np.arange(len(Y))/float(data_nb)\n",
    "\n",
    "print(np.arange(len(Y)))\n",
    "\n",
    "plt.xscale('log')\n",
    "plt.plot( Y, yvals )\n",
    "plt.xlabel('Play Counts')\n",
    "plt.ylabel('ECDF')\n",
    "plt.grid(True,which=\"both\",ls=\"-\")\n",
    "for percentile in percentiles:\n",
    "    plt.axhline(percentile, color='r', linestyle=\"--\")\n",
    "    plt.axvline(Y[int(data_nb*percentile)], color='r', linestyle='--')\n",
    "plt.title('ECDF of number of play counts per User ID')\n",
    "plt.show()"
   ]
  },
  {
   "cell_type": "code",
   "execution_count": 16,
   "metadata": {},
   "outputs": [
    {
     "data": {
      "text/html": [
       "<div>\n",
       "<style scoped>\n",
       "    .dataframe tbody tr th:only-of-type {\n",
       "        vertical-align: middle;\n",
       "    }\n",
       "\n",
       "    .dataframe tbody tr th {\n",
       "        vertical-align: top;\n",
       "    }\n",
       "\n",
       "    .dataframe thead th {\n",
       "        text-align: right;\n",
       "    }\n",
       "</style>\n",
       "<table border=\"1\" class=\"dataframe\">\n",
       "  <thead>\n",
       "    <tr style=\"text-align: right;\">\n",
       "      <th></th>\n",
       "      <th>value</th>\n",
       "    </tr>\n",
       "    <tr>\n",
       "      <th>percentiles</th>\n",
       "      <th></th>\n",
       "    </tr>\n",
       "  </thead>\n",
       "  <tbody>\n",
       "    <tr>\n",
       "      <th>0.25</th>\n",
       "      <td>204</td>\n",
       "    </tr>\n",
       "    <tr>\n",
       "      <th>0.50</th>\n",
       "      <td>892</td>\n",
       "    </tr>\n",
       "    <tr>\n",
       "      <th>0.75</th>\n",
       "      <td>2800</td>\n",
       "    </tr>\n",
       "    <tr>\n",
       "      <th>0.90</th>\n",
       "      <td>6484</td>\n",
       "    </tr>\n",
       "  </tbody>\n",
       "</table>\n",
       "</div>"
      ],
      "text/plain": [
       "             value\n",
       "percentiles       \n",
       "0.25           204\n",
       "0.50           892\n",
       "0.75          2800\n",
       "0.90          6484"
      ]
     },
     "execution_count": 16,
     "metadata": {},
     "output_type": "execute_result"
    }
   ],
   "source": [
    "percentile_values = list(zip(percentiles, \n",
    "                             [Y[int(data_nb*p)] for p in percentiles]))\n",
    "pd.DataFrame(percentile_values, \n",
    "             columns=[\"percentiles\", \"value\"])\\\n",
    "  .set_index(\"percentiles\")"
   ]
  },
  {
   "cell_type": "code",
   "execution_count": 17,
   "metadata": {},
   "outputs": [],
   "source": [
    "# used to eliminate outliers (See question 11.2)\n",
    "user_range = dict(min=Y[int(data_nb*.1)], \n",
    "                  max=Y[int(data_nb*.9)])"
   ]
  },
  {
   "cell_type": "markdown",
   "metadata": {},
   "source": [
    "#### Answer\n",
    "<div class=\"alert alert-success\">\n",
    "<p>\n",
    "The huge majority of users have a limited number of play each (typically, 90% of the users have an individual play count of less than 6500).\n",
    "</p>\n",
    "<p>\n",
    "    As said in the previous question, some users interacts a lot with the systems. Those users will benefit and contribute a lot to the recommendation system. The users that don't contribute much to the system, listening to music, or the new users will have biased recommendations or too generic recommendations:<br>\n",
    "    An user that have no contribution will have generic prediction based on the whole system as for the \"most viewed\" homepage in YouTube.<br>\n",
    "    Some users that contributed too few will have their recommendation based only on their contribution, which can be on the boundaries of what they like, or not focused on the typical listening they want. In that case the recommendation system which is collaborative and therefore based on other users feedback will not associate this user to the right group of users which would give good answers.\n",
    "</p>\n",
    "<br>\n",
    "<p>\n",
    "    <b>Example:</b> A user with 3 listening, 1 on something he doesn't like (e.g hard-rock) and listened for some random reason, and 2 things he likes (e.g generic, well known classical music) will have biased recommended content as hard-rock remix of classical music, if the users he is associated are listening this knid of music. <br>\n",
    "    \n",
    "    This also stresses the importance to have a huge user and listening base to start such a recommendation system.\n",
    "</p>\n",
    "<br>\n",
    "<p>\n",
    "    Finaly users that listen too much to music are not that interesting because they are likely to let their PC turned on with the music played, even without choosing it, changing automatically with the recommandations given.\n",
    "</p>\n",
    "<br>\n",
    "<p class=\"alert alert-warning\">\n",
    "    All of these reasons lead to eliminate the \"outliers\" that are here present and only keep the range [10%-90%]. As a matter of fact we belive that this satifies the central-limit theorem which tells us that a huge number of users will have a gaussian behaviour.\n",
    "</p>\n",
    "</div>"
   ]
  },
  {
   "cell_type": "markdown",
   "metadata": {},
   "source": [
    "#### Question 2.3\n",
    "\n",
    "<div class=\"alert alert-info\">\n",
    "How many play counts for each artist? Plot CDF or ECDF of the result.  \n",
    "\n",
    "Similarly to the previous question, you need to comment and interpret your result: what is the figure telling you?\n",
    "</div>"
   ]
  },
  {
   "cell_type": "code",
   "execution_count": 18,
   "metadata": {},
   "outputs": [
    {
     "data": {
      "text/html": [
       "<div>\n",
       "<style scoped>\n",
       "    .dataframe tbody tr th:only-of-type {\n",
       "        vertical-align: middle;\n",
       "    }\n",
       "\n",
       "    .dataframe tbody tr th {\n",
       "        vertical-align: top;\n",
       "    }\n",
       "\n",
       "    .dataframe thead th {\n",
       "        text-align: right;\n",
       "    }\n",
       "</style>\n",
       "<table border=\"1\" class=\"dataframe\">\n",
       "  <thead>\n",
       "    <tr style=\"text-align: right;\">\n",
       "      <th></th>\n",
       "      <th>sum(PlayCount)</th>\n",
       "    </tr>\n",
       "    <tr>\n",
       "      <th>ArtistID</th>\n",
       "      <th></th>\n",
       "    </tr>\n",
       "  </thead>\n",
       "  <tbody>\n",
       "    <tr>\n",
       "      <th>1000313</th>\n",
       "      <td>128183</td>\n",
       "    </tr>\n",
       "    <tr>\n",
       "      <th>1233634</th>\n",
       "      <td>15204</td>\n",
       "    </tr>\n",
       "    <tr>\n",
       "      <th>5409</th>\n",
       "      <td>526693</td>\n",
       "    </tr>\n",
       "    <tr>\n",
       "      <th>1001530</th>\n",
       "      <td>199573</td>\n",
       "    </tr>\n",
       "    <tr>\n",
       "      <th>1007205</th>\n",
       "      <td>50348</td>\n",
       "    </tr>\n",
       "  </tbody>\n",
       "</table>\n",
       "</div>"
      ],
      "text/plain": [
       "          sum(PlayCount)\n",
       "ArtistID                \n",
       "1000313           128183\n",
       "1233634            15204\n",
       "5409              526693\n",
       "1001530           199573\n",
       "1007205            50348"
      ]
     },
     "execution_count": 18,
     "metadata": {},
     "output_type": "execute_result"
    }
   ],
   "source": [
    "# Compute artist popularity\n",
    "# We are interested in how many playcounts per artist\n",
    "# ATTENTION! Grouping by artistID may be problematic, as stated above.\n",
    "\n",
    "artistPopularity = userArtistDF.groupBy(\"ArtistID\").sum(\"PlayCount\").collect()\n",
    "# Plot the number of Play per artist (for 5 users)\n",
    "# Pandas allow us to do that in a visual way\n",
    "pd.DataFrame(artistPopularity[:5], \n",
    "             columns=artistPopularity[0].__fields__)\\\n",
    "  .set_index(\"ArtistID\")"
   ]
  },
  {
   "cell_type": "markdown",
   "metadata": {},
   "source": [
    "<div class=\"alert alert-success\">\n",
    "    <p>The PlayCount per artist is a good indicator of the artist popularity. The more the artist is listened the more he is popular.</p>\n",
    "    <p>The importance of knowing popularity comes from the importance of ratings as it is importance ton know the preferences of a user for collaborative filtering. That's what will be used for gathering 'similar' users according to preferences.</p>\n",
    "    <p>But there is a problem : very often artist IDs point to song titles as well. This means we have to be careful when establishing popular artists. Indeed, artists whose data is \"well formed\" will have the correct number of play counts associated to them. Instead, artists that appear mixed with song titles may see their play counts shared across their songs.</p>\n",
    "</div>"
   ]
  },
  {
   "cell_type": "code",
   "execution_count": 19,
   "metadata": {},
   "outputs": [
    {
     "name": "stdout",
     "output_type": "stream",
     "text": [
      "[      0       1       2 ... 1631025 1631026 1631027]\n"
     ]
    },
    {
     "data": {
      "image/png": "[encoded data removed]",
      "text/plain": [
       "<matplotlib.figure.Figure at 0x7f0ea4ef87b8>"
      ]
     },
     "metadata": {},
     "output_type": "display_data"
    }
   ],
   "source": [
    "pdf = pd.DataFrame(data=artistPopularity)\n",
    "Y=np.sort( pdf[1] )\n",
    "data_nb = len(Y)\n",
    "yvals=np.arange(data_nb)/float(data_nb)\n",
    "\n",
    "print(np.arange(data_nb))\n",
    "\n",
    "plt.xscale('log')\n",
    "plt.plot( Y, yvals )\n",
    "plt.xlabel('Play Counts')\n",
    "plt.ylabel('ECDF')\n",
    "plt.grid(True,which=\"both\",ls=\"-\")\n",
    "for percentile in percentiles:\n",
    "    plt.axhline(percentile, color='r', linestyle=\"--\")\n",
    "    plt.axvline(Y[int(data_nb*percentile)], color='r', linestyle='--')\n",
    "plt.title('ECDF of number of play counts per Artist ID')\n",
    "plt.show()"
   ]
  },
  {
   "cell_type": "code",
   "execution_count": 20,
   "metadata": {},
   "outputs": [
    {
     "data": {
      "text/html": [
       "<div>\n",
       "<style scoped>\n",
       "    .dataframe tbody tr th:only-of-type {\n",
       "        vertical-align: middle;\n",
       "    }\n",
       "\n",
       "    .dataframe tbody tr th {\n",
       "        vertical-align: top;\n",
       "    }\n",
       "\n",
       "    .dataframe thead th {\n",
       "        text-align: right;\n",
       "    }\n",
       "</style>\n",
       "<table border=\"1\" class=\"dataframe\">\n",
       "  <thead>\n",
       "    <tr style=\"text-align: right;\">\n",
       "      <th></th>\n",
       "      <th>value</th>\n",
       "    </tr>\n",
       "    <tr>\n",
       "      <th>percentiles</th>\n",
       "      <th></th>\n",
       "    </tr>\n",
       "  </thead>\n",
       "  <tbody>\n",
       "    <tr>\n",
       "      <th>0.25</th>\n",
       "      <td>1</td>\n",
       "    </tr>\n",
       "    <tr>\n",
       "      <th>0.50</th>\n",
       "      <td>3</td>\n",
       "    </tr>\n",
       "    <tr>\n",
       "      <th>0.75</th>\n",
       "      <td>11</td>\n",
       "    </tr>\n",
       "    <tr>\n",
       "      <th>0.90</th>\n",
       "      <td>45</td>\n",
       "    </tr>\n",
       "  </tbody>\n",
       "</table>\n",
       "</div>"
      ],
      "text/plain": [
       "             value\n",
       "percentiles       \n",
       "0.25             1\n",
       "0.50             3\n",
       "0.75            11\n",
       "0.90            45"
      ]
     },
     "execution_count": 20,
     "metadata": {},
     "output_type": "execute_result"
    }
   ],
   "source": [
    "percentile_values = list(zip(percentiles, \n",
    "                             [Y[int(data_nb*p)] \n",
    "                              for p in percentiles]))\n",
    "\n",
    "pd.DataFrame(percentile_values, \n",
    "             columns=[\"percentiles\", \"value\"])\\\n",
    "  .set_index(\"percentiles\")"
   ]
  },
  {
   "cell_type": "code",
   "execution_count": 21,
   "metadata": {},
   "outputs": [],
   "source": [
    "# used to eliminate outliers (See question 11.2)\n",
    "\n",
    "# The min is set to 50% here as those are \n",
    "# artists with less than 4 playcount\n",
    "# Note than there is here no max: \n",
    "# it would be irrelevant to withdraw \n",
    "# artists that listened a lot.\n",
    "\n",
    "artist_range = dict(min=Y[int(data_nb*.4)])"
   ]
  },
  {
   "cell_type": "markdown",
   "metadata": {},
   "source": [
    "#### Answer\n",
    "<div class=\"alert alert-success\">\n",
    "<p>\n",
    "Same as for the user listenings, only a few artists makes almost all listenings. This can be interpretated with at least two reasons :\n",
    "    <ul>\n",
    "        <li>A certain number of artists are mispelled and therefore have a few listening count on the wrong name.</li>\n",
    "        <li>The artists supported by major labels are most likely to be listened a huge number of times, whereas the number of listening of less known artists is very small. This phenomenon is know as the \"long tail\" phenomenon: with an amount of artist proposed really big, users tends to listen the artists well known and already listened by a lot of users.</li>\n",
    "    </ul>\n",
    "</p>\n",
    "<p>25% of artists are listened less than 1 time, and the huge majority of them (90%) are only listened less than 45 times, which is extremely small. Most of the artists are not well known, which explains this fact.(Again the long trail phenomenon) </p>\n",
    "</div>"
   ]
  },
  {
   "cell_type": "markdown",
   "metadata": {},
   "source": [
    "#### Question 2.4\n",
    "<div class=\"alert alert-info\">\n",
    "Plot a bar chart to show top 5 artists In terms of absolute play counts.  \n",
    "\n",
    "Comment the figure you just obtained: \n",
    "<ul>\n",
    "<li>are these reasonable results?</li>\n",
    "<li>is looking at top-5 artists enough to learn more about your data?</li>\n",
    "<li>do you see anything strange in the data?</li>\n",
    "</ul>\n",
    "</div>"
   ]
  },
  {
   "cell_type": "code",
   "execution_count": 22,
   "metadata": {},
   "outputs": [
    {
     "data": {
      "image/png": "[encoded data removed]",
      "text/plain": [
       "<matplotlib.figure.Figure at 0x7f0e8dbbf828>"
      ]
     },
     "metadata": {},
     "output_type": "display_data"
    }
   ],
   "source": [
    "sortedArtist = sorted(artistPopularity, key = lambda x: -x[\"sum(PlayCount)\"])[:5]\n",
    "\n",
    "artistID = [w[\"ArtistID\"] for w in sortedArtist]\n",
    "\n",
    "y_pos = range(len(sortedArtist))\n",
    "frequency = [w[1] for w in sortedArtist]\n",
    "\n",
    "plt.barh(y_pos, frequency[::-1], align='center', alpha=0.4)\n",
    "plt.yticks(y_pos, artistID[::-1])\n",
    "plt.xlabel('Play Count')\n",
    "plt.ylabel('Artist')\n",
    "plt.title('Top-5 Artist ID per play counts')\n",
    "plt.show()"
   ]
  },
  {
   "cell_type": "markdown",
   "metadata": {},
   "source": [
    "<div class=\"alert alert-success\">\n",
    "<li>The results seem to be reasonable: the play count number can be very big and those numbers and the one we saw previously for the artists less listened corresponds to the long trail phenomenon. </li>\n",
    "<li>However, looking only at the top 5 is not enough for many reasons. For example, some users may be listening to the same artist many times and this graph won't enable us to figure this out.</li>\n",
    "<li> And the weird thing here is that only in the top 5 artists, there is a big variation between the first and the fifth (2500000 vs 1400000). We can't know if it's because of the artist IDs that are pointing to songs which dilutes the play count for the fifth artist for example.</li>\n",
    "</div>"
   ]
  },
  {
   "cell_type": "markdown",
   "metadata": {},
   "source": [
    "#### Additionnal question\n",
    "<div class=\"alert alert-info\">\n",
    "What is the percentage of views made by the top 1% of artists ?\n",
    "</div>"
   ]
  },
  {
   "cell_type": "code",
   "execution_count": 23,
   "metadata": {},
   "outputs": [
    {
     "name": "stdout",
     "output_type": "stream",
     "text": [
      "The top 1% artists makes 89.23% of all the listenings.\n"
     ]
    }
   ],
   "source": [
    "top1p = Y[int(data_nb*.99)]\n",
    "\n",
    "print(\"The top 1% artists makes {:.2f}% of all the listenings.\"\n",
    "      .format(np.sum(Y[Y>top1p])*100/np.sum(Y)))"
   ]
  },
  {
   "cell_type": "markdown",
   "metadata": {},
   "source": [
    "<div class=\"alert alert-success\">\n",
    "<p>\n",
    "    This verifies the previous remarks on the <i>long-tail</i> phenomenon.\n",
    "</p>\n",
    "</div>"
   ]
  },
  {
   "cell_type": "markdown",
   "metadata": {},
   "source": [
    "All seems clear right now, but ... wait a second! What about the problems indicated above about artist \"disambiguation\"? Are these artist ID we are using referring to unique artists? How can we make sure that such \"opaque\" identifiers point to different bands? Let's try to use some additional dataset to answer this question:  `artist_data.txt` dataset. This time, the schema of the dataset consists in:\n",
    "\n",
    "```\n",
    "artist ID: long int\n",
    "name: string\n",
    "```\n",
    "\n",
    "We will try to find whether a single artist has two different IDs."
   ]
  },
  {
   "cell_type": "markdown",
   "metadata": {},
   "source": [
    "### Question 3\n",
    "\n",
    "#### Question 3.1\n",
    "\n",
    "<div class=\"alert alert-info\">\n",
    "Load the data from `/datasets/lastfm/artist_data.txt` and use the SparkSQL API to show 5 samples.  \n",
    "\n",
    "<ul></ul>\n",
    "<div class=\"label label-success\">HINT:</div> If you encounter some error when parsing lines in data because of invalid entries, parameter `mode='DROPMALFORMED'` will help you to eliminate these entries. The suggested syntax is: `<df>.options(header='false', delimiter='\\t', mode='DROPMALFORMED')`.\n",
    "\n",
    "</div>"
   ]
  },
  {
   "cell_type": "code",
   "execution_count": 24,
   "metadata": {},
   "outputs": [
    {
     "name": "stdout",
     "output_type": "stream",
     "text": [
      "+--------+--------------------+\n",
      "|artistID|                name|\n",
      "+--------+--------------------+\n",
      "| 1134999|        06Crazy Life|\n",
      "| 6821360|        Pang Nakarin|\n",
      "|10113088|Terfel, Bartoli- ...|\n",
      "|10151459| The Flaming Sidebur|\n",
      "| 6826647|   Bodenstandig 3000|\n",
      "+--------+--------------------+\n",
      "only showing top 5 rows\n",
      "\n"
     ]
    }
   ],
   "source": [
    "customSchemaArtist = StructType([ \\\n",
    "    StructField(\"artistID\", LongType(), True), \\\n",
    "    StructField(\"name\", StringType(), True)])\n",
    "\n",
    "artistDF = (\n",
    "            sqlContext.read \n",
    "                .format('com.databricks.spark.csv') \n",
    "                # Drop the invalid entries\n",
    "                .options(header='false', delimiter='\\t', mode='DROPMALFORMED')\n",
    "                # The schema is the one above\n",
    "                .load(base + \"artist_data.txt\", schema = customSchemaArtist)\n",
    "            )\n",
    "\n",
    "# we can cache an Dataframe to avoid computing it from the beginning everytime it is accessed.\n",
    "artistDF.cache()\n",
    "\n",
    "# Ensure the data are correctly loaded\n",
    "artistDF.show(5)"
   ]
  },
  {
   "cell_type": "markdown",
   "metadata": {},
   "source": [
    "#### Question 3.2\n",
    "<div class=\"alert alert-info\">\n",
    "Find 20 artists whose name contains `Aerosmith`. Take a look at artists that have ID equal to `1000010` and `2082323`. In your opinion, are they pointing to the same artist?  \n",
    "\n",
    "<ul></ul>\n",
    "<div class=\"label label-success\">HINT:</div> Function `locate(sub_string, string)` can be useful in this case.\n",
    "</div>"
   ]
  },
  {
   "cell_type": "code",
   "execution_count": 25,
   "metadata": {},
   "outputs": [
    {
     "name": "stdout",
     "output_type": "stream",
     "text": [
      "+--------+--------------------+\n",
      "|artistID|                name|\n",
      "+--------+--------------------+\n",
      "|10586006|Dusty Springfield...|\n",
      "| 6946007|    Aerosmith/RunDMC|\n",
      "|10475683|Aerosmith: Just P...|\n",
      "| 1083031|    Aerosmith/ G n R|\n",
      "| 6872848|Britney, Nsync, N...|\n",
      "|10586963|Green Day - Oasis...|\n",
      "|10028830|The Aerosmith Ant...|\n",
      "|10300357| Run-DMC + Aerosmith|\n",
      "| 2027746|Aerosmith by Musi...|\n",
      "| 1140418|[rap]Run DMC and ...|\n",
      "|10237208| Aerosmith + Run DMC|\n",
      "|10588537|Aerosmith, Kid Ro...|\n",
      "| 9934757|Aerosmith - Big Ones|\n",
      "|10437510|Green Day ft. Oas...|\n",
      "| 6936680| RUN DNC & Aerosmith|\n",
      "|10479781|      Aerosmith Hits|\n",
      "|10114147|Charlies Angels -...|\n",
      "| 1262439|Kid Rock, Run DMC...|\n",
      "| 7032554|Aerosmith & Run-D...|\n",
      "|10033592|          Aerosmith?|\n",
      "+--------+--------------------+\n",
      "only showing top 20 rows\n",
      "\n",
      "+--------+---------+\n",
      "|artistID|     name|\n",
      "+--------+---------+\n",
      "| 1000010|Aerosmith|\n",
      "+--------+---------+\n",
      "\n",
      "+--------+------------+\n",
      "|artistID|        name|\n",
      "+--------+------------+\n",
      "| 2082323|01 Aerosmith|\n",
      "+--------+------------+\n",
      "\n"
     ]
    }
   ],
   "source": [
    "# get artists whose name contains \"Aerosmith\"\n",
    "artistDF[locate(\"Aerosmith\", \"name\") > 0].show(20)\n",
    "\n",
    "# show two examples\n",
    "artistDF[artistDF.artistID==1000010].show()\n",
    "artistDF[artistDF.artistID==2082323].show()"
   ]
  },
  {
   "cell_type": "markdown",
   "metadata": {},
   "source": [
    "#### Answer\n",
    "<div class=\"alert alert-success\">\n",
    "<p>\n",
    "    Many artists names contains <cite>Aerosmith</cite>, among them, there are duplicates for this music group (and surely for other artists). We can see that the name of the artist is accompanied with a song name and others or just mispelled. We then have to remove duplicates by adressing them to the right artist.\n",
    "</p>\n",
    "</div>"
   ]
  },
  {
   "cell_type": "markdown",
   "metadata": {},
   "source": [
    "To answer this question correctly, we need to use an additional dataset `artist_alias.txt` which contains the ids of mispelled artists and standard artists. The schema of the dataset consists in:\n",
    "\n",
    "```\n",
    "mispelledID ID: long int\n",
    "standard ID: long int\n",
    "```"
   ]
  },
  {
   "cell_type": "markdown",
   "metadata": {},
   "source": [
    "#### Question 3.3\n",
    "<div class=\"alert alert-info\">\n",
    "Using SparkSQL API, load the dataset from `/datasets/lastfm/artist_alias.txt` then show 5 samples.\n",
    "</div>"
   ]
  },
  {
   "cell_type": "code",
   "execution_count": 26,
   "metadata": {},
   "outputs": [
    {
     "name": "stdout",
     "output_type": "stream",
     "text": [
      "+-----------------+----------------+\n",
      "|MispelledArtistID|StandardArtistID|\n",
      "+-----------------+----------------+\n",
      "|          1092764|         1000311|\n",
      "|          1095122|         1000557|\n",
      "|          6708070|         1007267|\n",
      "|         10088054|         1042317|\n",
      "|          1195917|         1042317|\n",
      "+-----------------+----------------+\n",
      "only showing top 5 rows\n",
      "\n"
     ]
    }
   ],
   "source": [
    "customSchemaArtistAlias = StructType([ \\\n",
    "    StructField( \"MispelledArtistID\", LongType(), True ), \\\n",
    "    StructField( \"StandardArtistID\", LongType(), True )])\n",
    "\n",
    "# We have to drop NA values, as is doesn't provide reliable information.\n",
    "\n",
    "artistAliasDF = (\n",
    "                sqlContext.read \\\n",
    "                    .format('com.databricks.spark.csv') \n",
    "                    .options(header='false', delimiter='\\t', mode='DROPMALFORMED') \n",
    "                    .load(base + \"artist_alias.txt\", schema = customSchemaArtistAlias)\n",
    "                    # Drop the invalid entries: some entries does not have both a key and a value\n",
    "                    .dropna() \n",
    "                )\n",
    "    \n",
    "# we can cache an Dataframe to avoid computing it from the beginning everytime it is accessed.\n",
    "artistAliasDF.cache()\n",
    "\n",
    "# Ensure the data are correctly loaded\n",
    "artistAliasDF.show(5)"
   ]
  },
  {
   "cell_type": "markdown",
   "metadata": {},
   "source": [
    "#### Question 3.4\n",
    "<div class=\"alert alert-info\">\n",
    "Verify the answer of question 3.2 (\"Are artists that have ID equal to `1000010` and `2082323` the same ?\") by finding the standard ids corresponding to the mispelled ids `1000010` and `2082323` respectively.\n",
    "</div>"
   ]
  },
  {
   "cell_type": "code",
   "execution_count": 27,
   "metadata": {},
   "outputs": [
    {
     "name": "stdout",
     "output_type": "stream",
     "text": [
      "+-----------------+----------------+\n",
      "|MispelledArtistID|StandardArtistID|\n",
      "+-----------------+----------------+\n",
      "+-----------------+----------------+\n",
      "\n",
      "+-----------------+----------------+\n",
      "|MispelledArtistID|StandardArtistID|\n",
      "+-----------------+----------------+\n",
      "|          2082323|         1000010|\n",
      "+-----------------+----------------+\n",
      "\n"
     ]
    }
   ],
   "source": [
    "artistAliasDF[ artistAliasDF[\"MispelledArtistID\"] == 1000010 ].show()\n",
    "artistAliasDF[ artistAliasDF[\"MispelledArtistID\"] == 2082323 ].show()\n",
    "\n",
    "# 1000010 is a standard id, so it haven't been considered as mispelled id in the dataset"
   ]
  },
  {
   "cell_type": "markdown",
   "metadata": {},
   "source": [
    "#### Answer\n",
    "<div class=\"alert alert-success\">\n",
    "<p>\n",
    "    Real artists don't have any entry in the aliases dataset.\n",
    "</p>\n",
    "    It confirms that '01 Aerosmith' and 'Aerosmith' correspond to the same artist.\n",
    "</div>"
   ]
  },
  {
   "cell_type": "markdown",
   "metadata": {},
   "source": [
    "### Question 4\n",
    "\n",
    "The mispelled or nonstandard information about artist make our results in the previous queries a bit \"sloppy\". To overcome this problem, we can replace all mispelled artist ids by the corresponding standard ids and re-compute the basic descriptive statistics on the \"amended\" data.\n",
    "First, we construct a \"dictionary\" that maps non-standard ids to a standard ones. Then this \"dictionary\" will be used to replace the mispelled artists.\n",
    "\n",
    "#### Question 4.1\n",
    "<div class=\"alert alert-info\">\n",
    "From data in the dataframe loaded from `/datasets/lastfm/artist_alias.txt`, construct a dictionary that maps each non-standard id to its standard id.  \n",
    "\n",
    "<div class=\"label label-success\">HINT:</div> Instead of using function `collect`, we can use `collectAsMap` to convert the collected data to a dictionary inline.\n",
    "</div>"
   ]
  },
  {
   "cell_type": "code",
   "execution_count": 28,
   "metadata": {},
   "outputs": [],
   "source": [
    "artistAlias = (artistAliasDF\n",
    "                .rdd\n",
    "                .map(lambda row: ( row[\"MispelledArtistID\"], \n",
    "                                   row[\"StandardArtistID\"]))\n",
    "                .collectAsMap())"
   ]
  },
  {
   "cell_type": "markdown",
   "metadata": {},
   "source": [
    "#### Answer\n",
    "<div class=\"alert alert-success\">\n",
    "<p>\n",
    "    We can store the aliases with a key-value pair data structure: this is pretty optimized for the current situation as we won't read all the values linearly. Then the reading of a value with the <q>MispelledArtistID</q> key will be in O(1). As far as we will access all the keys in a random order this will save a lot of time and computing power.\n",
    "    <br>\n",
    "    Furthermore, the transformation to a disctionnary is distributedly made and takes advantage of the four workers.\n",
    "</p>\n",
    "</div>"
   ]
  },
  {
   "cell_type": "markdown",
   "metadata": {},
   "source": [
    "#### Question 4.2\n",
    "<div class=\"alert alert-info\">\n",
    "Using the constructed dictionary in question 4.1, replace the non-standard artist ids in the dataframe that was loaded from `/datasets/lastfm/user_artist_data.txt` by the corresponding standard ids then show 5 samples.\n",
    "</div>\n",
    "\n",
    "\n",
    "**NOTE 1**: If an id doesn't exist in the dictionary as a mispelled id, it is really a standard id.\n",
    "\n",
    "\n",
    "Using funtion `map` on Spark Dataframe will give us an RDD. We can convert this RDD back to Dataframe by using `sqlContext.createDataFrame(rdd_name, sql_schema)`\n",
    "\n",
    "\n",
    "**NOTE 2**: be careful! you need to be able to verify that you indeed solved the problem of having bad artist IDs. In principle, for the new data to be correct, we should to have duplicate pairs (user, artist), potentially with different play counts, right? In answering the question, please **show** that you indeed fixed the problem. "
   ]
  },
  {
   "cell_type": "code",
   "execution_count": 29,
   "metadata": {},
   "outputs": [
    {
     "name": "stdout",
     "output_type": "stream",
     "text": [
      "The number of artist aliases is 190892.\n",
      "The number of attractors in the artist aliases is 22444.\n"
     ]
    }
   ],
   "source": [
    "loops_number = 20\n",
    "\n",
    "for _ in range(loops_number):\n",
    "    for k, v in artistAlias.items():\n",
    "        artistAlias[k] = artistAlias.get(v, v)\n",
    "        \n",
    "print(\"The number of artist aliases is {}.\"\n",
    "      .format(len(artistAlias.values())))\n",
    "print(\"The number of attractors in the artist aliases is {}.\"\n",
    "      .format(len(set(artistAlias.values()))))                                         \n"
   ]
  },
  {
   "cell_type": "markdown",
   "metadata": {},
   "source": [
    "#### Answer\n",
    "<div class=\"alert alert-success\">\n",
    "<p>\n",
    "    The loop ensures that the chained aliases will also be processed. However this is not a satisfying solution as the map function is computationnaly heavy. We will see later (part 4) in this notebook a better solution that uses DAGs to deal with that issue.\n",
    "</p>\n",
    "</div>"
   ]
  },
  {
   "cell_type": "code",
   "execution_count": 30,
   "metadata": {},
   "outputs": [
    {
     "name": "stdout",
     "output_type": "stream",
     "text": [
      "+-------+--------+---------+\n",
      "| userID|artistID|playCount|\n",
      "+-------+--------+---------+\n",
      "|1000002|       1|       55|\n",
      "|1000002| 1000006|       33|\n",
      "|1000002| 1000007|        8|\n",
      "|1000002| 1000009|      144|\n",
      "|1000002| 1000010|      314|\n",
      "+-------+--------+---------+\n",
      "only showing top 5 rows\n",
      "\n",
      "The script takes 1.432 seconds\n"
     ]
    }
   ],
   "source": [
    "from time import time\n",
    "\n",
    "def replaceMispelledIDs(fields):\n",
    "    # dict.get(a,b) returns dict[a] if found, else b\n",
    "    # Here it returns the original artist ID if mispelled, \n",
    "    # and if this is the orginal artist ID, it keeps it.\n",
    "    finalID = artistAlias.get(fields[1], fields[1])\n",
    "    return (fields[0], finalID, fields[2])\n",
    "\n",
    "t0 = time()\n",
    "newUserArtistDF = sqlContext.createDataFrame(\n",
    "    # Takes advantage of the 4 workers\n",
    "    userArtistDF.rdd.map(replaceMispelledIDs),\n",
    "    userArtistDataSchema\n",
    ")\n",
    "newUserArtistDF.show(5)\n",
    "\n",
    "t1 = time()\n",
    "\n",
    "print(\"The script takes {:.3f} seconds\".format(t1-t0))"
   ]
  },
  {
   "cell_type": "code",
   "execution_count": 31,
   "metadata": {},
   "outputs": [
    {
     "name": "stdout",
     "output_type": "stream",
     "text": [
      "+-------+--------+-----+\n",
      "| userID|artistID|count|\n",
      "+-------+--------+-----+\n",
      "|2287002| 1018768|    4|\n",
      "|2287049| 1005039|    2|\n",
      "|2287764| 1052332|    2|\n",
      "|2288269| 1008824|    2|\n",
      "|2288457| 2003588|    2|\n",
      "+-------+--------+-----+\n",
      "only showing top 5 rows\n",
      "\n",
      "The script takes 79.335 seconds\n"
     ]
    }
   ],
   "source": [
    "# Check that we solved the problem\n",
    "\n",
    "t0 = time()\n",
    "\n",
    "(newUserArtistDF\n",
    "     # We don't want duplicates with the same number of playCount for each key\n",
    "     .groupby(\"userID\", \"artistID\")\n",
    "     # Then we compute the number of entries for each key\n",
    "     .count()\n",
    "     # Finaly we display only the keys for which the keys have been duplicated\n",
    "     .filter(\"count(playcount) >= 2\")\n",
    "     .show(5))\n",
    "\n",
    "t1 = time()\n",
    "\n",
    "print(\"The script takes {:.3f} seconds\".format(t1-t0))"
   ]
  },
  {
   "cell_type": "markdown",
   "metadata": {},
   "source": [
    "#### Answer\n",
    "<div class=\"alert alert-success\">\n",
    "<p>\n",
    "    Some entries are duplicated with a different playCount, which is an evidence that mispelled artists now have the right artistID.\n",
    "</p>\n",
    "<p>\n",
    "    This cell takes some time to compute as the data need to be reshuffled (the key sorting changes, and the network is indeed a bottleneck)\n",
    "</p>\n",
    "</div>"
   ]
  },
  {
   "cell_type": "markdown",
   "metadata": {},
   "source": [
    "#### Question 4.3\n",
    "<div class=\"alert alert-info\">\n",
    "Spark actions are executed through a set of stages, separated by distributed \"shuffle\" operations. Spark can be instructed to **automatically and efficiently** broadcast common data needed by tasks within **each stage**. The data broadcasted this way is cached in **serialized form** and deserialized before running each task.   \n",
    "<ul> </ul>\n",
    "We can thus improve our answer to question 4.2: we can reduce the communication cost by shipping the \"dictionary\" in a more efficient way by using `broadcast variable`. Broadcast variables allow the programmer to keep a read-only variable cached on **each machine** rather than shipping a copy of it with tasks. They are cached in deserialized form. They can be used, for example, to give every node a copy of a large input dataset in an efficient manner.   \n",
    "<ul></ul>\n",
    "The broadcast of variable `v` can be created by `bV = sc.broadcast(v)`. Then value of this broadcast variable can be access via `bV.value`  \n",
    "\n",
    "<ul></ul>\n",
    "To question is then: using a broadcast variable, modify the script in question 4.2 to get better performance in terms of running time.\n",
    "</div>\n"
   ]
  },
  {
   "cell_type": "code",
   "execution_count": 32,
   "metadata": {},
   "outputs": [
    {
     "name": "stdout",
     "output_type": "stream",
     "text": [
      "+-------+--------+---------+\n",
      "| userID|artistID|playCount|\n",
      "+-------+--------+---------+\n",
      "|1000002|       1|       55|\n",
      "|1000002| 1000006|       33|\n",
      "|1000002| 1000007|        8|\n",
      "|1000002| 1000009|      144|\n",
      "|1000002| 1000010|      314|\n",
      "+-------+--------+---------+\n",
      "only showing top 5 rows\n",
      "\n",
      "None\n",
      "The script takes 0.320 seconds\n"
     ]
    }
   ],
   "source": [
    "from time import time\n",
    "\n",
    "bArtistAlias = sc.broadcast(artistAlias)\n",
    "\n",
    "def replaceMispelledIDs(fields):\n",
    "    finalID = bArtistAlias.value.get(fields[1], fields[1])\n",
    "    return (fields[0], finalID, fields[2])\n",
    "\n",
    "t0 = time()\n",
    "\n",
    "newUserArtistDF = sqlContext.createDataFrame(\n",
    "                    userArtistDF.rdd.map(replaceMispelledIDs), \n",
    "                    userArtistDataSchema\n",
    "                  )\n",
    "print(newUserArtistDF.show(5))\n",
    "t1 = time()\n",
    "\n",
    "print(\"The script takes {:.3f} seconds\".format(t1-t0))"
   ]
  },
  {
   "cell_type": "markdown",
   "metadata": {},
   "source": [
    "#### Answer\n",
    "<div class=\"alert alert-success\">\n",
    "<p>\n",
    "Broadcasting variables is way faster than accessing it each time from the driver. The network is a huge bottleneck in the previous implementation.\n",
    "</p>\n",
    "</div>"
   ]
  },
  {
   "cell_type": "markdown",
   "metadata": {},
   "source": [
    "Although having some advantages, explicitly creating broadcast variables is only useful when tasks across multiple stages need the same data or when caching the data in deserialized form is important."
   ]
  },
  {
   "cell_type": "markdown",
   "metadata": {},
   "source": [
    "### Question 5\n",
    "\n",
    "Well, our data frame contains clean and \"standard\" data. We can use it to redo previous statistic queries.\n",
    "\n",
    "#### Question 5.1\n",
    "<div class=\"alert alert-info\">\n",
    "How many unique artists? Compare with the result when using old data.\n",
    "</div>"
   ]
  },
  {
   "cell_type": "code",
   "execution_count": 33,
   "metadata": {},
   "outputs": [
    {
     "name": "stdout",
     "output_type": "stream",
     "text": [
      "Total n. of artists:  1568117\n"
     ]
    }
   ],
   "source": [
    "# Previous unique artists number (without correcting aliases)\n",
    "mispelledUniqueArtists = uniqueArtists\n",
    "\n",
    "# Computing the new count\n",
    "uniqueArtists = newUserArtistDF.select(\"artistID\").distinct().count()\n",
    "\n",
    "print(\"Total n. of artists: \", uniqueArtists)"
   ]
  },
  {
   "cell_type": "code",
   "execution_count": 34,
   "metadata": {},
   "outputs": [
    {
     "name": "stdout",
     "output_type": "stream",
     "text": [
      "There was 62911 non correct artist entries!\n",
      "(3.86 % of the artist entries)\n"
     ]
    }
   ],
   "source": [
    "print(\"There was {} non correct artist entries!\"\n",
    "          .format(mispelledUniqueArtists - uniqueArtists)\n",
    "      + \"\\n\" +\n",
    "      \"({:.2f} % of the artist entries)\"\n",
    "          .format(100*(mispelledUniqueArtists - uniqueArtists)/mispelledUniqueArtists))"
   ]
  },
  {
   "cell_type": "markdown",
   "metadata": {},
   "source": [
    "#### Answer\n",
    "<div class=\"alert alert-success\">\n",
    "<p>\n",
    "The number of artists decreases once the mispelling is corrected. This will lead to better results in recommendation due to a less sparse matrix and correct number of listening in it.\n",
    "</p>\n",
    "</div>"
   ]
  },
  {
   "cell_type": "markdown",
   "metadata": {},
   "source": [
    "#### Question 5.2\n",
    "\n",
    "<div class=\"alert alert-info\">\n",
    "Who are the top-10 artists?\n",
    "<ul>\n",
    "  <li>In terms of absolute play counts</li>\n",
    "  <li>In terms of \"audience size\", that is, how many users listened to one of their track at least once</li>\n",
    "</ul>  \n",
    "\n",
    "Plot the results, and explain the figures you obtain.\n",
    "</div>"
   ]
  },
  {
   "cell_type": "code",
   "execution_count": 35,
   "metadata": {},
   "outputs": [
    {
     "data": {
      "image/png": "[encoded data removed]",
      "text/plain": [
       "<matplotlib.figure.Figure at 0x7f0e8da53780>"
      ]
     },
     "metadata": {},
     "output_type": "display_data"
    }
   ],
   "source": [
    "# calculate top-10 artists in term of play counts\n",
    "top10ArtistsPC = (\n",
    "                    newUserArtistDF\n",
    "                        .groupBy( \"artistID\" )\n",
    "                        .sum( \"playCount\" )\n",
    "                        .orderBy('sum(playCount)', ascending=0)\n",
    "                        .take(10)\n",
    "                  )\n",
    "\n",
    "y_pos = range(len(top10ArtistsPC))\n",
    "pdf = pd.DataFrame(data=top10ArtistsPC)\n",
    "\n",
    "top10PC_set = set(pdf[0])\n",
    "\n",
    "plt.barh(y_pos, pdf[1][::-1], align='center', alpha=0.4)\n",
    "plt.yticks(y_pos, pdf[0][::-1])\n",
    "plt.xlabel('Play Count')\n",
    "plt.ylabel('Artist')\n",
    "plt.title('Top-10 Artist ID per play counts')\n",
    "plt.show()"
   ]
  },
  {
   "cell_type": "code",
   "execution_count": 36,
   "metadata": {},
   "outputs": [
    {
     "data": {
      "image/png": "[encoded data removed]",
      "text/plain": [
       "<matplotlib.figure.Figure at 0x7f0e8da13518>"
      ]
     },
     "metadata": {},
     "output_type": "display_data"
    }
   ],
   "source": [
    "# calculate top-10 artists in term of audience size\n",
    "top10ArtistsASS = (\n",
    "                    newUserArtistDF\n",
    "                        .select([\"userID\", \"artistID\"])\n",
    "                        .drop_duplicates()\n",
    "                        .groupBy( \"artistID\" )\n",
    "                        .count()\n",
    "                        .orderBy('count', ascending=0)\n",
    "                        .take(10)\n",
    "                  )\n",
    "\n",
    "y_pos = range(len(top10ArtistsASS))\n",
    "pdf = pd.DataFrame(data=top10ArtistsASS)\n",
    "\n",
    "top10ASS_set = set(pdf[0])\n",
    "\n",
    "plt.barh(y_pos, pdf[1][::-1], align='center', alpha=0.4)\n",
    "plt.yticks(y_pos, pdf[0][::-1])\n",
    "plt.xlabel('Audience size')\n",
    "plt.ylabel('Artist')\n",
    "plt.title('Top-10 Artist ID per audience size')\n",
    "plt.show()"
   ]
  },
  {
   "cell_type": "code",
   "execution_count": 37,
   "metadata": {},
   "outputs": [
    {
     "data": {
      "text/plain": [
       "{976, 979, 4267, 1000024, 1000113}"
      ]
     },
     "execution_count": 37,
     "metadata": {},
     "output_type": "execute_result"
    }
   ],
   "source": [
    "# Artists that are in both top10 \n",
    "\n",
    "top10PC_set & top10ASS_set"
   ]
  },
  {
   "cell_type": "markdown",
   "metadata": {},
   "source": [
    "#### Answer\n",
    "<div class=\"alert alert-success\">\n",
    "<p>\n",
    "5 Artists are in both of the top ten ranking. Those artists benefits from a large audience which increases their playCount. The other artists in the top 10 for playCounts are more likely to be loop-listened.\n",
    "</p>\n",
    "</div>"
   ]
  },
  {
   "cell_type": "markdown",
   "metadata": {},
   "source": [
    "#### Question 5.3\n",
    "\n",
    "<div class=\"alert alert-info\">\n",
    "Who are the top-10 users?\n",
    "<ul>\n",
    "  <li>In terms of absolute play counts</li>\n",
    "  <li>In terms of \"curiosity\", that is, how many different artists they listened to</li>\n",
    "\n",
    "</ul>  \n",
    "\n",
    "Plot the results\n",
    "</div>"
   ]
  },
  {
   "cell_type": "code",
   "execution_count": 38,
   "metadata": {},
   "outputs": [
    {
     "data": {
      "image/png": "[encoded data removed]",
      "text/plain": [
       "<matplotlib.figure.Figure at 0x7f0e8d8fa828>"
      ]
     },
     "metadata": {},
     "output_type": "display_data"
    }
   ],
   "source": [
    "# calculate top 10 users interm of play counts\n",
    "top10UsersByPlayCount = (\n",
    "                        newUserArtistDF\n",
    "                             .groupBy( \"userID\" )\n",
    "                             .sum( \"playCount\" )\n",
    "                             .orderBy('sum(playCount)', ascending=0)\n",
    "                             .take(10)\n",
    "                        )\n",
    "\n",
    "y_pos = range(len(top10UsersByPlayCount))\n",
    "pdf = pd.DataFrame(data=top10UsersByPlayCount)\n",
    "\n",
    "top10PC_set = set(pdf[0])\n",
    "\n",
    "plt.barh(y_pos, pdf[1][::-1], align='center', alpha=0.4)\n",
    "plt.yticks(y_pos, pdf[0][::-1])\n",
    "plt.xlabel('Play Count')\n",
    "plt.ylabel('User')\n",
    "plt.title('Top-10 Users ID per play counts')\n",
    "plt.show()"
   ]
  },
  {
   "cell_type": "markdown",
   "metadata": {},
   "source": [
    "<div class=\"alert alert-success\">\n",
    "<p>\n",
    "    These users are likely to play music the whole day (and night) without beeing its time all the time. These may be professionnals (ambiance listening) or users that forgot their music playing pretty often.\n",
    "</p>\n",
    "</div>"
   ]
  },
  {
   "cell_type": "code",
   "execution_count": 39,
   "metadata": {},
   "outputs": [
    {
     "data": {
      "image/png": "[encoded data removed]",
      "text/plain": [
       "<matplotlib.figure.Figure at 0x7f0e8d90e898>"
      ]
     },
     "metadata": {},
     "output_type": "display_data"
    }
   ],
   "source": [
    "# calculate top 10 users interm of curiosity\n",
    "top10UsersByCuriosity = (\n",
    "                        newUserArtistDF\n",
    "                            .groupBy(\"userID\")\n",
    "                            .count()\n",
    "                            .orderBy('count', ascending=0)\n",
    "                            .take(10)\n",
    "                        )\n",
    "\n",
    "y_pos = range(len(top10UsersByCuriosity))\n",
    "pdf = pd.DataFrame(data=top10UsersByCuriosity)\n",
    "\n",
    "top10cur_set = set(pdf[0])\n",
    "\n",
    "plt.barh(y_pos, pdf[1][::-1], align='center', alpha=0.4)\n",
    "plt.yticks(y_pos, pdf[0][::-1])\n",
    "plt.xlabel('Different artists count')\n",
    "plt.ylabel('User')\n",
    "plt.title('Top-10 Users ID per curiosity')\n",
    "plt.show()"
   ]
  },
  {
   "cell_type": "code",
   "execution_count": 40,
   "metadata": {},
   "outputs": [
    {
     "data": {
      "text/plain": [
       "set()"
      ]
     },
     "execution_count": 40,
     "metadata": {},
     "output_type": "execute_result"
    }
   ],
   "source": [
    "# Users that are in both top10 \n",
    "\n",
    "top10PC_set & top10cur_set"
   ]
  },
  {
   "cell_type": "markdown",
   "metadata": {},
   "source": [
    "#### Answer\n",
    "<div class=\"alert alert-success\">\n",
    "<p>\n",
    "    No user is in the curiosity top 10 and the play count top 10, which seems legit if we consider the play count top 10 as not very concentrated on their musical choices (which is obviously the case, with regard to their play count).\n",
    "</p>\n",
    "</div>"
   ]
  },
  {
   "cell_type": "markdown",
   "metadata": {},
   "source": [
    "Now we have some valuable information about the data. It's the time to study how to build a statistical models."
   ]
  },
  {
   "cell_type": "markdown",
   "metadata": {},
   "source": [
    "# 2. Build a statistical models to make recommendations\n",
    "\n",
    "## 2.1 Introduction to recommender systems\n",
    "\n",
    "In a recommendation-system application there are two classes of entities, which we shall refer to as `users` and `items`. Users have preferences for certain items, and these preferences must be inferred from the data. The data itself is represented as a `preference matrix` $A$, giving for each user-item pair, a value that represents what is known about the degree of preference of that user for that item. The table below is an example for a `preference matrix` of 5 users and `k` items. The `preference matrix` is also known as `utility matrix`.\n",
    "\n",
    "| | IT1 | IT2 | IT3 | ... | ITk |\n",
    "|---|---|---|---|---|---|\n",
    "| U1 | 1 |  | 5 | ... | 3 |\n",
    "| U2 |  | 2 |  | ... | 2 |\n",
    "| U3 | 5 |  | 3 | ... |  |\n",
    "| U4 | 3 | 3 |  | ... | 4 |\n",
    "| U5 |  | 1 |  | ... | ... |\n",
    "\n",
    "The value of row i, column j expresses how much does user `i` like item `j`. The values are often the rating scores of users for items. An unknown value implies that we have no explicit information about the user's preference for the item. The goal of a recommendation system is to predict \"the blanks\" in the `preference matrix`. For example, assume that the rating score is from 1 (dislike) to 5 (love), would user `U5` like `IT3` ? We have two approaches:\n",
    "\n",
    "* Designing our recommendation system to take into account properties of items such as brand, category, price... or even the similarity of their names. We can denote the similarity of items `IT2` and `IT3`, and then conclude that because user `U5` did not like `IT2`, they were unlikely to enjoy SW2 either.\n",
    "\n",
    "* We might observe that the people who rated both `IT2` and `IT3` tended to give them similar ratings. Thus, we could conclude that user `U5` would also give `IT3` a low rating, similar to `U5`'s rating of `IT2`\n",
    "\n",
    "It is not necessary to predict every blank entry in a `utility matrix`. Rather, it is only necessary to discover some entries in each row that are likely to be high. In most applications, the recommendation system does not oﬀer users a ranking of all items, but rather suggests a few that the user should value highly. It may not even be necessary to ﬁnd all items with the highest expected ratings, but only to ﬁnd a large subset of those with the highest ratings.\n",
    "\n",
    "\n",
    "## 2.2 Families of recommender systems\n",
    "\n",
    "In general, recommender systems can be categorized into two groups:\n",
    "\n",
    "* **Content-Based** systems focus on properties of items. Similarity of items is determined by measuring the similarity in their properties.\n",
    "\n",
    "* **Collaborative-Filtering** systems focus on the relationship between users and items. Similarity of items is determined by the similarity of the ratings of those items by the users who have rated both items.\n",
    "\n",
    "In the usecase of this notebook, artists take the role of `items`, and `users` keep the same role as `users`.\n",
    "Since we have no information about `artists`, except their names, we cannot build a `content-based` recommender system.\n",
    "\n",
    "Therefore, in the rest of this notebook, we only focus on `Collaborative-Filtering` algorithms.\n",
    "\n",
    "## 2.3 Collaborative-Filtering \n",
    "In this section, we study a member of a broad class of algorithms called `latent-factor` models. They try to explain observed interactions between large numbers of users and products through a relatively small number of unobserved, underlying reasons. It is analogous to explaining why millions of people buy a particular few of thousands of possible albums by describing users and albums in terms of tastes for perhaps tens of genres, tastes which are **not directly observable or given** as data. \n",
    "\n",
    "First, we formulate the learning problem as a matrix completion problem. Then, we will use a type of `matrix factorization` model to \"fill in\" the blanks.  We are given implicit ratings that users have given certain items (that is, the number of times they played a particular artist) and our goal is to predict their ratings for the rest of the items. Formally, if there are $n$ users and $m$ items, we are given an $n \\times m$ matrix $R$ in which the generic entry $(u, i)$ represents the rating for item $i$ by user $u$. **Matrix $R$ has many missing entries indicating unobserved ratings, and our task is to estimate these unobserved ratings**.\n",
    "\n",
    "A popular approach to the matrix completion problem is **matrix factorization**, where we want to \"summarize\" users and items with their **latent factors**.\n",
    "\n",
    "### 2.3.1 Basic idea and an example of Matrix Factorization\n",
    "For example, given a preference matrix 5x5 as below, we want to approximate this matrix into the product of two smaller matrixes $X$ and $Y$ .\n",
    "\n",
    "$$\n",
    "M = \n",
    "\\begin{bmatrix}\n",
    " 5 & 2 & 4 & 4 & 3 \\\\\n",
    " 3 & 1 & 2 & 4 & 1 \\\\\n",
    " 2 &  & 3 & 1 & 4 \\\\\n",
    " 2 & 5 & 4 & 3 & 5 \\\\\n",
    " 4 & 4 & 5 & 4 &  \\\\\n",
    "\\end{bmatrix}\n",
    "\\approx M^\\prime =\n",
    "\\begin{bmatrix}\n",
    " x_{11} & x_{12} \\\\\n",
    " x_{21} & x_{22} \\\\\n",
    " x_{31} & x_{32} \\\\\n",
    " x_{41} & x_{42} \\\\\n",
    " x_{51} & x_{52} \\\\\n",
    "\\end{bmatrix}\n",
    "\\times\n",
    "\\begin{bmatrix}\n",
    " y_{11} & y_{12} & y_{13} & y_{14} & y_{15} \\\\\n",
    " y_{21} & y_{22} & y_{23} & y_{24} & y_{25} \\\\\n",
    "\\end{bmatrix}\n",
    "$$\n",
    "\n",
    "$M^\\prime$ is an approximation that is as close to A as possible. To calculate how far from $M$ $M^\\prime$ is, we often calculate the sum of squared distances of non-empty elements in $M$ and the corresponding elements in $M^\\prime$.\n",
    "In this way, for $M^\\prime$, besides the approximated elements in $M$, we also have the non-observed elements. Therefore, to see how much does user `i` like item `j`, we simply pick up the value of $M^\\prime_{i,j}$.\n",
    "\n",
    "The challenge is how to calculate $X$ and $Y$. The bad news is that this can't be solved directly for both the best $X$ and best $Y$ at the same time. Fortunately, if $Y$ is known, we can calculate the best of $X$, and vice versa. It means from the initial values of $X$ and $Y$ in the beginning, we calculate the best $X$ according to $Y$, and then calculate the best $Y$ according to the new $X$. This process is repeated until the distance from $XY$ to $M$ is small. It's simple, right ?\n",
    "\n",
    "Let's take an example. To compute the approximation for the above 5x5 matrix $M$, first, we initialize the value of $X$ and $Y$ as below.\n",
    "\n",
    "$$\n",
    "M^\\prime = X \\times Y =\n",
    "\\begin{bmatrix}\n",
    " 1 & 1 \\\\\n",
    " 1 & 1 \\\\\n",
    " 1 & 1 \\\\\n",
    " 1 & 1 \\\\\n",
    " 1 & 1 \\\\\n",
    "\\end{bmatrix}\n",
    "\\times\n",
    "\\begin{bmatrix}\n",
    " 1 & 1 & 1 & 1 & 1 \\\\\n",
    " 1 & 1 & 1 & 1 & 1 \\\\\n",
    "\\end{bmatrix}\n",
    "=\n",
    "\\begin{bmatrix}\n",
    " 2 & 2 & 2 & 2 & 2 \\\\\n",
    " 2 & 2 & 2 & 2 & 2 \\\\\n",
    " 2 & 2 & 2 & 2 & 2 \\\\\n",
    " 2 & 2 & 2 & 2 & 2 \\\\\n",
    " 2 & 2 & 2 & 2 & 2 \\\\\n",
    "\\end{bmatrix}\n",
    "$$\n",
    "\n",
    "With the initial iteration, we calculate the the Root-Mean-Square Error from $XY$ to $M$.\n",
    "\n",
    "Consider the ﬁrst rows of $M$ and $XY$ . We subtract the first row of $XY$ from the entries in the ﬁrst row of $M$, to get $3,0,2,2,1$. We square and sum these to get $18$. \n",
    "\n",
    "In the second row, we do the same to get $1,−1,0,2,−1$, square and sum to get $7$. \n",
    "\n",
    "In the third row, the second column is blank, so that entry is ignored when computing the RMSE. The diﬀerences are $0,1,−1,2$ and the sum of squares is $6$. \n",
    "\n",
    "For the fourth row, the diﬀerences are $0,3,2,1,3$ and the sum of squares is $23$. \n",
    "\n",
    "The ﬁfth row has a blank entry in the last column, so the diﬀerences are $2,2,3,2$ and the sum of squares is $21$. \n",
    "\n",
    "When we sum the sums from each of the ﬁve rows, we get $18+7+6+23+21 = 75$. So, $RMSE=\\sqrt{75/23}=1.806$ where $23$ is the number of non-empty values in $M$.\n",
    "\n",
    "Next, with the given value of $Y$, we calculate $X$ by finding the best value for $X_{11}$.\n",
    "\n",
    "$$\n",
    "M^\\prime = X \\times Y =\n",
    "\\begin{bmatrix}\n",
    " x & 1 \\\\\n",
    " 1 & 1 \\\\\n",
    " 1 & 1 \\\\\n",
    " 1 & 1 \\\\\n",
    " 1 & 1 \\\\\n",
    "\\end{bmatrix}\n",
    "\\times\n",
    "\\begin{bmatrix}\n",
    " 1 & 1 & 1 & 1 & 1 \\\\\n",
    " 1 & 1 & 1 & 1 & 1 \\\\\n",
    "\\end{bmatrix}\n",
    "=\n",
    "\\begin{bmatrix}\n",
    " x+1 & x+1 & x+1 & x+1 & x+1 \\\\\n",
    " 2 & 2 & 2 & 2 & 2 \\\\\n",
    " 2 & 2 & 2 & 2 & 2 \\\\\n",
    " 2 & 2 & 2 & 2 & 2 \\\\\n",
    " 2 & 2 & 2 & 2 & 2 \\\\\n",
    "\\end{bmatrix}\n",
    "$$\n",
    "\n",
    "Now, to minimize the $RMSE$  we minimize the difference of the first rows $(5−(x+1))^2 + (2−(x+1))^2 + (4−(x+1))^2 + (4−(x+1))^2 + (3−(x+1))^2$. By  taking the derivative and set that equal to 0, we pick $x=2.6$\n",
    "\n",
    "Given the new value of $X$, we can calculate the best value for $Y$.\n",
    "\n",
    "$$\n",
    "M^\\prime = X \\times Y =\n",
    "\\begin{bmatrix}\n",
    " 2.6 & 1 \\\\\n",
    " 1 & 1 \\\\\n",
    " 1 & 1 \\\\\n",
    " 1 & 1 \\\\\n",
    " 1 & 1 \\\\\n",
    "\\end{bmatrix}\n",
    "\\times\n",
    "\\begin{bmatrix}\n",
    " y & 1 & 1 & 1 & 1 \\\\\n",
    " 1 & 1 & 1 & 1 & 1 \\\\\n",
    "\\end{bmatrix}\n",
    "=\n",
    "\\begin{bmatrix}\n",
    " 3.6 & 3.6 & 3.6 & 3.6 & 3.6 \\\\\n",
    " 2 & 2 & 2 & 2 & 2 \\\\\n",
    " 2 & 2 & 2 & 2 & 2 \\\\\n",
    " 2 & 2 & 2 & 2 & 2 \\\\\n",
    " 2 & 2 & 2 & 2 & 2 \\\\\n",
    "\\end{bmatrix}\n",
    "$$\n",
    "\n",
    "By doing the same process as before, we can pick value for $y=1.617$. After that, we can check if the $RMSE$ is not converged, we continue to update $X$ by $Y$ and vice versa. In this example, for simple, we only update one element of each matrix in each iteration. In practice, we can update a full row or full matrix at once.\n"
   ]
  },
  {
   "cell_type": "markdown",
   "metadata": {},
   "source": [
    "### 2.3.2 Matrix Factorization: Objective and ALS Algorithm on a Single Machine\n",
    "\n",
    "More formally, in general, we select $k$ latent features, and describe each user $u$ with a $k-$dimensional vector $x_u$, and each item $i$ with a $k-$dimensional vector $y_i$.\n",
    "\n",
    "Then, to predict user $u$'s rating for item $i$, we do as follows: $ r_{ui} \\approx x_{u}^{T}y_i$.\n",
    "\n",
    "This can be put, more elegantly, in a matrix form. Let $x_1, \\cdots x_n \\in \\mathbb{R}^k$ be the factors for the users, and $y_1, \\cdots y_m \\in \\mathbb{R}^k$ the factors for the items. The $k \\times n$ user matrix $X$ and the $k \\times m$ item matrix $Y$ are then defined by:\n",
    "\n",
    "$$\n",
    "X = \n",
    "\\begin{bmatrix}\n",
    " |   &         & |  \\\\\n",
    "x_1  &  \\cdots & x_n\\\\\n",
    " |   &         & |  \\\\\n",
    "\\end{bmatrix}\n",
    "$$\n",
    "\n",
    "$$\n",
    "Y = \n",
    "\\begin{bmatrix}\n",
    " |   &         & |  \\\\\n",
    "y_1  &  \\cdots & y_i\\\\\n",
    " |   &         & |  \\\\\n",
    "\\end{bmatrix}\n",
    "$$\n",
    "\n",
    "Our goal is to estimate the complete ratings matrix $R \\approx X^{T} Y$. We can formulate this problem as an optimization problem in which we aim to minimize an objective function and find optimal $X$ and $Y$ . In particular, we aim to minimize the least squares error of the observed ratings (and regularize):\n",
    "\n",
    "$$\n",
    "\\min_{X,Y} \\sum_{r_{ui} \\text{observed}}(r_{ui} - x_{u}^{T}y_i)^2 + \\lambda \\left( \\sum_{u} \\|x_u\\|^2 + \\sum_{i} \\|y_i\\|^2 \\right) \n",
    "$$\n",
    "\n",
    "Notice that this objective is non-convex (because of the $x_{u}^{T} y_i$ term); in fact it’s NP-hard to optimize. Gradient descent can be used as an approximate approach here, however it turns out to be slow and costs lots of iterations. Note however, that if we fix the set of variables $X$ and treat them as constants, then the objective is a convex function of $Y$ and vice versa. Our approach will therefore be to fix $Y$ and optimize $X$, then fix $X$ and optimize $Y$, and repeat until convergence. This approach is known as **ALS (Alternating Least Squares)**. For our objective function, the alternating least squares algorithm can be expressed with this simple pseudo-code:"
   ]
  },
  {
   "cell_type": "markdown",
   "metadata": {},
   "source": [
    "\n",
    "**Initialize** $X$, $Y$\n",
    "\n",
    "**while(convergence is not true) do**\n",
    "\n",
    "\n",
    "**for** $u = 1 \\cdots n$ **do**\n",
    "\n",
    "$x_u = \\left( \\sum_{r_ui \\in r_{u*}} y_i y_{i}^{T} + \\lambda I_k \\right)^{-1} \\sum_{r_ui \\in r_{u*}} r_{ui} y_i $ \n",
    "   \n",
    "**end for**\n",
    "\n",
    "**for** $u = 1 \\cdots n$ **do**\n",
    "\n",
    "$y_i = \\left( \\sum_{r_ui \\in r_{*i}} x_u x_{u}^{T} + \\lambda I_k \\right)^{-1} \\sum_{r_ui \\in r_{*i}} r_{ui} x_u $ \n",
    "   \n",
    "**end for**\n",
    "\n",
    "\n",
    "**end while**\n"
   ]
  },
  {
   "cell_type": "markdown",
   "metadata": {},
   "source": [
    "For a single machine, we can analyze the computational cost of this algorithm. Updating each $x_u$ will cost $O(n_u k^2 + k^3)$, where $n_u$ is the number of items rated by user $u$, and similarly updating each $y_i$ will cost $O(n_i k^2 + k^3)$, where $n_i$ is the number of users that have rated item $i$.\n",
    "\n",
    "\n",
    "Once we’ve computed the matrices $X$ and $Y$, there are several ways compute a prediction. The first is to do what was discussed before, which is to simply predict $ r_{ui} \\approx x_{u}^{T}y_i$ for each user $u$ and item $i$. \n",
    "This approach will cost $O(nmk)$ if we’d like to estimate every user-item pair. \n",
    "\n",
    "However, this approach is prohibitively expensive for most real-world datasets. A second (and more holistic) approach is to use the $x_u$ and $y_i$ as features in another learning algorithm, incorporating these features with others that are relevant to the prediction task."
   ]
  },
  {
   "cell_type": "markdown",
   "metadata": {},
   "source": [
    "### 2.3.3 Parallel Altenating Least Squares\n",
    "\n",
    "There are several ways to distribute the computation of the ALS algorithm depending on how data is partitioned.\n",
    "\n",
    "#### Method 1: using joins\n",
    "First we consider a fully distributed version, in the sense that all data (both input and output) is stored in a distributed file system. In practice, input data (ratings) and parameters ($X$ and $Y$) are stored in an a Spark RDD. Specifically, ratings -- that are always **sparse** -- are stored as RDD of triplets:\n",
    "\n",
    "Ratings: RDD((u, i, $r_{ui}$), . . . )\n",
    "\n",
    "\n",
    "Instead, we can use dense representation for factor matrices $X$ and $Y$, and these are stored as RDDs of vectors. More precisely, we can use the data types introduced in Spark MLLib to store such vectors and matrices:\n",
    "\n",
    "X : RDD($x_1$,...,$x_n$)\n",
    "\n",
    "Y : RDD($y_1$,...,$y_m$)\n",
    "\n",
    "\n",
    "Now, recall the expression to compute $x_u$:\n",
    "\n",
    "$x_u = \\left( \\sum_{r_ui \\in r_{u*}} y_i y_{i}^{T} + \\lambda I_k \\right)^{-1} \\sum_{r_ui \\in r_{u*}} r_{ui} y_i $ \n",
    "\n",
    "Let's call the first summation *part A* and the second summation *part B*. To compute such parts, in parallel, we can proceed with the following high-level pseudocode:\n",
    "\n",
    "* Join the Ratings RDD with the $Y$ matrix RDD using key $i$ (items)\n",
    "* Map to compute $y_i y_{i}^{T}$ and emit using key $u$ (user)\n",
    "* ReduceByKey $u$ (user) to compute $\\sum_{r_ui \\in r_{u*}} y_i y_{i}^{T}$\n",
    "* Invert\n",
    "* Another ReduceByKey $u$ (user) to compute $\\sum_{r_ui \\in r_{u*}} r_{ui} y_i$\n",
    "\n",
    "We can use the same template to copmute $y_i$.\n",
    "\n",
    "This approach works fine, but note it requires computing $y_i y_{i}^{T}$ for each user that has rated item $i$. \n",
    "\n",
    "#### Method 2: using broadcast variables (advanced topic)\n",
    "The next approach takes advantage of the fact that the $X$ and $Y$ factor matrices are often very small and can be stored locally on each machine.\n",
    "\n",
    "* Partition the Ratings RDD **by user** to create $R_1$, and similarly partition the Ratings RDD **by item** to create $R_2$. This means there are two copies of the same Ratings RDD, albeit with different partitionings. In $R_1$, all ratings by the same user are on the same machine, and in $R_2$ all ratings for same item are on the same machine.\n",
    "* Broadcast the matrices $X$ and $Y$. Note that these matrices are not RDD of vectors: they are now \"local: matrices.\n",
    "* Using $R_1$ and $Y$, we can use expression $x_u$ from above to compute the update of $x_u$ locally on each machine\n",
    "* Using $R_2$ and $X$, we can use expression $y_i$ from above to compute the update of $y_i$ locally on each machine\n",
    "\n",
    "A further optimization to this method is to group the $X$ and $Y$ factors matrices into blocks (user blocks and item blocks) and reduce the communication by only sending to each machine the block of users (or items) that are needed to compute the updates at that machine. \n",
    "\n",
    "This method is called **Block ALS**. It is achieved by precomputing some information about the ratings matrix to determine the \"out-links\" of each user (which blocks of the items it will contribute to) and \"in-link\" information for each item (which of the factor vectors it receives from each user block it will depend on). For exmple, assume that machine 1 is responsible for users 1,2,...,37: these will be block 1 of users. The items rated by these users are block 1 of items. Only the factors of block 1 of users and block 1 of items will be broadcasted to machine 1.\n",
    "\n",
    "### Further readings\n",
    "Other methods for matrix factorization include:\n",
    "\n",
    "* Low Rank Approximation and Regression in Input Sparsity Time, by Kenneth L. Clarkson, David P. Woodruff. http://arxiv.org/abs/1207.6365\n",
    "* Generalized Low Rank Models (GLRM), by Madeleine Udell, Corinne Horn, Reza Zadeh, Stephen Boyd. http://arxiv.org/abs/1410.0342\n",
    "* Matrix Completion and Low-Rank SVD via Fast Alternating Least Squares, by Trevor Hastie, Rahul Mazumder, Jason D. Lee, Reza Zadeh . Statistics Department and ICME, Stanford University, 2014. http://stanford.edu/~rezab/papers/fastals.pdf"
   ]
  },
  {
   "cell_type": "markdown",
   "metadata": {},
   "source": [
    "# 3. Usecase : Music recommender system\n",
    "\n",
    "In this usecase, we use the data of users and artists in the previous sections to build a statistical model to recommend artists for users.\n",
    " \n",
    "## 3.1 Requirements\n",
    "According to the properties of data, we need to choose a recommender algorithm that is suitable for this implicit feedback data. It means that the algorithm should learn without access to user or artist attributes such as age, genre,.... Therefore, an algorithm of type `collaborative filtering` is the best choice.\n",
    "\n",
    "Second, in the data, there are some users that have listened to only 1 artist. We need an algorithm that might provide decent recommendations to even these users. After all, at some point, every user starts out with just one play at some point! \n",
    "\n",
    "Third, we need an algorithm that scales, both in its ability to build large models, and to create recommendations quickly. So, an algorithm which can run on a distributed system (SPARK, Hadoop...) is very suitable.\n",
    "\n",
    "From these requirement, we can choose using ALS algorithm in SPARK's MLLIB.\n",
    "\n",
    "Spark MLlib’s ALS implementation draws on ideas from [1](http://yifanhu.net/PUB/cf.pdf) and [2](http://link.springer.com/chapter/10.1007%2F978-3-540-68880-8_32).\n",
    "\n",
    "## 3.2 Notes\n",
    "\n",
    "Currently, MLLIB can only build models from an RDD. That means we have two ways to prepare data:\n",
    "\n",
    "* Loading to into SPARK SQL DataFrame as before, and then access the corresponding RDD by calling `<dataframe>.rdd`. The invalid data is often sucessfully dropped by using mode `DROPMALFORMED`. However, this way might not work in all cases. Fortunately, we can use it with this usecase.\n",
    "\n",
    "* Loading data directly to RDD. However, we have to deal with the invalid data ourself. In the trade-off, this way is the most reliable, and can work in every case.\n",
    "\n",
    "In this notebook, we will use the second approach: it requires a bit more effort, but the reward is worth it!\n",
    "\n",
    " \n",
    "## 3.3 Cleanup the data\n",
    "In section 1, we already replaced the ids of mispelled artists by the corresponding standard ids by using SPARK SQL API.\n",
    "However, if the data has the invalid entries such that SPARK SQL API is stuck, the best way to work with it is using an RDD.\n",
    "\n",
    "Just as a recall, we work with three datasets in `user_artist_data.txt`, `` and `artist_alias.txt`. The entries in these file can be empty or have only one field. \n",
    "\n",
    "In details our goal now is:\n",
    "\n",
    "* Read the input ```user_artist_data.txt``` and transforms its representation into an output dataset.\n",
    "* To produce an output \"tuple\" containing the original user identifier and play counts, but with the artist identifier replaced by its most common alias, as found in the ```artist_alias.txt``` dataset.\n",
    "* Since the ```artist_alias.txt``` file is small, we can use a technique called **broadcast variables** to make such transformation more efficient.\n"
   ]
  },
  {
   "cell_type": "markdown",
   "metadata": {},
   "source": [
    "### Question 6\n",
    "\n",
    "#### Question 6.1\n",
    "\n",
    "<div class=\"alert alert-info\">\n",
    "Load data from `/datasets/lastfm/artist_alias.txt` and filter out the invalid entries to construct a dictionary to map from mispelled artists' ids to standard ids.\n",
    "</div>\n",
    "\n",
    "NOTE: From now on, we will use the \"standard\" data to train our model.\n",
    "\n",
    "HINT: If a line contains less than 2 fields or contains invalid numerial values, we can return a special tuple. After that, we can filter out these special tuples."
   ]
  },
  {
   "cell_type": "code",
   "execution_count": 41,
   "metadata": {},
   "outputs": [],
   "source": [
    "rawArtistAlias = sc.textFile(base + \"artist_alias.txt\")\n",
    "\n",
    "def xtractFields(s):\n",
    "    # Using white space or tab character as separators,\n",
    "    # split a line into list of strings \n",
    "    line = re.split(\"\\s|\\t\",s,1)\n",
    "    # if this line has at least 2 characters\n",
    "    if (len(line) > 1):\n",
    "        try:\n",
    "            # try to parse the first and the second components to integer type\n",
    "            return (int(line[0]), int(line[1]))\n",
    "        except ValueError:\n",
    "            # if parsing has any error, return a special tuple\n",
    "            return (-1,-1)\n",
    "    else:\n",
    "        # if this line has less than 2 characters, return a special tuple\n",
    "        return (-1,-1)\n",
    "\n",
    "artistAlias = (\n",
    "                rawArtistAlias\n",
    "                    # extract fields using function xtractFields\n",
    "                    .map( xtractFields )\n",
    "    \n",
    "                    # filter out the special tuples\n",
    "                    .filter( lambda x:x!=(-1,-1) )\n",
    "    \n",
    "                    # collect result to the driver as a \"dictionary\"\n",
    "                    .collectAsMap()\n",
    "                )\n",
    "\n",
    "# Preventing alias-chains\n",
    "for _ in range(loops_number):\n",
    "    for k, v in artistAlias.items():\n",
    "        artistAlias[k] = artistAlias.get(v, v)"
   ]
  },
  {
   "cell_type": "markdown",
   "metadata": {},
   "source": [
    "#### Question 6.2\n",
    "<div class=\"alert alert-info\">\n",
    "Using the dictionary in question 6.1, prepare RDD `userArtistDataRDD` by replacing mispelled artists' ids to standard ids. Show 5 samples.\n",
    "</div>\n",
    "\n",
    "HINT: Using broadcast varible can help us increase the effiency."
   ]
  },
  {
   "cell_type": "code",
   "execution_count": 42,
   "metadata": {},
   "outputs": [
    {
     "data": {
      "text/plain": [
       "[('1000002', '1', '55'),\n",
       " ('1000002', '1000006', '33'),\n",
       " ('1000002', '1000007', '8'),\n",
       " ('1000002', '1000009', '144'),\n",
       " ('1000002', '1000010', '314')]"
      ]
     },
     "execution_count": 42,
     "metadata": {},
     "output_type": "execute_result"
    }
   ],
   "source": [
    "bArtistAlias = sc.broadcast(artistAlias)\n",
    "rawUserArtistData = sc.textFile(base + \"user_artist_data.txt\")\n",
    "\n",
    "def disambiguate(line):\n",
    "    [userID, artistID, count] = line.split(' ')\n",
    "    finalArtistID = bArtistAlias.value.get(artistID, artistID)\n",
    "    return (userID, finalArtistID, count)\n",
    "\n",
    "userArtistDataRDD = rawUserArtistData.map(disambiguate)\n",
    "userArtistDataRDD.take(5)"
   ]
  },
  {
   "cell_type": "markdown",
   "metadata": {},
   "source": [
    "## 3.4 Training our statistical model\n",
    "To train a model using ALS, we must use a preference matrix  as an input. MLLIB uses the class `Rating` to support the construction of a distributed preference matrix."
   ]
  },
  {
   "cell_type": "markdown",
   "metadata": {},
   "source": [
    "### Question 7\n",
    "\n",
    "#### Question 7.1\n",
    "<div class=\"alert alert-info\">\n",
    "Given RDD `userArtistDataRDD` in question 6.2, construct a new RDD `trainingData` by tranforming each item of it into a `Rating` object.\n",
    "</div>"
   ]
  },
  {
   "cell_type": "code",
   "execution_count": 43,
   "metadata": {},
   "outputs": [],
   "source": [
    "from pyspark.mllib.recommendation import ALS, MatrixFactorizationModel, Rating"
   ]
  },
  {
   "cell_type": "code",
   "execution_count": 44,
   "metadata": {},
   "outputs": [
    {
     "name": "stdout",
     "output_type": "stream",
     "text": [
      "Rating(user=2208307, product=1002370, rating=1.0)\n",
      "Rating(user=2208526, product=1093436, rating=1.0)\n",
      "Rating(user=2208619, product=1247983, rating=1.0)\n",
      "Rating(user=2209141, product=10701568, rating=1.0)\n",
      "Rating(user=2209396, product=1004125, rating=19.0)\n",
      "The script takes 201.699 seconds\n"
     ]
    }
   ],
   "source": [
    "# after replacing mispelled artist ids, the data contains some play count duplications of a user with the same artist\n",
    "# remember to aggregate these records\n",
    "\n",
    "t0 = time()\n",
    "\n",
    "allData = (\n",
    "            userArtistDataRDD\n",
    "                # Map-Reduce implementation to remove play count duplications\n",
    "                # Transforms data to key-value pairs (key=(UserID, ArtistID) , value=playCount)\n",
    "                .map(lambda x: ((x[0], x[1]),x[2]))\n",
    "                # Aggregates the duplicated playCount by summing them\n",
    "                .reduceByKey(sum)\n",
    "                # Use the right datastructure for recommendation algorithms, \n",
    "                # which is the Rating object in Spark\n",
    "                .map(lambda r: Rating(r[0][0], r[0][1], r[1]))\n",
    "                # Set the repartition to 4 datanodes to split the data into our 4 workers\n",
    "                .repartition(numPartitions=4)\n",
    "                # Cache the dataset\n",
    "                .cache()\n",
    "            )\n",
    "             \n",
    "print(\"\\n\".join(map(repr,allData.take(5))))\n",
    "\n",
    "t1 = time()\n",
    "\n",
    "print(\"The script takes {:.3f} seconds\".format(t1-t0))"
   ]
  },
  {
   "cell_type": "markdown",
   "metadata": {},
   "source": [
    "#### Answer\n",
    "<div class=\"alert alert-success\">\n",
    "<p>\n",
    "    There are 4 workers, therefore the repartition number is set to 4 which means that each worker is supposed to have an equal workload while processing the data (reparted equally between them).\n",
    "</p>\n",
    "<p>\n",
    "    Here, the main bottleneck is the <code>reduceByKey</code> function which takes about 3/4 of the overall running time. This is partly due to the huge number of keys here.\n",
    "</p>\n",
    "\n",
    "</div>"
   ]
  },
  {
   "cell_type": "markdown",
   "metadata": {},
   "source": [
    "#### Question 7.2\n",
    "<div class=\"alert alert-info\">\n",
    "A model can be trained by using `ALS.trainImplicit(<training data>, <rank>)`, where:\n",
    "<ul>\n",
    "<li>`training data` is the input data you decide to feed to the ALS algorithm</li>\n",
    "<li>`rank` is the number of laten features</li>\n",
    "</ul>  \n",
    "\n",
    "\n",
    "We can also use some additional parameters to adjust the quality of the model. Currently, let's set \n",
    "<ul>\n",
    "<li>`rank=10`</li>\n",
    "<li>`iterations=5`</li>\n",
    "<li>`lambda_=0.01`</li>\n",
    "<li>`alpha=1.0` </li>\n",
    "</ul>\n",
    "to build model.\n",
    "</div>"
   ]
  },
  {
   "cell_type": "code",
   "execution_count": 45,
   "metadata": {},
   "outputs": [
    {
     "name": "stdout",
     "output_type": "stream",
     "text": [
      "finish training model in 55.970 secs\n"
     ]
    }
   ],
   "source": [
    "t0 = time()\n",
    "model = ALS.trainImplicit(allData,\n",
    "                            rank=10,\n",
    "                            iterations=5,\n",
    "                            lambda_=0.01,\n",
    "                            alpha=1.0)\n",
    "t1 = time()\n",
    "print(\"finish training model in {:.3f} secs\".format(t1 - t0))"
   ]
  },
  {
   "cell_type": "markdown",
   "metadata": {},
   "source": [
    "#### A few precisions on the `trainImplicit` function\n",
    "<div class=\"alert alert-success\">\n",
    "<p class=\"alert alert-info\">\n",
    "<q>Essentially, instead of trying to model the matrix of ratings directly, this approach treats the data as numbers representing the strength in observations of user actions (such as the number of clicks, or the cumulative duration someone spent viewing a movie). Those numbers are then related to the level of confidence in observed user preferences, rather than explicit ratings given to items. The model then tries to find latent factors that can be used to predict the expected preference of a user for an item.</q>\n",
    "<br>\n",
    "<b>Source:</b> <a href=\"https://spark.apache.org/docs/latest/mllib-collaborative-filtering.html\">Documentation link</a>\n",
    "</p>\n",
    "<p>\n",
    "    This is in fact particularly adapted to the model we use to predict artists to users as the play count is not directly related to any rate.\n",
    "</p>\n",
    "</div>"
   ]
  },
  {
   "cell_type": "markdown",
   "metadata": {},
   "source": [
    "#### Question 7.3\n",
    "<div class=\"alert alert-info\">\n",
    "The trained model can be saved into HDFS for later use. This can be done via `model.save(sc, <file_name>)`.\n",
    "Let's use this function to store our model as name `lastfm_model.spark`.\n",
    "</div>\n",
    "\n",
    "NOTE 1: since you may have noticed that building the model takes some time, it might come to your mind that this information could be stored, such that you can \"interrupt\" your laboratory session here, and restart next time by loading your model.\n",
    "\n",
    "NOTE 2: funnily enough, it could take more time to save the model than to build it from scratch! So take a look at the execution time to save the model: this method actually stores the model as Parquet files, which are column-oriented and compressed.\n",
    "\n",
    "NOTE 3: to check you have your file on HDFS, you are invited to open a terminal from the \"Home\" Jupyter dashboard, and type `hdfs dfs -ls` to check."
   ]
  },
  {
   "cell_type": "code",
   "execution_count": 46,
   "metadata": {},
   "outputs": [
    {
     "name": "stdout",
     "output_type": "stream",
     "text": [
      "Deleted lastfm_model.spark\n",
      "finish loading model in 4.049 secs\n"
     ]
    }
   ],
   "source": [
    "! hdfs dfs -rm -R -f -skipTrash lastfm_model.spark\n",
    "t0 = time()\n",
    "model.save( sc , \"lastfm_model.spark\")\n",
    "t1 = time()\n",
    "print(\"finish loading model in {:.3f} secs\".format(t1 - t0))"
   ]
  },
  {
   "cell_type": "markdown",
   "metadata": {},
   "source": [
    "#### Question 7.4\n",
    "<div class=\"alert alert-info\">\n",
    "A saved model can be load from file by using `MatrixFactorizationModel.load(sc, <file_name>)`. \n",
    "\n",
    "Let's load our model from file.\n",
    "</div>"
   ]
  },
  {
   "cell_type": "code",
   "execution_count": 47,
   "metadata": {},
   "outputs": [
    {
     "name": "stdout",
     "output_type": "stream",
     "text": [
      "finish loading model in 1.913 secs\n"
     ]
    }
   ],
   "source": [
    "t0 = time()\n",
    "model = MatrixFactorizationModel.load(sc, \"lastfm_model.spark\")\n",
    "t1 = time()\n",
    "print(\"finish loading model in {:.3f} secs\".format(t1 - t0))"
   ]
  },
  {
   "cell_type": "markdown",
   "metadata": {},
   "source": [
    "#### Question 7.5\n",
    "<div class=\"alert alert-info\">\n",
    "Print the first row of user features in our model.\n",
    "</div>"
   ]
  },
  {
   "cell_type": "code",
   "execution_count": 48,
   "metadata": {},
   "outputs": [
    {
     "data": {
      "text/plain": [
       "(116,\n",
       " array('d', [0.039939939975738525, -0.01893329806625843, -0.03982763737440109, -0.00031345218303613365, 0.05156327039003372, 0.019772253930568695, -0.020451318472623825, 0.01695339009165764, 0.004453118424862623, 0.013499082066118717]))"
      ]
     },
     "execution_count": 48,
     "metadata": {},
     "output_type": "execute_result"
    }
   ],
   "source": [
    "model.userFeatures().first()"
   ]
  },
  {
   "cell_type": "markdown",
   "metadata": {},
   "source": [
    "### Question 8\n",
    "<div class=\"alert alert-info\">\n",
    "Show the top-5 artist names recommendated for a given user, for example: `2093760` (please, try with different users!).\n",
    "</div>\n",
    "\n",
    "HINT: The recommendations can be given by function `recommendProducts(userID, num_recommendations)`. These recommendations are only artist ids. You have to map them to artist names by using data in `artist_data.txt`."
   ]
  },
  {
   "cell_type": "code",
   "execution_count": 49,
   "metadata": {},
   "outputs": [],
   "source": [
    "# Useful functions\n",
    "\n",
    "def artistIDtoName(artistID_set):\n",
    "    \"\"\"\n",
    "        This function  convets a set of artist IDs \n",
    "        into a corresponding list of artist names.\n",
    "    \"\"\"\n",
    "    return artistByID \\\n",
    "        .filter(lambda line: line[0] in artistID_set) \\\n",
    "        .values() \\\n",
    "        .collect()\n",
    "\n",
    "\n",
    "def print_recommendations(userID, recommendationsID):\n",
    "    \"\"\"\n",
    "        Print the recommendations for userID.\n",
    "        recommendationsID is a set of artist IDs.\n",
    "    \"\"\"\n",
    "    \n",
    "    print(\"\\n User {} top-{} artist recommendations: \\n\"\n",
    "              .format(userID, len(recommendationsID))\n",
    "          +\n",
    "          \"\\n\".join(artistIDtoName(recommendationsID)))\n",
    "\n",
    "    \n",
    "def recommend_from_model(model, userID, n_recommendations = 5):\n",
    "    \"\"\"\n",
    "        This takes a trained model, an userID and \n",
    "        returns a set of n_recommendations artist IDs \n",
    "        that are most recommended by this model.\n",
    "    \"\"\"\n",
    "    \n",
    "    recommendations = model.recommendProducts(userID, n_recommendations)\n",
    "    recArtist = { x.product for x in recommendations } \n",
    "    return recArtist"
   ]
  },
  {
   "cell_type": "code",
   "execution_count": 50,
   "metadata": {},
   "outputs": [],
   "source": [
    "# Make five reccommendations to user 2093760\n",
    "recommendations = model.recommendProducts(2093760, 5)\n",
    "\n",
    "# construct set of recommendated artists (x.product)\n",
    "recArtist = { x.product for x in recommendations } # {} is equivalent to set()"
   ]
  },
  {
   "cell_type": "code",
   "execution_count": 51,
   "metadata": {},
   "outputs": [],
   "source": [
    "# construct data of artists (artist_id, artist_name)\n",
    "\n",
    "rawArtistData = sc.textFile(base + \"artist_data.txt\")\n",
    "\n",
    "def xtractFields(s):\n",
    "    line = re.split(\"\\s|\\t\",s,1)\n",
    "    if (len(line) > 1):\n",
    "        try:\n",
    "            return (int(line[0]), str(line[1].strip()))\n",
    "        except ValueError:\n",
    "            return (-1,\"\")\n",
    "    else: \n",
    "        return (-1,\"\")\n",
    "\n",
    "artistByID = rawArtistData.map(xtractFields).filter(lambda x: x[0] > 0)"
   ]
  },
  {
   "cell_type": "code",
   "execution_count": 52,
   "metadata": {},
   "outputs": [
    {
     "name": "stdout",
     "output_type": "stream",
     "text": [
      "\n",
      " User 2093760 top-5 artist recommendations: \n",
      "50 Cent\n",
      "Snoop Dogg\n",
      "Kanye West\n",
      "2Pac\n",
      "The Game\n"
     ]
    }
   ],
   "source": [
    "print_recommendations(2093760, recArtist)"
   ]
  },
  {
   "cell_type": "markdown",
   "metadata": {},
   "source": [
    "Let's try with some example users:"
   ]
  },
  {
   "cell_type": "code",
   "execution_count": 53,
   "metadata": {},
   "outputs": [
    {
     "name": "stdout",
     "output_type": "stream",
     "text": [
      "\n",
      " User 1000002 top-5 artist recommendations: \n",
      "Eric Clapton\n",
      "Dire Straits\n",
      "Moby\n",
      "U2\n",
      "Pink Floyd\n",
      "\n",
      " User 2152260 top-5 artist recommendations: \n",
      "RJD2\n",
      "Dizzee Rascal\n",
      "DJ Shadow\n",
      "Jurassic 5\n",
      "Handsome Boy Modeling School\n",
      "\n",
      " User 2377755 top-5 artist recommendations: \n",
      "Bloc Party\n",
      "The Smiths\n",
      "Radiohead\n",
      "Interpol\n",
      "Beck\n"
     ]
    }
   ],
   "source": [
    "userIDs = [1000002, 2152260, 2377755]\n",
    "\n",
    "for userID in userIDs:\n",
    "    print_recommendations(userID, \n",
    "                          recommend_from_model(\n",
    "                              model, \n",
    "                              userID, \n",
    "                              n_recommendations = 5))"
   ]
  },
  {
   "cell_type": "markdown",
   "metadata": {},
   "source": [
    "<div class=\"alert alert-danger\">\n",
    "At the moment, it is necessary to manually unpersist the RDDs inside the model when you are done with it. The following function can be used to make sure models are promptly uncached.\n",
    "</div>"
   ]
  },
  {
   "cell_type": "code",
   "execution_count": 54,
   "metadata": {},
   "outputs": [],
   "source": [
    "def unpersist(model):\n",
    "    model.userFeatures().unpersist()\n",
    "    model.productFeatures().unpersist()\n",
    "\n",
    "# uncache data and model when they are no longer used  \n",
    "unpersist(model)"
   ]
  },
  {
   "cell_type": "markdown",
   "metadata": {},
   "source": [
    "## 3.5 Evaluating Recommendation Quality \n",
    "\n",
    "In this section, we study how to evaluate the quality of our model. It's hard to say how good the recommendations are.\n",
    "One of serveral methods approach to evaluate  a recommender based on its ability to rank good items (artists) high in a list of recommendations. The problem is how to define \"good artists\". Currently, by training all data, \"good artists\" is defined as \"artists the user has listened to\", and the recommender system has already received all of this information as input. It could trivially return the users previously-listened artists as top recommendations and score perfectly. Indeed, this is not useful, because the recommender's is used to recommend artists that the user has **never** listened to. \n",
    "\n",
    "To overcome that problem, we can hide the some of the artist play data and only use the rest to train model. Then, this held-out data can be interpreted as a collection of \"good\" recommendations for each user. The recommender is asked to rank all items in the model, and the rank of the held-out artists are examined. Ideally the recommender places all of them at or near the top of the list.\n",
    "\n",
    "The recommender's score can then be computed by comparing all held-out artists' ranks to the rest.  The fraction of pairs where the held-out artist is ranked higher is its score. 1.0 is perfect, 0.0 is the worst possible score, and 0.5 is the expected value achieved from randomly ranking artists. \n",
    "\n",
    "AUC(Area Under the Curve) can be used as a metric to evaluate model. It is also viewed as the probability that a randomly-chosen \"good\" artist ranks above a randomly-chosen \"bad\" artist.\n",
    "\n",
    "Next, we split the training data into 2 parts: `trainData` and `cvData` with ratio 0.9:0.1 respectively, where `trainData` is the dataset that will be used to train model. Then we write a function to calculate AUC to evaluate the quality of our model.\n"
   ]
  },
  {
   "cell_type": "markdown",
   "metadata": {},
   "source": [
    "### Question 9\n",
    "\n",
    "#### Question 9.1\n",
    "<div class=\"alert alert-info\">\n",
    "Split the data into `trainData` and `cvData` with ratio 0.9:0.1 and use the first part to train a statistic model with:\n",
    "<ul>\n",
    "<li>`rank`=10</li>\n",
    "<li>`iterations`=5</li>\n",
    "<li>`lambda_`=0.01</li>\n",
    "<li>`alpha`=1.0</li>\n",
    "</ul>\n",
    "</div>"
   ]
  },
  {
   "cell_type": "code",
   "execution_count": 55,
   "metadata": {},
   "outputs": [
    {
     "data": {
      "text/plain": [
       "PythonRDD[382] at RDD at PythonRDD.scala:48"
      ]
     },
     "execution_count": 55,
     "metadata": {},
     "output_type": "execute_result"
    }
   ],
   "source": [
    "# We set the seed to obtain a deterministic result in that notebook\n",
    "trainData, cvData = allData.randomSplit([.9, .1], seed=234)\n",
    "trainData.cache()\n",
    "cvData.cache()"
   ]
  },
  {
   "cell_type": "code",
   "execution_count": 56,
   "metadata": {},
   "outputs": [
    {
     "name": "stdout",
     "output_type": "stream",
     "text": [
      "finish training model in 67.121 secs\n"
     ]
    }
   ],
   "source": [
    "t0 = time()\n",
    "model = ALS.trainImplicit(  trainData,\n",
    "                            rank=10,\n",
    "                            iterations=5,\n",
    "                            lambda_=0.01,\n",
    "                            alpha=1.0 )\n",
    "t1 = time()\n",
    "print(\"finish training model in {:.3f} secs\".format(t1 - t0))"
   ]
  },
  {
   "cell_type": "code",
   "execution_count": 57,
   "metadata": {},
   "outputs": [
    {
     "name": "stdout",
     "output_type": "stream",
     "text": [
      "Deleted lastfm_model_2.spark\n",
      "finish loading model in 2.627 secs\n"
     ]
    }
   ],
   "source": [
    "# Save this model as well\n",
    "! hdfs dfs -rm -R -f -skipTrash lastfm_model_2.spark\n",
    "t0 = time()\n",
    "model.save( sc , \"lastfm_model_2.spark\")\n",
    "t1 = time()\n",
    "print(\"finish loading model in {:.3f} secs\".format(t1 - t0))"
   ]
  },
  {
   "cell_type": "code",
   "execution_count": 58,
   "metadata": {},
   "outputs": [
    {
     "name": "stdout",
     "output_type": "stream",
     "text": [
      "finish loading model in 1.214 secs\n"
     ]
    }
   ],
   "source": [
    "# And reload it\n",
    "t0 = time()\n",
    "model = MatrixFactorizationModel.load(sc, \"lastfm_model_2.spark\")\n",
    "t1 = time()\n",
    "print(\"finish loading model in {:.3f} secs\".format(t1 - t0))"
   ]
  },
  {
   "cell_type": "markdown",
   "metadata": {},
   "source": [
    "#### Area under the ROC curve: a function to compute it"
   ]
  },
  {
   "cell_type": "code",
   "execution_count": 59,
   "metadata": {
    "collapsed": true
   },
   "outputs": [],
   "source": [
    "# Get all unique artistId, and broadcast them\n",
    "allItemIDs = np.array(allData.map(lambda x: x[1]).distinct().collect())\n",
    "bAllItemIDs = sc.broadcast(allItemIDs)"
   ]
  },
  {
   "cell_type": "code",
   "execution_count": 60,
   "metadata": {},
   "outputs": [],
   "source": [
    "from random import randint\n",
    "\n",
    "# Depend on the number of item in userIDAndPosItemIDs,\n",
    "# create a set of \"negative\" products for each user. These are randomly chosen\n",
    "# from among all of the other items, excluding those that are \"positive\" for the user.\n",
    "# NOTE 1: mapPartitions operates on many (user,positive-items) pairs at once\n",
    "# NOTE 2: flatMap breaks the collections above down into one big set of tuples\n",
    "def xtractNegative(userIDAndPosItemIDs):\n",
    "    def pickEnoughNegatives(line):\n",
    "        userID = line[0]\n",
    "        posItemIDSet = set(line[1])\n",
    "        #posItemIDSet = line[1]\n",
    "        negative = []\n",
    "        allItemIDs = bAllItemIDs.value\n",
    "        # Keep about as many negative examples per user as positive. Duplicates are OK.\n",
    "        i = 0\n",
    "        while (i < len(allItemIDs) and len(negative) < len(posItemIDSet)):\n",
    "            itemID = allItemIDs[randint(0,len(allItemIDs)-1)]\n",
    "            if itemID not in posItemIDSet:\n",
    "                negative.append(itemID)\n",
    "            i += 1\n",
    "        \n",
    "        # Result is a collection of (user,negative-item) tuples\n",
    "        return map(lambda itemID: (userID, itemID), negative)\n",
    "\n",
    "    # Init an RNG and the item IDs set once for partition\n",
    "    # allItemIDs = bAllItemIDs.value\n",
    "    return map(pickEnoughNegatives, userIDAndPosItemIDs)\n",
    "\n",
    "def ratioOfCorrectRanks(positiveRatings, negativeRatings):\n",
    "    \n",
    "    # find number elements in arr that has index >= start and has value smaller than x\n",
    "    # arr is a sorted array\n",
    "    def findNumElementsSmallerThan(arr, x, start=0):\n",
    "        left = start\n",
    "        right = len(arr) -1\n",
    "        # if x is bigger than the biggest element in arr\n",
    "        if start > right or x > arr[right]:\n",
    "            return right + 1\n",
    "        mid = -1\n",
    "        while left <= right:\n",
    "            mid = (left + right) // 2\n",
    "            if arr[mid] < x:\n",
    "                left = mid + 1\n",
    "            elif arr[mid] > x:\n",
    "                right = mid - 1\n",
    "            else:\n",
    "                while mid-1 >= start and arr[mid-1] == x:\n",
    "                    mid -= 1\n",
    "                return mid\n",
    "        return mid if arr[mid] > x else mid + 1\n",
    "    \n",
    "    ## AUC may be viewed as the probability that a random positive item scores\n",
    "    ## higher than a random negative one. Here the proportion of all positive-negative\n",
    "    ## pairs that are correctly ranked is computed. The result is equal to the AUC metric.\n",
    "    correct = 0 ## L\n",
    "    total = 0 ## L\n",
    "    \n",
    "    # sorting positiveRatings array needs more cost\n",
    "    #positiveRatings = np.array(map(lambda x: x.rating, positiveRatings))\n",
    "\n",
    "    negativeRatings = list(map(lambda x:x.rating, negativeRatings))\n",
    "    \n",
    "    #np.sort(positiveRatings)\n",
    "    negativeRatings.sort()# = np.sort(negativeRatings)\n",
    "    total = len(positiveRatings)*len(negativeRatings)\n",
    "    \n",
    "    for positive in positiveRatings:\n",
    "        # Count the correctly-ranked pairs\n",
    "        correct += findNumElementsSmallerThan(negativeRatings, \n",
    "                                              positive.rating)\n",
    "        \n",
    "    ## Return AUC: fraction of pairs ranked correctly\n",
    "    return float(correct) / total\n",
    "\n",
    "def calculateAUC(positiveData, bAllItemIDs, predictFunction):\n",
    "    # Take held-out data as the \"positive\", and map to tuples\n",
    "    positiveUserProducts = positiveData.map(lambda r: (r[0], r[1]))\n",
    "    # Make predictions for each of them, including a numeric score, and gather by user\n",
    "    positivePredictions = predictFunction(positiveUserProducts)\\\n",
    "                            .groupBy(lambda r: r.user)\n",
    "    \n",
    "    # Create a set of \"negative\" products for each user. These are randomly chosen \n",
    "    # from among all of the other items, excluding those that are \"positive\" for the user. \n",
    "    negativeUserProducts = (positiveUserProducts\n",
    "                                .groupByKey()\n",
    "                                .mapPartitions(xtractNegative)\n",
    "                                .flatMap(lambda x: x))\n",
    "    # Make predictions on the rest\n",
    "    negativePredictions = predictFunction(negativeUserProducts).groupBy(lambda r: r.user)\n",
    "    \n",
    "    return (\n",
    "            positivePredictions.join(negativePredictions)\n",
    "                .values()\n",
    "                .map(\n",
    "                    lambda positive_negativeRatings: \n",
    "                        ratioOfCorrectRanks(\n",
    "                            positive_negativeRatings[0], \n",
    "                            positive_negativeRatings[1]\n",
    "                        )\n",
    "                )\n",
    "                .mean()\n",
    "            )"
   ]
  },
  {
   "cell_type": "markdown",
   "metadata": {},
   "source": [
    "####  Question 9.2\n",
    "<div class=\"alert alert-info\">\n",
    "Using part `cvData` and function `calculateAUC` to compute the AUC of the trained model.\n",
    "</div>"
   ]
  },
  {
   "cell_type": "code",
   "execution_count": 61,
   "metadata": {},
   "outputs": [
    {
     "name": "stdout",
     "output_type": "stream",
     "text": [
      "auc= 0.9645351209907874\n",
      "finish in 49.256 seconds\n"
     ]
    }
   ],
   "source": [
    "t0 = time()\n",
    "auc = calculateAUC( cvData , bAllItemIDs, model.predictAll)\n",
    "t1 = time()\n",
    "print(\"auc=\",auc)\n",
    "print(\"finish in {:.3f} seconds\".format(t1 - t0))"
   ]
  },
  {
   "cell_type": "markdown",
   "metadata": {},
   "source": [
    "#### Answer\n",
    "<div class=\"alert alert-success\">\n",
    "<p>\n",
    "We observe when the ratio of training data is high, the AUC on the validation data is generaly better. However, it increases the risk of overfitting if there is too few validation data and/or the dataset is not heteregeneous.\n",
    "<br>\n",
    "Furthermore, the computing time is smaller when dealing with a smaller number of training data. A good compromise could be be at 80/20 % or maybe even 90/10%.\n",
    "</p>\n",
    "<p>\n",
    "As said, a cross validation approach would also be better but way more computationnaly expensive.\n",
    "</p>\n",
    "</div>"
   ]
  },
  {
   "cell_type": "markdown",
   "metadata": {},
   "source": [
    "#### Question 9.3\n",
    "<div class=\"alert alert-info\">\n",
    "Now we have the AUC of our model, it’s helpful to benchmark this against a simpler approach. For example, consider recommending the globally most-played artists to every user. This is not personalized, but is simple and may be effective.   \n",
    "<ul></ul>\n",
    "Implement this simple pupolarity-based prediction algorithm, evaluate its AUC score, and compare to the results achieved by the more sophisticated ALS algorithm.\n",
    "</div>"
   ]
  },
  {
   "cell_type": "code",
   "execution_count": 62,
   "metadata": {},
   "outputs": [],
   "source": [
    "bListenCount = sc.broadcast(trainData\n",
    "                                .map(lambda r: (r[1], r[2]))\n",
    "                                .reduceByKey(lambda a, b: a+b)\n",
    "                                .collectAsMap())\n",
    "\n",
    "def predictMostListened(allData):\n",
    "    return allData.map(\n",
    "        lambda r: Rating(r[0], \n",
    "                         r[1], \n",
    "                         bListenCount.value.get( r[1] , 0.0))\n",
    "    )"
   ]
  },
  {
   "cell_type": "code",
   "execution_count": 63,
   "metadata": {},
   "outputs": [
    {
     "name": "stdout",
     "output_type": "stream",
     "text": [
      "auc= 0.9367623605060995\n",
      "finish in 17.083 seconds\n"
     ]
    }
   ],
   "source": [
    "t0 = time()\n",
    "auc = calculateAUC(cvData , bAllItemIDs, predictMostListened)\n",
    "t1 = time()\n",
    "print(\"auc=\",auc)\n",
    "print(\"finish in {:.3f} seconds\".format(t1 - t0))"
   ]
  },
  {
   "cell_type": "markdown",
   "metadata": {},
   "source": [
    "## 3.6 Personalized recommendations with ALS\n",
    "\n",
    "In the previous section, we build our models with some given paramters without any knowledge about them. Actually, choosing the best parameters' values is very important. It can significantly affect the quality of models. Especially, with the current implementation of ALS in MLLIB, these parameters are not learned by the algorithm, and must be chosen by the caller. The following parameters should get consideration before training models:\n",
    "\n",
    "* `rank = 10`: the number of latent factors in the model, or equivalently, the number of columns $k$ in the user-feature and product-feature matrices. In non-trivial cases, this is also their rank. \n",
    "\n",
    "* `iterations = 5`: the number of iterations that the factorization runs. Instead of runing the algorithm until RMSE converged which actually takes very long time to finish with large datasets, we only let it run in a given number of iterations. More iterations take more time but may produce a better factorization.\n",
    "\n",
    "* `lambda_ = 0.01`: a standard overfitting parameter. Higher values resist overfitting, but values that are too high hurt the factorization's accuracy.\n",
    "\n",
    "*  `alpha = 1.0`: controls the relative weight of observed versus unobserved userproduct interactions in the factorization. \n",
    "\n",
    "Although all of them have impact on the models' quality, `iterations` is more of a constraint on resources used in the factorization. So, `rank`, `lambda_` and `alpha` can be considered hyperparameters to the model. \n",
    "We will try to find \"good\" values for them. Indeed, the values of hyperparameter are not necessarily optimal. Choosing good hyperparameter values is a common problem in machine learning. The most basic way to choose values is to simply try combinations of values and evaluate a metric for each of them, and choose the combination that produces the best value of the metric. \n"
   ]
  },
  {
   "cell_type": "markdown",
   "metadata": {},
   "source": [
    "### Question 10\n",
    "\n",
    "#### Question 10.1\n",
    "<div class=\"alert alert-info\">\n",
    "For simplicity, assume that we want to explore the following parameter space: $ rank \\in \\{10, 50\\}$, $lambda\\_ \\in \\{1.0, 0.0001\\}$ and $alpha \\in \\{1.0, 40.0\\}$.\n",
    "\n",
    "Find the best combination of them in terms of the highest AUC value.\n",
    "</div>"
   ]
  },
  {
   "cell_type": "code",
   "execution_count": 64,
   "metadata": {},
   "outputs": [
    {
     "name": "stdout",
     "output_type": "stream",
     "text": [
      "Train model with rank=10 lambda_=1.0 alpha=1.0\n",
      "Train model with rank=10 lambda_=1.0 alpha=40.0\n",
      "Train model with rank=10 lambda_=0.0001 alpha=1.0\n",
      "Train model with rank=10 lambda_=0.0001 alpha=40.0\n",
      "Train model with rank=50 lambda_=1.0 alpha=1.0\n",
      "Train model with rank=50 lambda_=1.0 alpha=40.0\n",
      "Train model with rank=50 lambda_=0.0001 alpha=1.0\n",
      "Train model with rank=50 lambda_=0.0001 alpha=40.0\n",
      "Nested loops finished in 1156.817 seconds\n"
     ]
    },
    {
     "data": {
      "text/html": [
       "<div>\n",
       "<style scoped>\n",
       "    .dataframe tbody tr th:only-of-type {\n",
       "        vertical-align: middle;\n",
       "    }\n",
       "\n",
       "    .dataframe tbody tr th {\n",
       "        vertical-align: top;\n",
       "    }\n",
       "\n",
       "    .dataframe thead th {\n",
       "        text-align: right;\n",
       "    }\n",
       "</style>\n",
       "<table border=\"1\" class=\"dataframe\">\n",
       "  <thead>\n",
       "    <tr style=\"text-align: right;\">\n",
       "      <th></th>\n",
       "      <th>params</th>\n",
       "      <th>score</th>\n",
       "    </tr>\n",
       "  </thead>\n",
       "  <tbody>\n",
       "    <tr>\n",
       "      <th>0</th>\n",
       "      <td>(10, 1.0, 40.0)</td>\n",
       "      <td>0.976004</td>\n",
       "    </tr>\n",
       "    <tr>\n",
       "      <th>1</th>\n",
       "      <td>(50, 1.0, 40.0)</td>\n",
       "      <td>0.975977</td>\n",
       "    </tr>\n",
       "    <tr>\n",
       "      <th>2</th>\n",
       "      <td>(10, 0.0001, 40.0)</td>\n",
       "      <td>0.975456</td>\n",
       "    </tr>\n",
       "    <tr>\n",
       "      <th>3</th>\n",
       "      <td>(50, 0.0001, 40.0)</td>\n",
       "      <td>0.975006</td>\n",
       "    </tr>\n",
       "    <tr>\n",
       "      <th>4</th>\n",
       "      <td>(10, 1.0, 1.0)</td>\n",
       "      <td>0.968939</td>\n",
       "    </tr>\n",
       "    <tr>\n",
       "      <th>5</th>\n",
       "      <td>(50, 1.0, 1.0)</td>\n",
       "      <td>0.966766</td>\n",
       "    </tr>\n",
       "    <tr>\n",
       "      <th>6</th>\n",
       "      <td>(10, 0.0001, 1.0)</td>\n",
       "      <td>0.965124</td>\n",
       "    </tr>\n",
       "    <tr>\n",
       "      <th>7</th>\n",
       "      <td>(50, 0.0001, 1.0)</td>\n",
       "      <td>0.953344</td>\n",
       "    </tr>\n",
       "  </tbody>\n",
       "</table>\n",
       "</div>"
      ],
      "text/plain": [
       "               params     score\n",
       "0     (10, 1.0, 40.0)  0.976004\n",
       "1     (50, 1.0, 40.0)  0.975977\n",
       "2  (10, 0.0001, 40.0)  0.975456\n",
       "3  (50, 0.0001, 40.0)  0.975006\n",
       "4      (10, 1.0, 1.0)  0.968939\n",
       "5      (50, 1.0, 1.0)  0.966766\n",
       "6   (10, 0.0001, 1.0)  0.965124\n",
       "7   (50, 0.0001, 1.0)  0.953344"
      ]
     },
     "execution_count": 64,
     "metadata": {},
     "output_type": "execute_result"
    }
   ],
   "source": [
    "t0 = time()\n",
    "\n",
    "evaluations = []\n",
    "\n",
    "for rank in [10, 50]:\n",
    "    for lambda_ in [1.0, 0.0001]:\n",
    "        for alpha in [1.0, 40.0]:\n",
    "            print(\"Train model with rank={} lambda_={} alpha={}\"\n",
    "                      .format(rank, lambda_, alpha))\n",
    "            # with each combination of params, we should run multiple times and get avg\n",
    "            # for simple, we only run one time.\n",
    "            model = ALS.trainImplicit(trainData,\n",
    "                                        rank=rank,\n",
    "                                        iterations=5,\n",
    "                                        lambda_=lambda_,\n",
    "                                        alpha=alpha)\n",
    "            \n",
    "            auc = calculateAUC( cvData , bAllItemIDs, model.predictAll )\n",
    "            \n",
    "            evaluations.append(((rank, lambda_, alpha), auc))\n",
    "            \n",
    "            unpersist(model)\n",
    "            \n",
    "t1 = time()\n",
    "print(\"Nested loops finished in {:.3f} seconds\".format(t1 - t0))\n",
    "\n",
    "evaluations.sort( key=lambda x: x[1], reverse=True )\n",
    "                 \n",
    "evalDataFrame = pd.DataFrame(data=evaluations, \n",
    "                             columns=[\"params\", \"score\"])\n",
    "\n",
    "trainData.unpersist()\n",
    "cvData.unpersist()\n",
    "evalDataFrame"
   ]
  },
  {
   "cell_type": "markdown",
   "metadata": {},
   "source": [
    "#### Answer\n",
    "<div class=\"alert alert-success\">\n",
    "<p>\n",
    "We here use the training data to train the model and compute the auc score.\n",
    "<br>\n",
    "The results here are very specific to the portion trained and the validation data. However, it would be computationnaly much more costly to use the k-fold cross-validation method (it would require k times the current running time, which is already high). \n",
    "<br>\n",
    "Furthermore, this approach of nested-loops evaluation of the parameters is not the most efficient for very precise systems where parameters have to be very precise and therefore the number of tested parameters is higher and the time complexity is then in <code>O(exp(param_number))</code>.\n",
    "</p>\n",
    "</div>"
   ]
  },
  {
   "cell_type": "markdown",
   "metadata": {},
   "source": [
    "#### Question 10.2 \n",
    "<div class=\"alert alert-info\">\n",
    "Using \"optimal\" hyper-parameters in question 10.1, re-train the model and show top-5 artist names recommendated for user `2093760`.\n",
    "</div>"
   ]
  },
  {
   "cell_type": "code",
   "execution_count": 65,
   "metadata": {},
   "outputs": [
    {
     "name": "stdout",
     "output_type": "stream",
     "text": [
      "Best parameters: rank=10 lambda_=1.0 alpha=40.0\n"
     ]
    },
    {
     "data": {
      "text/plain": [
       "MapPartitionsRDD[187] at coalesce at NativeMethodAccessorImpl.java:0"
      ]
     },
     "execution_count": 65,
     "metadata": {},
     "output_type": "execute_result"
    }
   ],
   "source": [
    "bestTraining = evalDataFrame[\"params\"]\\\n",
    "                    .iloc[evalDataFrame[\"score\"].idxmax()]\n",
    "\n",
    "params = {\"rank\":bestTraining[0], \n",
    "          \"iterations\":5, \n",
    "          \"lambda_\":bestTraining[1], \n",
    "          \"alpha\":bestTraining[2]}\n",
    "\n",
    "print(\"Best parameters: rank={rank} lambda_={lambda_} alpha={alpha}\"\n",
    "          .format(**params))\n",
    "\n",
    "model = ALS.trainImplicit( trainData, **params )\n",
    "allData.unpersist()"
   ]
  },
  {
   "cell_type": "code",
   "execution_count": 66,
   "metadata": {},
   "outputs": [
    {
     "name": "stdout",
     "output_type": "stream",
     "text": [
      "\n",
      " User 2093760 top-6 artist recommendations: \n",
      "[unknown]\n",
      "Damien Rice\n",
      "Johnny Cash\n",
      "R.E.M.\n",
      "Coldplay\n",
      "U2\n"
     ]
    }
   ],
   "source": [
    "userID = 2093760\n",
    "recommendations = model.recommendProducts(userID, 6)\n",
    "\n",
    "recommendedProductIDs = { r.product for r in recommendations }\n",
    "\n",
    "print_recommendations(userID, recommendedProductIDs)\n",
    "\n",
    "unpersist(model)"
   ]
  },
  {
   "cell_type": "markdown",
   "metadata": {},
   "source": [
    "#### Answer\n",
    "<div class=\"alert alert-success\">\n",
    "<p>\n",
    "Note: The unknown artist exists in this dataset as the artistID 1034635. As a matter of fact it is a generic artist that is used in replacement for the songs of which the artist are not filled. So we can guess that there are a huge number of these (because nothing is perfect in real data!) and the number of listenings makes that this is recommended to other users whereas this is very generic and does not fit the user taste. Therefore this artist should be removed from the dataset. (For the sake of simplicity we added a 6th artist to be predicted instead of removing the unknown artist and retrain the whole model.)\n",
    "</p>\n",
    "<br>\n",
    "<p class=\"alert alert-warning\">\n",
    "The prediction seems not to be deterministic. This is due to the random values that are used to initialize the feature matrix. Therefore we onlu reach a local minimum and the algorithm is not deterministic. However it still provides good results in general.\n",
    "</p>\n",
    "</div>"
   ]
  },
  {
   "cell_type": "markdown",
   "metadata": {},
   "source": [
    "# 4. Additionnal operations\n",
    "\n",
    "In this part, we are doing some extra manipulations to improve the recommendation system or just to compare the techique we used to other existing techniques."
   ]
  },
  {
   "cell_type": "markdown",
   "metadata": {},
   "source": [
    "## 4.0 A more efficient data cleaning method"
   ]
  },
  {
   "cell_type": "markdown",
   "metadata": {},
   "source": [
    "**Question 11.1 Removing alias chains**\n",
    "<div class=\"alert alert-success\">\n",
    "<p>\n",
    "The way we merged the aliases for mispelled artist IDs is not the most efficient one.\n",
    "</p>\n",
    "<p>\n",
    "The following implementation is an experiment on how we could improve the time complexity of the operation that eliminates the alias chains.\n",
    "</p> \n",
    "</div>"
   ]
  },
  {
   "cell_type": "code",
   "execution_count": 67,
   "metadata": {},
   "outputs": [],
   "source": [
    "# Reimporting aliases\n",
    "\n",
    "rawArtistAlias = sc.textFile(base + \"artist_alias.txt\")\n",
    "\n",
    "artistAlias = (\n",
    "                rawArtistAlias\n",
    "                    # extract fields using function xtractFields\n",
    "                    .map( xtractFields )\n",
    "    \n",
    "                    # filter out the special tuples\n",
    "                    .filter( lambda x:x!=(-1,-1) )\n",
    "    \n",
    "                    # collect result to the driver as a \"dictionary\"\n",
    "                    .collectAsMap()\n",
    "                )"
   ]
  },
  {
   "cell_type": "code",
   "execution_count": 68,
   "metadata": {},
   "outputs": [
    {
     "name": "stdout",
     "output_type": "stream",
     "text": [
      "This method takes 1.484 seconds.\n"
     ]
    }
   ],
   "source": [
    "# Traditionnal method\n",
    "\n",
    "artistAlias_m1 = artistAlias.copy()\n",
    "loops_number =20\n",
    "\n",
    "t0 = time()\n",
    "for _ in range(loops_number):\n",
    "    for k, v in artistAlias_m1.items():\n",
    "        artistAlias_m1[k] = artistAlias_m1.get(v, v)\n",
    "t1 = time()\n",
    "print(\"This method takes {:.3f} seconds.\".format(t1-t0))"
   ]
  },
  {
   "cell_type": "code",
   "execution_count": 69,
   "metadata": {},
   "outputs": [],
   "source": [
    "# Using an accumulation point\n",
    "artistAlias_m2 = artistAlias.copy()\n",
    "\n",
    "def accumulation_points(id_):\n",
    "    \"\"\"\n",
    "        This recursive function changes the \n",
    "        dict values to the accumulation points \n",
    "        for each key in the alias chain.\n",
    "    \"\"\"\n",
    "    if (id_ in artistAlias_m2.keys() \n",
    "        and\n",
    "        artistAlias_m2[id_]!=id_):\n",
    "        \n",
    "        buffer = accumulation_points(artistAlias_m2[id_])\n",
    "        artistAlias_m2[id_] = buffer\n",
    "        return buffer\n",
    "    else:\n",
    "        return id_"
   ]
  },
  {
   "cell_type": "code",
   "execution_count": 70,
   "metadata": {},
   "outputs": [
    {
     "name": "stdout",
     "output_type": "stream",
     "text": [
      "This method takes 0.169 seconds.\n",
      "The results are identicals!\n"
     ]
    }
   ],
   "source": [
    "t0 = time()\n",
    "for k in artistAlias_m2.keys():\n",
    "    accumulation_points(k)\n",
    "t1 = time()\n",
    "\n",
    "print(\"This method takes {:.3f} seconds.\".format(t1-t0))\n",
    "print(\"The results are identicals!\" if artistAlias_m1 == artistAlias_m2 else \"Error\")"
   ]
  },
  {
   "cell_type": "markdown",
   "metadata": {},
   "source": [
    "#### Remark\n",
    "<div class=\"alert alert-success\">\n",
    "<p>\n",
    "This recursive method is very efficient compared to the one that is used is used before. It takes advantage of the `O(1)` access and modification complexity of a dictionnary and is in `O(nlog(n))` for the mean time complexity and in `O(n^2)` for the worse case which is a dictionnary-wide chain.\n",
    "</p>\n",
    "</div>\n"
   ]
  },
  {
   "cell_type": "code",
   "execution_count": 71,
   "metadata": {},
   "outputs": [
    {
     "name": "stdout",
     "output_type": "stream",
     "text": [
      "This method takes 0.117 seconds.\n",
      "The results are identicals!\n"
     ]
    }
   ],
   "source": [
    "# Let's try a map implementation !\n",
    "\n",
    "artistAlias_m3 = artistAlias.copy()\n",
    "\n",
    "t0 = time()\n",
    "# Iterate over the map object (which is an iterable)\n",
    "for _ in map(accumulation_points, artistAlias_m3.keys()):\n",
    "    pass\n",
    "t1 = time()\n",
    "\n",
    "print(\"This method takes {:.3f} seconds.\".format(t1-t0))\n",
    "print(\"The results are identicals!\" if artistAlias_m1 == artistAlias_m3 else \"Error\")"
   ]
  },
  {
   "cell_type": "markdown",
   "metadata": {},
   "source": [
    "#### Remark\n",
    "<div class=\"alert alert-success\">\n",
    "<p>\n",
    "The result is even faster with a map implementation (which is still not distributed but the runtime is very small)! \n",
    "</p>\n",
    "</div>\n"
   ]
  },
  {
   "cell_type": "markdown",
   "metadata": {},
   "source": [
    "#### Answer\n",
    "<div class=\"alert alert-success\">\n",
    "<p>\n",
    "Another method would have been to draw the DAG designed by the original dictionnary (vertices = artistIDs, oriented edges = alias relation) and to get the attractor for each point. Unfortunately the GraphX API is not available for PySpark yet (and the current hack to make it work is not working here: <code>pyspark --packages graphframes:graphframes:0.1.0-spark1.6</code>).\n",
    "</p>\n",
    "</div>\n"
   ]
  },
  {
   "cell_type": "code",
   "execution_count": 72,
   "metadata": {},
   "outputs": [],
   "source": [
    "#freeing memory\n",
    "artistAlias = artistAlias_m2\n",
    "del artistAlias_m1, artistAlias_m2, artistAlias_m3"
   ]
  },
  {
   "cell_type": "markdown",
   "metadata": {},
   "source": [
    "**Question 11.2 Removing outliers**\n",
    "\n",
    "Cf question 2.2"
   ]
  },
  {
   "cell_type": "code",
   "execution_count": 73,
   "metadata": {},
   "outputs": [
    {
     "data": {
      "text/plain": [
       "[Row(userID=1000061, artistID=5741, playCount=1),\n",
       " Row(userID=1000061, artistID=1039532, playCount=1),\n",
       " Row(userID=1000061, artistID=1000158, playCount=16),\n",
       " Row(userID=1000061, artistID=1022505, playCount=1),\n",
       " Row(userID=1000061, artistID=1006016, playCount=21)]"
      ]
     },
     "execution_count": 73,
     "metadata": {},
     "output_type": "execute_result"
    }
   ],
   "source": [
    "cleanUserArtistDF = (\n",
    "    newUserArtistDF\n",
    "        .alias(\"df\")\n",
    "    \n",
    "        # First step for removing the outlier artists:\n",
    "        # Computing their the sum of their playcounts\n",
    "        .join(newUserArtistDF.groupBy( \"artistID\" )\n",
    "                             .sum( \"playCount\" )\n",
    "                             .alias(\"sumArtistDF\"),\n",
    "              col(\"sumArtistDF.artistID\") == col(\"df.artistID\") , \n",
    "              \"left_outer\")\n",
    "    \n",
    "        # Keeping artists in range 40%-100% in play count cumulative chart\n",
    "        .filter(col(\"sumArtistDF.sum(playCount)\") >= int(artist_range[\"min\"]))\n",
    "    \n",
    "        #Same thing with the users\n",
    "        .join(newUserArtistDF.groupBy( \"userID\" )\n",
    "                             .sum( \"playCount\" )\n",
    "                             .alias(\"sumUserDF\"),\n",
    "              col(\"sumUserDF.userID\") == col(\"df.userID\") , \n",
    "              \"left_outer\")\n",
    "    \n",
    "        # Keeping users in range 10%-90%\n",
    "        .filter(col(\"sumUserDF.sum(playCount)\") >= int(user_range[\"min\"]))\n",
    "        .filter(col(\"sumUserDF.sum(playCount)\") <= int(user_range[\"max\"]))\n",
    "    \n",
    "        # Aggregate duplicates\n",
    "    \n",
    "        # Keeping in memory only the legacy structure\n",
    "        .select(col(\"df.userID\"), col(\"df.artistID\"), col(\"df.playCount\"))\n",
    "        \n",
    "        # Removing the [unknown] artist which is not relevant\n",
    "        .filter(col(\"artistID\") != 1034635)\n",
    "    \n",
    "        # Aggregating duplicates\n",
    "        .groupby(\"userID\", \"artistID\")\n",
    "        .sum(\"playCount\")\n",
    "        .withColumnRenamed(\"sum(playCount)\", \"playCount\")\n",
    "    \n",
    "        # Caching the dataframe to use it commonly\n",
    "        .cache()\n",
    ")\n",
    "\n",
    "cleanUserArtistDF.rdd.take(5)"
   ]
  },
  {
   "cell_type": "code",
   "execution_count": 74,
   "metadata": {},
   "outputs": [
    {
     "name": "stdout",
     "output_type": "stream",
     "text": [
      "Total n. of artists:  839085\n"
     ]
    }
   ],
   "source": [
    "# Computing the number of unique artists once removed the outliers\n",
    "\n",
    "uniqueArtists = cleanUserArtistDF.select(\"artistID\").distinct().count()\n",
    "\n",
    "print(\"Total n. of artists: \", uniqueArtists)"
   ]
  },
  {
   "cell_type": "code",
   "execution_count": 75,
   "metadata": {},
   "outputs": [
    {
     "name": "stdout",
     "output_type": "stream",
     "text": [
      "791943 removed non valid entries!\n",
      "(48.55 % of the artist entries)\n"
     ]
    }
   ],
   "source": [
    "print(\"{} removed non valid entries!\"\n",
    "          .format(mispelledUniqueArtists - uniqueArtists)\n",
    "      + \"\\n\" +\n",
    "      \"({:.2f} % of the artist entries)\"\n",
    "          .format(100*(mispelledUniqueArtists - uniqueArtists)/mispelledUniqueArtists))"
   ]
  },
  {
   "cell_type": "markdown",
   "metadata": {},
   "source": [
    "**Question 11.3 Testing the model again**\n",
    "\n",
    "We now have to know if the ALS algorithm performs better without the outliers"
   ]
  },
  {
   "cell_type": "code",
   "execution_count": 76,
   "metadata": {},
   "outputs": [
    {
     "data": {
      "text/plain": [
       "PythonRDD[2225] at RDD at PythonRDD.scala:48"
      ]
     },
     "execution_count": 76,
     "metadata": {},
     "output_type": "execute_result"
    }
   ],
   "source": [
    "# Preparing the data\n",
    "allData = cleanUserArtistDF.rdd\n",
    "\n",
    "allItemIDs = np.array(allData.map(lambda x: x[1]).distinct().collect())\n",
    "bAllItemIDs = sc.broadcast(allItemIDs)\n",
    "\n",
    "trainData, cvData = allData.randomSplit([.9, .1], seed=234)\n",
    "trainData.cache()\n",
    "cvData.cache()"
   ]
  },
  {
   "cell_type": "code",
   "execution_count": 77,
   "metadata": {},
   "outputs": [
    {
     "name": "stdout",
     "output_type": "stream",
     "text": [
      "Model predicted\n",
      "The auc in now 0.973\n"
     ]
    }
   ],
   "source": [
    "# Training and evaluating the model\n",
    "model = ALS.trainImplicit( trainData, **params )\n",
    "\n",
    "print(\"Model predicted\")\n",
    "\n",
    "auc = calculateAUC( cvData , bAllItemIDs, model.predictAll )\n",
    "\n",
    "print(\"The auc in now {:.3f}\".format(auc))"
   ]
  },
  {
   "cell_type": "markdown",
   "metadata": {},
   "source": [
    "#### Answer\n",
    "<div class=\"alert alert-success\">\n",
    "<p>\n",
    "We are now at 97,5% of accuracy instead of 95%, which is a significative improvement!\n",
    "Thus it is extrêmely important to clean data by eliminating outilers.\n",
    "</p>\n",
    "</div>"
   ]
  },
  {
   "cell_type": "markdown",
   "metadata": {},
   "source": [
    "Let's take a look at the new recommendations:"
   ]
  },
  {
   "cell_type": "code",
   "execution_count": 78,
   "metadata": {},
   "outputs": [
    {
     "name": "stdout",
     "output_type": "stream",
     "text": [
      "\n",
      " User 2093756 top-5 artist recommendations: \n",
      "Johnny Cash\n",
      "The Beatles\n",
      "David Bowie\n",
      "The Rolling Stones\n",
      "Beastie Boys\n"
     ]
    }
   ],
   "source": [
    "# Not the same user as the previous one tested\n",
    "# (He was removed with the outliers)\n",
    "userID = 2093756\n",
    "recommendations = model.recommendProducts(userID, 5)\n",
    "\n",
    "recommendedProductIDs = { r.product for r in recommendations }\n",
    "\n",
    "print_recommendations(userID, recommendedProductIDs)\n",
    "\n",
    "unpersist(model)"
   ]
  },
  {
   "cell_type": "markdown",
   "metadata": {},
   "source": [
    "Quite mainstream isn't it?!"
   ]
  },
  {
   "cell_type": "markdown",
   "metadata": {},
   "source": [
    "## 4.1 Clustering users before predicting with K-medoid"
   ]
  },
  {
   "cell_type": "markdown",
   "metadata": {},
   "source": [
    "## Requirements\n",
    "<br>\n",
    "<div>\n",
    "<p>When the user-behavior data is sparse, similar users are difficult to be found in collaborative filtering. But similar\n",
    "users are a critical factor for collaborative filtering. There's a way to ally content-based method and collaborative filtering by clustering users using K-medoids clustering algorithm.</p>\n",
    "<p> \n",
    "    \n",
    " <li> First, we analyze the content of resources by extracting resources features. And we utilize the resources features to cluster similar resources.</li>\n",
    "\n",
    " <li>Second, we apply the condensed user-behavior matrix to generate recommendation resources in user-based collaborative filtering.</li>\n",
    "\n",
    "</p>\n",
    "<p>K-medoids is a clustering algorithm that is related to the k-means algorithm. The k-medoids is a partitioning algorithm that divides the data set up into separate clusters. The algorithm attempts to minimize the squared error, which is the distance between points in the cluster and a point that is designated as the center (medoid) of the cluster. A medoid is considered as an object of a cluster whose average dissimilarity to all the\n",
    "objects in a cluster is minimal.</p>\n",
    "<p>K-medoids algorithm is comparatively robust than K-means particularly in the context of outliers and noise because\n",
    "the K-means algorithm is sensetive to outliers. Because a mean is sensetive to the outliers, in our case for example, if you look at a playcount of a user in a whole group of users listening to Taylor Swift (for example) and you add another playcount which is very high the average playcount will shift a lot. So instead of taking the mean value of object in a cluster as a centroid the most centrally located object is used in the cluster as a medoid in K-medoids. The user gives the number of clusters required. This algorithm depends on the minimizing the sum of dissimilarities (distance) between each object and its medoid.</p>\n",
    "<p>However K-medoids has some limitations. K-medoids clustering algorithm centroids are initially selected by the user. Therefore, performance of these algorithms depends on this manual selection of centroids. It works\n",
    "inefficiently for large data sets due to its complexity.</p>\n",
    "<p>\n",
    "Thus for all the reasons exposed we chose this method for user clustering.\n",
    "</p>\n",
    "<br>\n",
    "The steps are as follow :\n",
    "    <li>We normalize the playcout (corresponding to each artist) per user: we won't only consider the play count and artist listened to find out similarities, we will consider 'frequencies'</li>\n",
    "    <li>We will use n-gram method and combine it to the frequencies by using a threshold</li>\n",
    "    <li>Then we compute the n-gram similarity to draw the distance matrix</li>\n",
    "    <li>We compute the Kmedoid applied to the distance matrix</li>\n",
    "</div>"
   ]
  },
  {
   "cell_type": "markdown",
   "metadata": {},
   "source": [
    "## Normalization\n",
    "\n",
    "<div class=\"alert alert-info\">\n",
    "First, we have to consider that if two users listen to the same artists it won't be at the same frequency. We wanted to make sure that we won't only take into account the fact that two user can listen to the same artists but also that they like the same artists. That's why we will use frequencies and a threshold to make sure that the artists listened that we will take into account are the artists the user likes.\n",
    "</div>"
   ]
  },
  {
   "cell_type": "code",
   "execution_count": 79,
   "metadata": {},
   "outputs": [
    {
     "name": "stdout",
     "output_type": "stream",
     "text": [
      "+-------+--------+--------------------+\n",
      "| userID|artistID|            playRate|\n",
      "+-------+--------+--------------------+\n",
      "|1000061| 1000158| 0.06866952789699571|\n",
      "|1000061| 1006016| 0.09012875536480687|\n",
      "|1000061| 1005290|0.030042918454935622|\n",
      "|1000061| 1008337|0.034334763948497854|\n",
      "|1000061| 1002068|0.030042918454935622|\n",
      "+-------+--------+--------------------+\n",
      "only showing top 5 rows\n",
      "\n"
     ]
    }
   ],
   "source": [
    "Threeshold_value = .03\n",
    "\n",
    "userSum = cleanUserArtistDF.groupBy(\"userID\").sum(\"playCount\")\n",
    "\n",
    "userFrequencies = (\n",
    "    cleanUserArtistDF.alias(\"df\")\n",
    "                .join(userSum.alias(\"uSum\"), \n",
    "                      col(\"df.userID\") == col(\"uSum.userID\"), \n",
    "                      \"left_outer\")\n",
    "                .withColumn('playRate', \n",
    "                            col('playCount')/col('sum(playCount)'))\n",
    "                .select(col('df.userID'), 'artistID', 'playRate')\n",
    "                .filter(\"playRate>=\"+str(Threeshold_value))\n",
    ")\n",
    "\n",
    "userFrequencies.show(5)\n",
    "                            "
   ]
  },
  {
   "cell_type": "markdown",
   "metadata": {},
   "source": [
    "## N-Gram Similarity\n",
    "                            \n",
    "<p>Now, given two userss and their corresponding sets S1 and S2 of n-grams, White proposes to consider the following n-gram similarity:\n",
    "$$s(S1,S2)= \\frac{2·|S1∩S2|}{|S1| + |S2|}$$\n",
    "</p>\n",
    "<p>For which we note that 0 ≤ s ≤ 1. We also observe that s = 1 if S1 and S2 are equal and that s=0 if S1 and S2 are disjoint, i.e. do not share any n-gram.</p>\n",
    "<p>In order to turn this similarity measure into a distance, we simply define\n",
    "$$d(S1, S2) = 1 − s(S1, S2)$$\n",
    "such that d=0 if S1 and S2 are equal and d>0 otherwise.</p> "
   ]
  },
  {
   "cell_type": "markdown",
   "metadata": {},
   "source": [
    "First we compute a function to find the n-grams for a user."
   ]
  },
  {
   "cell_type": "code",
   "execution_count": 80,
   "metadata": {},
   "outputs": [
    {
     "data": {
      "text/plain": [
       "[(2072200, <pyspark.resultiterable.ResultIterable at 0x7f0e8aa75f60>),\n",
       " (2225800, <pyspark.resultiterable.ResultIterable at 0x7f0e8aa75438>),\n",
       " (2323800, <pyspark.resultiterable.ResultIterable at 0x7f0e8aa75550>),\n",
       " (2440600, <pyspark.resultiterable.ResultIterable at 0x7f0e8aa75390>),\n",
       " (1045800, <pyspark.resultiterable.ResultIterable at 0x7f0e8aa75320>)]"
      ]
     },
     "execution_count": 80,
     "metadata": {},
     "output_type": "execute_result"
    }
   ],
   "source": [
    "userFrequenciesRDD = (userFrequencies\n",
    "                          .select(\"userId\",\"ArtistId\")\n",
    "                          .rdd\n",
    "                          .groupByKey()\n",
    "                          .cache())\n",
    "userFrequenciesRDD.take(5)"
   ]
  },
  {
   "cell_type": "code",
   "execution_count": 81,
   "metadata": {},
   "outputs": [],
   "source": [
    "def ngrams_similarity(userID1, userID2):\n",
    "    \"\"\"\n",
    "        This function will be used as a distance function\n",
    "        in the k-medoid clustering implementation\n",
    "    \"\"\"\n",
    "    user1 = userFrequencies.filter(col(\"userID\") == userID1).select(\"ArtistId\")\n",
    "    user2 = userFrequencies.filter(col(\"userID\") == userID2).select(\"ArtistId\")\n",
    "    len_user1 = user1.count()\n",
    "    len_user2 = user2.count()\n",
    "    intersect = user1.intersection(user2)\n",
    "    len_intersect = intersect.distinct().count()\n",
    "    dist = 1-2*len_intersect/float(len_user1+len_user2)\n",
    "    return dist"
   ]
  },
  {
   "cell_type": "markdown",
   "metadata": {},
   "source": [
    "## K-Medoid Clustering Algorithm"
   ]
  },
  {
   "cell_type": "markdown",
   "metadata": {},
   "source": [
    "The most common realisation of k-medoid clustering is the Partitioning Around Medoids (PAM) algorithm. PAM uses a greedy search which may not find the optimum solution, but it is faster than exhaustive search. It works as follows:\n",
    "\n",
    "1. Initialize: randomly initialize an array of k medoid indices\n",
    "2. Initialize a dictionary to represent clusters\n",
    "3. For k in range kmax:\n",
    "    1. Determine clusters, i.e. arrays of data indices:\n",
    "    2. Update cluster medoids\n",
    "    3. Check for convergence"
   ]
  },
  {
   "cell_type": "code",
   "execution_count": 82,
   "metadata": {},
   "outputs": [],
   "source": [
    "from random import sample\n",
    "\n",
    "# The medoids are defined as user IDs\n",
    "\n",
    "def closest_medoid(userID, medoids):\n",
    "    \"\"\"\n",
    "        Returns the closest medoid from a single user\n",
    "    \"\"\"\n",
    "    distance_from_meds = np.array([ngrams_similarity(userID, med) for med in medoids])\n",
    "    return userID[distance_from_meds.argmin()]\n",
    "\n",
    "def closests_medoid(userIDs, medoids):\n",
    "    \"\"\"\n",
    "        Returns the closest medoids from a list of users\n",
    "    \"\"\"\n",
    "    return [closest_medoid(userID, medoids) for userID in userIDs]\n",
    "\n",
    "def init_medoids(userIDs, med_nb, seed=None):\n",
    "    \"\"\"\n",
    "        return random medoids\n",
    "    \"\"\"\n",
    "    # Perform a choice in the data\n",
    "    return sample(userIDs, med_nb)\n",
    "\n",
    "def medoid_calc(userIDs):\n",
    "    sum_dist_tab = np.array([sum([ngrams_similarity(userID, med) \n",
    "                         for userID in userIDs ]) \n",
    "                            for med in userIDs])\n",
    "    return userIDs[sum_dist_tab.argmin()]\n",
    "\n",
    "def clusters_from_medoids(userIDs, medoids):\n",
    "    \"\"\"\n",
    "        Returns the clustered data from the medoids\n",
    "        \n",
    "        Note that the medoid of a cluster is both the key \n",
    "        of it and included in the values\n",
    "    \"\"\"\n",
    "    # medoid is the key, a list of userIDs the values\n",
    "    clusters = dict()\n",
    "    for userID in userIDs:\n",
    "        clusters[closest_medoid(userID, medoids)].append(userID)\n",
    "    return clusters"
   ]
  },
  {
   "cell_type": "code",
   "execution_count": 83,
   "metadata": {},
   "outputs": [],
   "source": [
    "def kmedoid(userIDs, k, maxiter=300, seed=None):\n",
    "    \"\"\"\n",
    "        Finds the medoids that best suits the data.\n",
    "        It also process the medoid init\n",
    "        \n",
    "        @param X is the list of userIDs\n",
    "        @param k is the number of clusters\n",
    "        @param maxiter is the maximum number of iterations\n",
    "        @param seed is used for the init of the medoids\n",
    "    \"\"\"\n",
    "    medoids = init_medoids(userIDs, k, seed)\n",
    "\n",
    "    for _ in range(maxiter):\n",
    "        clusters = clusters_from_medoids(userIDs, medoids)\n",
    "        new_medoids = [ medoid_calc[v] for k, v in clusters.items() ]\n",
    "        if np.equal(new_medoids, medoids).all(): break\n",
    "        else: medoids = medoids\n",
    "    return medoids"
   ]
  },
  {
   "cell_type": "code",
   "execution_count": 84,
   "metadata": {},
   "outputs": [],
   "source": [
    "userIDs = cleanUserArtistDF.select(\"userID\").distinct().toPandas().userID.tolist()"
   ]
  },
  {
   "cell_type": "markdown",
   "metadata": {},
   "source": [
    "```python\n",
    "medoids = kmedoid(userIDs, 1000, maxiter=30, seed=None)\n",
    "clusters = clusters_from_medoids(userIDs, medoids)\n",
    "```"
   ]
  },
  {
   "cell_type": "markdown",
   "metadata": {},
   "source": [
    "#### Answer\n",
    "<div class=\"alert alert-success\">\n",
    "<p>\n",
    "We need to know the number of cluster that best suits the problem.\n",
    "</p>\n",
    "<br>\n",
    "<p>\n",
    "The idea of clustering the users is also made in order to compute the utility matrix (which for $10^5$ users would be of $10^{10} $ cells, and wouldn't fit in memory). By clustering the data (and hoping that the clusters are beeing of the same size), this reduce the spatial complexity of storing the matrix to $nb\\_clusters \\times \\frac{nb\\_users^2}{nb\\_clusters^2} = \\frac{nb\\_users^2}{nb\\_clusters}$\n",
    "<br>\n",
    "Here, we then divided by $10^3$ the spatial complexity of the utility matrix.\n",
    "</p>\n",
    "<br>\n",
    "<p class=\"alert alert-warning\">\n",
    "The previous cell won't work well as by decreasing the space complexity, we hugely increased the time complexity by calculating each time the *distance* using sql.\n",
    "\n",
    "A better way to do it could have been to use RDDs and to map the distances such that there would have been distance matrices from userIDs to medoids. This is also computationnaly costly, but less.\n",
    "<p>\n",
    "</div>"
   ]
  },
  {
   "cell_type": "markdown",
   "metadata": {},
   "source": [
    "### Better Prediction\n",
    "\n",
    "<p>LightFM is a Python implementation of a number of popular recommendation algorithms for both implicit and explicit feedback.</p>\n",
    "\n",
    "<p>It also makes it possible to incorporate both item and user metadata into the traditional matrix factorization algorithms. It represents each user and item as the sum of the latent representations of their features, thus allowing recommendations to generalise to new items (via item features) and to new users (via user features).</p>"
   ]
  },
  {
   "cell_type": "markdown",
   "metadata": {},
   "source": [
    "### Motivation\n",
    "\n",
    "The structure of the LightFM model is motivated by two considerations.\n",
    "1. The model must be able to learn user and item representations from interaction data: if items  are consistently all liked by users, the model must learn that those items are similar.\n",
    "2. The model must be able to compute recommendations for new items and users. \n",
    "\n",
    "<p>The first requirement is fulfiled by using the latent representation approach. If two songs are both liked by the same users, their embeddings will be close together; but in the contrary if they are never liked by the same users, their embeddings will be far apart.</p>\n",
    "<p>Such representations allow transfer learning to occur. If the representations for two songs, song 1 and song 2 - systematically liked by the same users - are similar, we can confidently recommend song 1 to a new user who has so far only interacted with song 2. </p>\n",
    "<p>This is over and above what pure Content-based models using dimensionality reduction techniques (such as latent semantic indexing, LSI) can achieve, as these only encode information given by feature co-occurrence rather than user actions. For example, suppose that all users who listen to items described as pop-songs also listen to items described as classic music, but the two features never describe the same item. In this case, the LSI vector for wayfarers will not be similar to the one for popsong even though collaborative information suggests it should be.</p>\n",
    "<p>The second requirement is fulfilled by representing items and users as linear combinations of their content features. Because content features are known the moment a user or item enters the system, this allows recommendations to be made straight away.</p>"
   ]
  },
  {
   "cell_type": "markdown",
   "metadata": {},
   "source": [
    "### Usage\n",
    "\n",
    "<div class=\"alert alert-info\">\n",
    "<p>\n",
    "    The implementation which could have been made is based on the clustering of the data. Users are in one (or multiple) clusters and their suggestions are based on other users activity, within their cluster. This would lead to necessary computationnal reduction as the current implementation of this algorithm is serial.\n",
    "</p>\n",
    "</div>\n",
    "<div class=\"alert alert-success\">\n",
    "<p>\n",
    "    A drawback from this system is that the users are in closed clusters and it is very difficult for them to *escape* those clusters and therefore to have a huge range of recommandations. Therefore multiclustering could partialy solve this issue, but this also has a computationnal cost. \n",
    "</p>\n",
    "</div>"
   ]
  },
  {
   "cell_type": "markdown",
   "metadata": {},
   "source": [
    "```python\n",
    "!pip install -q lightfm\n",
    "from lightfm import LightFM\n",
    "```"
   ]
  },
  {
   "cell_type": "markdown",
   "metadata": {},
   "source": [
    "<p>Model fitting is very straightforward using the main LightFM class.</p>\n",
    "\n",
    "<p>First we create a model instance with the desired latent dimensionality</p>"
   ]
  },
  {
   "cell_type": "markdown",
   "metadata": {},
   "source": [
    "```python\n",
    "model = LightFM(learning_schedule='adagrad', learning_rate=0.05, loss='bpr')\n",
    "```"
   ]
  },
  {
   "cell_type": "markdown",
   "metadata": {},
   "source": [
    "<p>Four loss functions are available:</p>\n",
    "\n",
    "1. logistic: useful when both positive (1) and negative (-1) interactions are present.\n",
    "2. BPR: Bayesian Personalised Ranking pairwise loss. Maximises the prediction difference between a positive example and a randomly chosen negative example. Useful when only positive interactions are present and optimising ROC AUC is desired.\n",
    "3. WARP: Weighted Approximate-Rank Pairwise loss. Maximises the rank of positive examples by repeatedly sampling negative examples until rank violating one is found. Useful when only positive interactions are present and optimising the top of the recommendation list (precision@k) is desired.\n",
    "4. k-OS WARP: k-th order statistic loss. A modification of WARP that uses the k-th positive example for any given user as a basis for pairwise updates.\n",
    "\n",
    "<p>We would have chosen BPR as it was the only one corresponding to the data we have. Indeed, it is said that it is useful when there are only positive interactions.</p>\n",
    "\n",
    "<p> [BPR] (http://blog.ethanrosenthal.com/2016/11/07/implicit-mf-part-2/) is a method for Leanring to Rank comparable to ALS or conventional Stochastic Gradient Descent."
   ]
  },
  {
   "cell_type": "markdown",
   "metadata": {},
   "source": [
    "User and item features can be incorporated into training by passing them into the fit method. "
   ]
  },
  {
   "cell_type": "markdown",
   "metadata": {},
   "source": [
    "# Summary\n",
    "\n",
    "In this notebook, we introduce an algorithm to do matrix factorization and the way of using it to make recommendation. Further more, we studied how to build a large-scale recommender system on SPARK using ALS algorithm and evaluate its quality. Finally, a simple approach to choose good parameters is mentioned."
   ]
  },
  {
   "cell_type": "markdown",
   "metadata": {},
   "source": [
    "# References\n",
    "\n",
    "- The example in section 2 is taken from [Recommender system](infolab.stanford.edu/~ullman/mmds/ch9.pdf)\n",
    "- The part on k-medoid was inspired of the K-means lab from the CLOUDS Course and from [NumPy / SciPy Recipes for Data Science: k-Medoids Clustering](https://www.researchgate.net/profile/Christian_Bauckhage/publication/272351873_NumPy_SciPy_Recipes_for_Data_Science_k-Medoids_Clustering/links/54e244d10cf29666379649bc/NumPy-SciPy-Recipes-for-Data-Science-k-Medoids-Clustering.pdf)\n",
    "- The documentation on LightFM can be found here:\n",
    "    - [Metadata Embeddings for User and Item Cold-start Recommendations](http://ceur-ws.org/Vol-1448/paper4.pdf)\n",
    "    - [LightFM's Documentation](https://lyst.github.io/lightfm/docs/examples/movielens_implicit.html)"
   ]
  }
 ],
 "metadata": {
  "kernelspec": {
   "display_name": "Python 3",
   "language": "python",
   "name": "python3"
  },
  "language_info": {
   "codemirror_mode": {
    "name": "ipython",
    "version": 3
   },
   "file_extension": ".py",
   "mimetype": "text/x-python",
   "name": "python",
   "nbconvert_exporter": "python",
   "pygments_lexer": "ipython3",
   "version": "3.6.4"
  }
 },
 "nbformat": 4,
 "nbformat_minor": 2
}
